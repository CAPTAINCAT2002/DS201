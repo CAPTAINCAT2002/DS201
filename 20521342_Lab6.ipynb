{
  "cells": [
    {
      "cell_type": "code",
      "execution_count": 75,
      "metadata": {
        "colab": {
          "base_uri": "https://localhost:8080/"
        },
        "id": "Qq6tOxCcFEzx",
        "outputId": "98e31804-0ca7-46b6-f842-0ace756bdadb"
      },
      "outputs": [
        {
          "output_type": "stream",
          "name": "stdout",
          "text": [
            "Drive already mounted at /content/drive; to attempt to forcibly remount, call drive.mount(\"/content/drive\", force_remount=True).\n"
          ]
        }
      ],
      "source": [
        "from google.colab import drive\n",
        "drive.mount('/content/drive')"
      ]
    },
    {
      "cell_type": "code",
      "execution_count": 76,
      "metadata": {
        "id": "gbYHafR8Gj1B"
      },
      "outputs": [],
      "source": [
        "import pandas as pd\n",
        "import numpy as np\n",
        "import matplotlib.pyplot as plt"
      ]
    },
    {
      "cell_type": "code",
      "execution_count": 77,
      "metadata": {
        "id": "qiqWJ49AF-I-"
      },
      "outputs": [],
      "source": [
        "X_train = pd.read_csv('/content/drive/MyDrive/DS201/ UIT-VSFC/train/sents.txt',sep='\\n', header=None, index_col=None)\n",
        "y_train =pd.read_csv('/content/drive/MyDrive/DS201/ UIT-VSFC/train/sentiments.txt',sep='\\n', header=None, index_col=None)\n",
        "X_dev = pd.read_csv('/content/drive/MyDrive/DS201/ UIT-VSFC/dev/sents.txt',sep='\\n', header=None, index_col=None)\n",
        "y_dev = pd.read_csv('/content/drive/MyDrive/DS201/ UIT-VSFC/dev/sentiments.txt',sep='\\n', header=None, index_col=None)\n",
        "X_test = pd.read_csv('/content/drive/MyDrive/DS201/ UIT-VSFC/test/sents.txt',sep='\\n', header=None, index_col=None)\n",
        "y_test = pd.read_csv('/content/drive/MyDrive/DS201/ UIT-VSFC/test/sentiments.txt',sep='\\n', header=None, index_col=None)\n",
        "\n",
        "\n",
        "\n",
        "y_train = y_train.values.flatten()\n",
        "y_dev = y_dev.values.flatten()\n",
        "y_test = y_test.values.flatten()"
      ]
    },
    {
      "cell_type": "code",
      "execution_count": 78,
      "metadata": {
        "colab": {
          "base_uri": "https://localhost:8080/"
        },
        "id": "u-OlYAmCGwUj",
        "outputId": "7489f03e-a873-4d25-b21e-944a54d2de3e"
      },
      "outputs": [
        {
          "output_type": "execute_result",
          "data": {
            "text/plain": [
              "(11426, 1)"
            ]
          },
          "metadata": {},
          "execution_count": 78
        }
      ],
      "source": [
        "X_train.shape"
      ]
    },
    {
      "cell_type": "code",
      "execution_count": 79,
      "metadata": {
        "colab": {
          "base_uri": "https://localhost:8080/"
        },
        "id": "ihOgDNG6G1h1",
        "outputId": "ce86bf7c-6364-4617-b448-9c9b6e9083ad"
      },
      "outputs": [
        {
          "output_type": "execute_result",
          "data": {
            "text/plain": [
              "(1583, 1)"
            ]
          },
          "metadata": {},
          "execution_count": 79
        }
      ],
      "source": [
        "X_dev.shape"
      ]
    },
    {
      "cell_type": "code",
      "execution_count": 80,
      "metadata": {
        "colab": {
          "base_uri": "https://localhost:8080/"
        },
        "id": "tgqW5VXBGzjE",
        "outputId": "b8ee6dea-8de7-415b-d4a3-3020a6b06b23"
      },
      "outputs": [
        {
          "output_type": "execute_result",
          "data": {
            "text/plain": [
              "(3166, 1)"
            ]
          },
          "metadata": {},
          "execution_count": 80
        }
      ],
      "source": [
        "X_test.shape"
      ]
    },
    {
      "cell_type": "code",
      "execution_count": 81,
      "metadata": {
        "colab": {
          "base_uri": "https://localhost:8080/"
        },
        "id": "S6az60DHMWtB",
        "outputId": "8026478f-e520-4eae-feac-1dfee8bfc48f"
      },
      "outputs": [
        {
          "output_type": "execute_result",
          "data": {
            "text/plain": [
              "0.7063987635239567"
            ]
          },
          "metadata": {},
          "execution_count": 81
        }
      ],
      "source": [
        "(X_train.shape[0]) / (X_train.shape[0] + X_dev.shape[0] + X_test.shape[0])"
      ]
    },
    {
      "cell_type": "code",
      "execution_count": 82,
      "metadata": {
        "colab": {
          "base_uri": "https://localhost:8080/"
        },
        "id": "lJXl8NdIMsQc",
        "outputId": "87603f3a-9527-4dc6-9a46-564ea961e0df"
      },
      "outputs": [
        {
          "output_type": "execute_result",
          "data": {
            "text/plain": [
              "0.09786707882534776"
            ]
          },
          "metadata": {},
          "execution_count": 82
        }
      ],
      "source": [
        "X_dev.shape[0] / (X_train.shape[0] + X_dev.shape[0] + X_test.shape[0])"
      ]
    },
    {
      "cell_type": "code",
      "execution_count": 83,
      "metadata": {
        "colab": {
          "base_uri": "https://localhost:8080/"
        },
        "id": "y0jD5fd7MwbE",
        "outputId": "e84c92c1-aa79-4337-b36e-e9087b3a24c4"
      },
      "outputs": [
        {
          "output_type": "execute_result",
          "data": {
            "text/plain": [
              "0.19573415765069552"
            ]
          },
          "metadata": {},
          "execution_count": 83
        }
      ],
      "source": [
        "X_test.shape[0] / (X_train.shape[0] + X_dev.shape[0] + X_test.shape[0])"
      ]
    },
    {
      "cell_type": "markdown",
      "metadata": {
        "id": "hoeoaJx9ObwG"
      },
      "source": [
        "Ti le Train : Test : Dev = 7:2:1"
      ]
    },
    {
      "cell_type": "code",
      "execution_count": 84,
      "metadata": {
        "colab": {
          "base_uri": "https://localhost:8080/"
        },
        "id": "ZtAxXVImLw3N",
        "outputId": "cb7caed6-e1e7-446e-d8c3-64f6c28e1883"
      },
      "outputs": [
        {
          "output_type": "execute_result",
          "data": {
            "text/plain": [
              "array([0, 0, 2, ..., 0, 0, 0])"
            ]
          },
          "metadata": {},
          "execution_count": 84
        }
      ],
      "source": [
        "y_dev"
      ]
    },
    {
      "cell_type": "markdown",
      "metadata": {
        "id": "BfGcf_mXIEkn"
      },
      "source": [
        "##TRAIN"
      ]
    },
    {
      "cell_type": "code",
      "execution_count": 85,
      "metadata": {
        "id": "R8WTHL7LG6E3"
      },
      "outputs": [],
      "source": [
        "label1= list(set(y_train))"
      ]
    },
    {
      "cell_type": "code",
      "execution_count": 86,
      "metadata": {
        "id": "yMKZj6sCHrJH"
      },
      "outputs": [],
      "source": [
        "list_label1=dict()\n",
        "\n",
        "for l in label1:\n",
        "  list_label1[l] = list(y_train).count(l)"
      ]
    },
    {
      "cell_type": "code",
      "execution_count": 87,
      "metadata": {
        "colab": {
          "base_uri": "https://localhost:8080/"
        },
        "id": "6FcHPLqfH2Tx",
        "outputId": "ad69068f-6315-49aa-b6c8-735f0fb7ef40"
      },
      "outputs": [
        {
          "output_type": "execute_result",
          "data": {
            "text/plain": [
              "{0: 5325, 1: 458, 2: 5643}"
            ]
          },
          "metadata": {},
          "execution_count": 87
        }
      ],
      "source": [
        "list_label1"
      ]
    },
    {
      "cell_type": "code",
      "execution_count": 88,
      "metadata": {
        "colab": {
          "base_uri": "https://localhost:8080/",
          "height": 281
        },
        "id": "tcxiXs02NS7l",
        "outputId": "34481f26-79fd-4f91-a66d-a105ff8bc9ab"
      },
      "outputs": [
        {
          "output_type": "execute_result",
          "data": {
            "text/plain": [
              "Text(0.5, 1.0, 'Bieu do tron tap Train')"
            ]
          },
          "metadata": {},
          "execution_count": 88
        },
        {
          "output_type": "display_data",
          "data": {
            "text/plain": [
              "<Figure size 432x288 with 1 Axes>"
            ],
            "image/png": "[encoded data removed]"
          },
          "metadata": {}
        }
      ],
      "source": [
        "plt.pie(x=list_label1.values(),labels=list_label1.keys(),autopct='%.0f%%')\n",
        "plt.title(\"Bieu do tron tap Train\")"
      ]
    },
    {
      "cell_type": "code",
      "execution_count": 89,
      "metadata": {
        "colab": {
          "base_uri": "https://localhost:8080/",
          "height": 281
        },
        "id": "cW6XFiFyH78o",
        "outputId": "b7c44c3c-7d20-4c53-e35b-19b84e4c1686"
      },
      "outputs": [
        {
          "output_type": "display_data",
          "data": {
            "text/plain": [
              "<Figure size 432x288 with 1 Axes>"
            ],
            "image/png": "[encoded data removed]"
          },
          "metadata": {
            "needs_background": "light"
          }
        }
      ],
      "source": [
        "plt.bar(list_label1.keys(),list_label1.values())\n",
        "plt.title(\"Bieu do cot tap Train\")\n",
        "plt.show()"
      ]
    },
    {
      "cell_type": "markdown",
      "metadata": {
        "id": "J_12kJDSIJjy"
      },
      "source": [
        "##TEST"
      ]
    },
    {
      "cell_type": "code",
      "execution_count": 90,
      "metadata": {
        "id": "MkkAqkjBICjw"
      },
      "outputs": [],
      "source": [
        "label2= list(set(y_test))"
      ]
    },
    {
      "cell_type": "code",
      "execution_count": 91,
      "metadata": {
        "id": "_CA3zqcfIPej"
      },
      "outputs": [],
      "source": [
        "list_label2=dict()\n",
        "\n",
        "for l in label2:\n",
        "   list_label2[l]=list(y_test).count(l)"
      ]
    },
    {
      "cell_type": "code",
      "execution_count": 92,
      "metadata": {
        "colab": {
          "base_uri": "https://localhost:8080/"
        },
        "id": "4UhG6QNAIh_a",
        "outputId": "c8322806-7454-4610-ccbd-69ae2612295b"
      },
      "outputs": [
        {
          "output_type": "execute_result",
          "data": {
            "text/plain": [
              "{0: 1409, 1: 167, 2: 1590}"
            ]
          },
          "metadata": {},
          "execution_count": 92
        }
      ],
      "source": [
        "list_label2"
      ]
    },
    {
      "cell_type": "code",
      "execution_count": 93,
      "metadata": {
        "colab": {
          "base_uri": "https://localhost:8080/",
          "height": 281
        },
        "id": "mj6rT1VDNbEX",
        "outputId": "df3b65f4-68d9-4b15-d637-f43aa331f16b"
      },
      "outputs": [
        {
          "output_type": "execute_result",
          "data": {
            "text/plain": [
              "Text(0.5, 1.0, 'Bieu do tron tap Test')"
            ]
          },
          "metadata": {},
          "execution_count": 93
        },
        {
          "output_type": "display_data",
          "data": {
            "text/plain": [
              "<Figure size 432x288 with 1 Axes>"
            ],
            "image/png": "[encoded data removed]"
          },
          "metadata": {}
        }
      ],
      "source": [
        "plt.pie(x=list_label2.values(),labels=list_label2.keys(),autopct='%.0f%%')\n",
        "plt.title(\"Bieu do tron tap Test\")"
      ]
    },
    {
      "cell_type": "code",
      "execution_count": 94,
      "metadata": {
        "colab": {
          "base_uri": "https://localhost:8080/",
          "height": 281
        },
        "id": "5iWyGKFbIt9m",
        "outputId": "33c74a24-301f-43fd-cfb0-27e100e8c98e"
      },
      "outputs": [
        {
          "output_type": "display_data",
          "data": {
            "text/plain": [
              "<Figure size 432x288 with 1 Axes>"
            ],
            "image/png": "[encoded data removed]"
          },
          "metadata": {
            "needs_background": "light"
          }
        }
      ],
      "source": [
        "plt.bar(list_label2.keys(),list_label2.values())\n",
        "plt.title(\"Bieu do cot tap Test\")\n",
        "plt.show()"
      ]
    },
    {
      "cell_type": "markdown",
      "metadata": {
        "id": "karBkvHAJO7_"
      },
      "source": [
        "##DEV"
      ]
    },
    {
      "cell_type": "code",
      "execution_count": 95,
      "metadata": {
        "id": "4TbyZsJAJEhC"
      },
      "outputs": [],
      "source": [
        "label3 = list(set(y_dev))"
      ]
    },
    {
      "cell_type": "code",
      "execution_count": 96,
      "metadata": {
        "id": "Y2oPE0xFJZWg"
      },
      "outputs": [],
      "source": [
        "list_label3 = dict()\n",
        "\n",
        "for l in label3:\n",
        "  list_label3[l]=list(y_dev).count(l)"
      ]
    },
    {
      "cell_type": "code",
      "execution_count": 97,
      "metadata": {
        "colab": {
          "base_uri": "https://localhost:8080/"
        },
        "id": "JDASwIOuKyEB",
        "outputId": "8b546567-99a4-41bc-a8ea-59a06fa688f1"
      },
      "outputs": [
        {
          "output_type": "execute_result",
          "data": {
            "text/plain": [
              "{0: 705, 1: 73, 2: 805}"
            ]
          },
          "metadata": {},
          "execution_count": 97
        }
      ],
      "source": [
        "list_label3"
      ]
    },
    {
      "cell_type": "code",
      "execution_count": 98,
      "metadata": {
        "colab": {
          "base_uri": "https://localhost:8080/",
          "height": 281
        },
        "id": "ggut-5SoNhq2",
        "outputId": "2c6e9331-b147-42cc-db88-5f2aa7de94ec"
      },
      "outputs": [
        {
          "output_type": "execute_result",
          "data": {
            "text/plain": [
              "Text(0.5, 1.0, 'Bieu do tron tap Dev')"
            ]
          },
          "metadata": {},
          "execution_count": 98
        },
        {
          "output_type": "display_data",
          "data": {
            "text/plain": [
              "<Figure size 432x288 with 1 Axes>"
            ],
            "image/png": "[encoded data removed]"
          },
          "metadata": {}
        }
      ],
      "source": [
        "plt.pie(x=list_label3.values(),labels=list_label3.keys(),autopct='%.0f%%')\n",
        "plt.title(\"Bieu do tron tap Dev\")"
      ]
    },
    {
      "cell_type": "code",
      "execution_count": 99,
      "metadata": {
        "colab": {
          "base_uri": "https://localhost:8080/",
          "height": 281
        },
        "id": "JEKpipTXJlzR",
        "outputId": "8ab22d4d-8111-422a-83e3-46c758b70f68"
      },
      "outputs": [
        {
          "output_type": "display_data",
          "data": {
            "text/plain": [
              "<Figure size 432x288 with 1 Axes>"
            ],
            "image/png": "[encoded data removed]"
          },
          "metadata": {
            "needs_background": "light"
          }
        }
      ],
      "source": [
        "plt.bar(list_label3.keys(), list_label3.values())\n",
        "plt.title(\"Bieu do tron tap Dev\")\n",
        "plt.show()"
      ]
    },
    {
      "cell_type": "code",
      "execution_count": 99,
      "metadata": {
        "id": "FByzY2HaMJe7"
      },
      "outputs": [],
      "source": []
    },
    {
      "cell_type": "code",
      "execution_count": 100,
      "metadata": {
        "colab": {
          "base_uri": "https://localhost:8080/"
        },
        "id": "24fvnrM7Nouk",
        "outputId": "78437c8c-687f-4318-9486-3112b66de690"
      },
      "outputs": [
        {
          "output_type": "stream",
          "name": "stdout",
          "text": [
            "Embedding data loaded\n"
          ]
        }
      ],
      "source": [
        "EMBEDDING = '/content/drive/MyDrive/DS201/word2vec_vi_words_100dims.txt'\n",
        "EMBEDING_DIM = 100\n",
        "MAX_FEATURE = 10000\n",
        "word_dict = []\n",
        "embeddings_index = {}\n",
        "embedding_dim = EMBEDING_DIM\n",
        "max_feature = MAX_FEATURE\n",
        "f = open(EMBEDDING)\n",
        "for line in f:\n",
        " values = line.split(' ')\n",
        " word = values[0]\n",
        " word_dict.append(word)\n",
        "try:\n",
        " coefs = np.asarray(values[1:], dtype='float32')\n",
        " embeddings_index[word] = coefs\n",
        "except Exception as e:\n",
        " pass\n",
        "f.close()\n",
        "print('Embedding data loaded')\n"
      ]
    },
    {
      "cell_type": "code",
      "execution_count": 101,
      "metadata": {
        "id": "h0LCDIzDP7Oi"
      },
      "outputs": [],
      "source": [
        "words = word_dict\n",
        "num_words = len(words)\n",
        "# Dictionary word:index pair\n",
        "# word is key and its value is corresponding index\n"
      ]
    },
    {
      "cell_type": "code",
      "execution_count": 102,
      "metadata": {
        "id": "ptK3idlNRQQA"
      },
      "outputs": [],
      "source": [
        "word_to_index = {w : i + 2 for i, w in enumerate(words)}\n",
        "word_to_index[\"UNK\"] = 1\n",
        "word_to_index[\"PAD\"] = 0\n",
        "# Dictionary label:index pair\n",
        "idx2word = {i: w for w, i in word_to_index.items()}"
      ]
    },
    {
      "cell_type": "code",
      "execution_count": 103,
      "metadata": {
        "id": "FeJoIGzqRUN7"
      },
      "outputs": [],
      "source": [
        "import numpy as np\n",
        "embedding_matrix = np.zeros((num_words, embedding_dim))\n",
        "# for each word in out tokenizer, try to find that work in our w2v model\n",
        "for word, i in word_to_index.items():\n",
        " if i > max_feature:\n",
        "  continue\n",
        "  embedding_vector = embeddings_index.get(word)\n",
        "  if embedding_vector is not None:\n",
        "# add that words vector to the matrix\n",
        "     embedding_matrix[i] = embedding_vector\n",
        "  else:\n",
        "# doesn't exist, assign a random vector\n",
        "    embedding_matrix[i] = np.random.randn(embedding_dim)"
      ]
    },
    {
      "cell_type": "code",
      "execution_count": 104,
      "metadata": {
        "colab": {
          "base_uri": "https://localhost:8080/"
        },
        "id": "IyWQwF-kRllZ",
        "outputId": "f3940161-aeeb-4aa2-fa2c-ecdd88ca6489"
      },
      "outputs": [
        {
          "output_type": "execute_result",
          "data": {
            "text/plain": [
              "{'1587507': 2,\n",
              " ',': 3,\n",
              " '.': 4,\n",
              " 'và': 5,\n",
              " 'của': 6,\n",
              " 'là': 7,\n",
              " 'các': 8,\n",
              " 'có': 9,\n",
              " 'được': 10,\n",
              " 'trong': 11,\n",
              " 'cho': 12,\n",
              " 'đã': 13,\n",
              " 'với': 14,\n",
              " 'một': 15,\n",
              " 'không': 16,\n",
              " 'người': 17,\n",
              " ')': 18,\n",
              " '(': 19,\n",
              " 'những': 20,\n",
              " '\"': 21,\n",
              " 'này': 22,\n",
              " 'để': 23,\n",
              " 'ở': 24,\n",
              " 'khi': 25,\n",
              " ':': 26,\n",
              " 'về': 27,\n",
              " 'năm': 28,\n",
              " 'đến': 29,\n",
              " '-': 30,\n",
              " 'cũng': 31,\n",
              " 'vào': 32,\n",
              " 'trên': 33,\n",
              " 'tại': 34,\n",
              " 'nhiều': 35,\n",
              " 'đó': 36,\n",
              " 'sẽ': 37,\n",
              " 'từ': 38,\n",
              " 'ra': 39,\n",
              " 'phải': 40,\n",
              " 'như': 41,\n",
              " 'ngày': 42,\n",
              " 'lại': 43,\n",
              " 'bị': 44,\n",
              " 'ông': 45,\n",
              " 'làm': 46,\n",
              " 'hơn': 47,\n",
              " 'việc': 48,\n",
              " 'còn': 49,\n",
              " 'nhưng': 50,\n",
              " 'đang': 51,\n",
              " 'sau': 52,\n",
              " 'thì': 53,\n",
              " 'biết': 54,\n",
              " 'Việt_Nam': 55,\n",
              " 'đi': 56,\n",
              " 'nước': 57,\n",
              " 'rất': 58,\n",
              " 'mới': 59,\n",
              " 'sự': 60,\n",
              " 'có_thể': 61,\n",
              " 'theo': 62,\n",
              " 'mà': 63,\n",
              " ';': 64,\n",
              " 'nhất': 65,\n",
              " 'chỉ': 66,\n",
              " 'mình': 67,\n",
              " 'nhà': 68,\n",
              " 'tôi': 69,\n",
              " 'trước': 70,\n",
              " 'lên': 71,\n",
              " 'vẫn': 72,\n",
              " 'tới': 73,\n",
              " 'con': 74,\n",
              " 'nên': 75,\n",
              " 'tháng': 76,\n",
              " 'Theo': 77,\n",
              " '2': 78,\n",
              " 'đồng': 79,\n",
              " 'cùng': 80,\n",
              " 'hai': 81,\n",
              " 'anh': 82,\n",
              " 'khác': 83,\n",
              " 'cao': 84,\n",
              " 'họ': 85,\n",
              " 'rằng': 86,\n",
              " 'bạn': 87,\n",
              " 'qua': 88,\n",
              " 'vì': 89,\n",
              " 'Trong': 90,\n",
              " 'do': 91,\n",
              " 'cả': 92,\n",
              " 'Mỹ': 93,\n",
              " '/': 94,\n",
              " 'nói': 95,\n",
              " 'tỉnh': 96,\n",
              " 'đây': 97,\n",
              " 'số': 98,\n",
              " 'lần': 99,\n",
              " 'chưa': 100,\n",
              " 'lớn': 101,\n",
              " '1': 102,\n",
              " \"'\": 103,\n",
              " 'xe': 104,\n",
              " 'cô': 105,\n",
              " 'thấy': 106,\n",
              " '3': 107,\n",
              " 'cuộc': 108,\n",
              " 'đường': 109,\n",
              " 'đưa': 110,\n",
              " 'thực_hiện': 111,\n",
              " 'triệu': 112,\n",
              " '?': 113,\n",
              " 'cần': 114,\n",
              " 'tổ_chức': 115,\n",
              " 'sử_dụng': 116,\n",
              " 'hay': 117,\n",
              " 'hàng': 118,\n",
              " 'Hà_Nội': 119,\n",
              " 'bằng': 120,\n",
              " 'khiến': 121,\n",
              " 'tiền': 122,\n",
              " 'gần': 123,\n",
              " 'tuổi': 124,\n",
              " 'Bộ': 125,\n",
              " 'đầu': 126,\n",
              " 'tăng': 127,\n",
              " 'thứ': 128,\n",
              " 'thời_gian': 129,\n",
              " 'hoạt_động': 130,\n",
              " 'đều': 131,\n",
              " 'giá': 132,\n",
              " 'phát_triển': 133,\n",
              " '...': 134,\n",
              " 'nay': 135,\n",
              " 'khoảng': 136,\n",
              " 'nhau': 137,\n",
              " 'gây': 138,\n",
              " 'xây_dựng': 139,\n",
              " 'cách': 140,\n",
              " 'nào': 141,\n",
              " 'thêm': 142,\n",
              " 'bên': 143,\n",
              " 'Ảnh': 144,\n",
              " 'giữa': 145,\n",
              " 'Các': 146,\n",
              " 'gì': 147,\n",
              " 'huyện': 148,\n",
              " 'từng': 149,\n",
              " 'hoặc': 150,\n",
              " 'chiếc': 151,\n",
              " 'Tuy_nhiên': 152,\n",
              " 'nhận': 153,\n",
              " 'bà': 154,\n",
              " 'đầu_tư': 155,\n",
              " 'mang': 156,\n",
              " 'chính': 157,\n",
              " 'khu_vực': 158,\n",
              " 'gia_đình': 159,\n",
              " 'Sau': 160,\n",
              " 'Anh': 161,\n",
              " 'vừa': 162,\n",
              " 'tốt': 163,\n",
              " 'dự_án': 164,\n",
              " 'loại': 165,\n",
              " 'Trung_Quốc': 166,\n",
              " 'Ông': 167,\n",
              " 'bán': 168,\n",
              " 'giúp': 169,\n",
              " 'một_số': 170,\n",
              " '4': 171,\n",
              " 'dùng': 172,\n",
              " 'xã': 173,\n",
              " 'trẻ': 174,\n",
              " 'Nga': 175,\n",
              " '5': 176,\n",
              " 'vụ': 177,\n",
              " 'người_dân': 178,\n",
              " 'đất': 179,\n",
              " 'nếu': 180,\n",
              " 'rồi': 181,\n",
              " 'mức': 182,\n",
              " 'điều': 183,\n",
              " 'cấp': 184,\n",
              " 'tỷ': 185,\n",
              " 'thuộc': 186,\n",
              " 'mua': 187,\n",
              " 'nơi': 188,\n",
              " 'đối_với': 189,\n",
              " 'đầu_tiên': 190,\n",
              " 'điểm': 191,\n",
              " 'tiếp_tục': 192,\n",
              " 'thông_tin': 193,\n",
              " 'trận': 194,\n",
              " 'thế_giới': 195,\n",
              " 'giảm': 196,\n",
              " 'em': 197,\n",
              " 'tạo': 198,\n",
              " 'thi': 199,\n",
              " 'muốn': 200,\n",
              " 'quá': 201,\n",
              " 'ăn': 202,\n",
              " 'mỗi': 203,\n",
              " 'tin': 204,\n",
              " 'tham_gia': 205,\n",
              " 'mọi': 206,\n",
              " 'đạt': 207,\n",
              " 'quy_định': 208,\n",
              " 'doanh_nghiệp': 209,\n",
              " 'trường': 210,\n",
              " 'chị': 211,\n",
              " 'thành_phố': 212,\n",
              " 'phía': 213,\n",
              " 'bộ': 214,\n",
              " 'Những': 215,\n",
              " '10': 216,\n",
              " 'Tôi': 217,\n",
              " 'lúc': 218,\n",
              " 'vấn_đề': 219,\n",
              " 'tên': 220,\n",
              " 'bởi': 221,\n",
              " 'thị_trường': 222,\n",
              " 'cái': 223,\n",
              " 'đội': 224,\n",
              " 'ngoài': 225,\n",
              " 'học': 226,\n",
              " 'diễn': 227,\n",
              " 'phần': 228,\n",
              " 'USD': 229,\n",
              " 'nó': 230,\n",
              " 'đặc_biệt': 231,\n",
              " 'giờ': 232,\n",
              " 'kinh_tế': 233,\n",
              " 'sống': 234,\n",
              " 'luôn': 235,\n",
              " 'gái': 236,\n",
              " 'nhỏ': 237,\n",
              " 'tìm': 238,\n",
              " 'gặp': 239,\n",
              " 'Một': 240,\n",
              " 'ấy': 241,\n",
              " 'vốn': 242,\n",
              " 'công_tác': 243,\n",
              " 'ngay': 244,\n",
              " 'giải': 245,\n",
              " 'so': 246,\n",
              " 'Khi': 247,\n",
              " '6': 248,\n",
              " 'hệ_thống': 249,\n",
              " 'xảy': 250,\n",
              " 'Chủ_tịch': 251,\n",
              " 'ngành': 252,\n",
              " 'sản_xuất': 253,\n",
              " 'TP': 254,\n",
              " 'khả_năng': 255,\n",
              " 'quốc_gia': 256,\n",
              " 'đẹp': 257,\n",
              " 'quản_lý': 258,\n",
              " 'quyết_định': 259,\n",
              " 'công_ty': 260,\n",
              " 'biển': 261,\n",
              " 'sản_phẩm': 262,\n",
              " 'ta': 263,\n",
              " 'phim': 264,\n",
              " 'xã_hội': 265,\n",
              " 'UBND': 266,\n",
              " 'chương_trình': 267,\n",
              " 'mẹ': 268,\n",
              " 'cơ_quan': 269,\n",
              " 'Phó': 270,\n",
              " 'nhằm': 271,\n",
              " 'lấy': 272,\n",
              " 'mất': 273,\n",
              " 'vùng': 274,\n",
              " 'nhóm': 275,\n",
              " 'không_thể': 276,\n",
              " 'lời': 277,\n",
              " 'dưới': 278,\n",
              " 'khá': 279,\n",
              " 'chúng_tôi': 280,\n",
              " 'Đây': 281,\n",
              " 'yêu_cầu': 282,\n",
              " 'ảnh': 283,\n",
              " 'đúng': 284,\n",
              " 'chủ': 285,\n",
              " 'chia_sẻ': 286,\n",
              " 'hỗ_trợ': 287,\n",
              " 'Công_ty': 288,\n",
              " 'mạng': 289,\n",
              " 'tính': 290,\n",
              " 'ai': 291,\n",
              " 'Nhưng': 292,\n",
              " 'rõ': 293,\n",
              " 'địa_phương': 294,\n",
              " 'sang': 295,\n",
              " 'phòng': 296,\n",
              " 'trở_thành': 297,\n",
              " 'sáng': 298,\n",
              " 'giữ': 299,\n",
              " 'thành': 300,\n",
              " 'đơn_vị': 301,\n",
              " 'mùa': 302,\n",
              " 'bóng': 303,\n",
              " 'xem': 304,\n",
              " 'xuống': 305,\n",
              " 'tay': 306,\n",
              " 'bé': 307,\n",
              " 'xử_lý': 308,\n",
              " 'thường': 309,\n",
              " 'nguồn': 310,\n",
              " 'đủ': 311,\n",
              " 'liên_quan': 312,\n",
              " 'Nếu': 313,\n",
              " 'Chính_phủ': 314,\n",
              " 'quận': 315,\n",
              " 'khu': 316,\n",
              " 'Ngày': 317,\n",
              " 'đặt': 318,\n",
              " 'làm_việc': 319,\n",
              " 'Với': 320,\n",
              " 'Thủ_tướng': 321,\n",
              " 'vòng': 322,\n",
              " 'loài': 323,\n",
              " 'bệnh': 324,\n",
              " 'chồng': 325,\n",
              " 'gọi': 326,\n",
              " 'khó_khăn': 327,\n",
              " 'kinh_doanh': 328,\n",
              " '7': 329,\n",
              " 'quan_trọng': 330,\n",
              " 'phát_hiện': 331,\n",
              " 'quốc_tế': 332,\n",
              " 'TP.': 333,\n",
              " 'chống': 334,\n",
              " 'kể': 335,\n",
              " 'nằm': 336,\n",
              " 'lực_lượng': 337,\n",
              " 'bỏ': 338,\n",
              " 'khách': 339,\n",
              " 'kiểm_tra': 340,\n",
              " 'cơ_sở': 341,\n",
              " 'Người': 342,\n",
              " 'chuyện': 343,\n",
              " 'nữa': 344,\n",
              " 'Trước': 345,\n",
              " 'đấu': 346,\n",
              " 'ít': 347,\n",
              " 'hết': 348,\n",
              " 'cuối': 349,\n",
              " 'khỏi': 350,\n",
              " 'tiếng': 351,\n",
              " 'tàu': 352,\n",
              " 'vàng': 353,\n",
              " 'bảo_vệ': 354,\n",
              " 'khó': 355,\n",
              " 'triển_khai': 356,\n",
              " 'dài': 357,\n",
              " 'cạnh': 358,\n",
              " 'ba': 359,\n",
              " 'nhìn': 360,\n",
              " 'dành': 361,\n",
              " 'Công_an': 362,\n",
              " 'ảnh_hưởng': 363,\n",
              " 'cây': 364,\n",
              " 'chết': 365,\n",
              " 'thu': 366,\n",
              " 'hiệu_quả': 367,\n",
              " 'đánh_giá': 368,\n",
              " 'khẳng_định': 369,\n",
              " 'điều_tra': 370,\n",
              " 'vợ': 371,\n",
              " '!': 372,\n",
              " 'dẫn': 373,\n",
              " 'hiện': 374,\n",
              " 'tự': 375,\n",
              " 'HCM': 376,\n",
              " 'Tại': 377,\n",
              " 'du_lịch': 378,\n",
              " 'mạnh': 379,\n",
              " 'tuần': 380,\n",
              " 'chơi': 381,\n",
              " 'bài': 382,\n",
              " 'độ': 383,\n",
              " 'chất_lượng': 384,\n",
              " '8': 385,\n",
              " 'mặt': 386,\n",
              " 'buổi': 387,\n",
              " 'Việt': 388,\n",
              " 'tất_cả': 389,\n",
              " 'lãnh_đạo': 390,\n",
              " 'kết_quả': 391,\n",
              " 'xuất_hiện': 392,\n",
              " 'thời_điểm': 393,\n",
              " 'dịch_vụ': 394,\n",
              " 'đêm': 395,\n",
              " 'chạy': 396,\n",
              " 'an_toàn': 397,\n",
              " 'hoa': 398,\n",
              " 'học_sinh': 399,\n",
              " 'bắt_đầu': 400,\n",
              " 'nữ': 401,\n",
              " 'đảm_bảo': 402,\n",
              " 'chiều': 403,\n",
              " 'Tổng_thống': 404,\n",
              " 'Đức': 405,\n",
              " 'Sở': 406,\n",
              " 'nghiên_cứu': 407,\n",
              " 'thay_đổi': 408,\n",
              " 'Từ': 409,\n",
              " 'gửi': 410,\n",
              " 'đứng': 411,\n",
              " 'màu': 412,\n",
              " 'tình_trạng': 413,\n",
              " 'yêu': 414,\n",
              " 'cán_bộ': 415,\n",
              " 'chung': 416,\n",
              " 'trường_hợp': 417,\n",
              " 'phụ_nữ': 418,\n",
              " 'kế_hoạch': 419,\n",
              " 'điều_kiện': 420,\n",
              " 'hình_ảnh': 421,\n",
              " 'quan_hệ': 422,\n",
              " 'sao': 423,\n",
              " 'môi_trường': 424,\n",
              " 'đối_tượng': 425,\n",
              " 'chuyển': 426,\n",
              " 'thành_công': 427,\n",
              " '2017': 428,\n",
              " 'sinh': 429,\n",
              " 'Điều': 430,\n",
              " 'cá_nhân': 431,\n",
              " 'phút': 432,\n",
              " 'chọn': 433,\n",
              " 'hiện_nay': 434,\n",
              " 'Năm': 435,\n",
              " 'cầu_thủ': 436,\n",
              " 'vị_trí': 437,\n",
              " 'trai': 438,\n",
              " 'tấn_công': 439,\n",
              " 'Ban': 440,\n",
              " 'chân': 441,\n",
              " 'giao_thông': 442,\n",
              " 'báo': 443,\n",
              " 'Nhiều': 444,\n",
              " 'máy_bay': 445,\n",
              " 'hỏi': 446,\n",
              " 'tuyến': 447,\n",
              " 'Không': 448,\n",
              " 'khoa_học': 449,\n",
              " '&': 450,\n",
              " 'hướng': 451,\n",
              " 'HLV': 452,\n",
              " 'dân': 453,\n",
              " '20': 454,\n",
              " 'công_nghệ': 455,\n",
              " 'miền': 456,\n",
              " 'lớp': 457,\n",
              " 'Pháp': 458,\n",
              " 'đáng': 459,\n",
              " '9': 460,\n",
              " 'riêng': 461,\n",
              " 'đôi': 462,\n",
              " 'giá_trị': 463,\n",
              " 'cung_cấp': 464,\n",
              " 'dù': 465,\n",
              " 'nâng': 466,\n",
              " 'điện': 467,\n",
              " 'viết': 468,\n",
              " 'sớm': 469,\n",
              " 'văn_hoá': 470,\n",
              " 'quá_trình': 471,\n",
              " 'thấp': 472,\n",
              " 'trách_nhiệm': 473,\n",
              " 'giống': 474,\n",
              " 'giải_quyết': 475,\n",
              " 'khách_hàng': 476,\n",
              " 'gồm': 477,\n",
              " 'đánh': 478,\n",
              " 'Để': 479,\n",
              " 'tiến_hành': 480,\n",
              " 'nhanh': 481,\n",
              " 'Nhật_Bản': 482,\n",
              " 'vi_phạm': 483,\n",
              " 'tập_trung': 484,\n",
              " 'nghĩ': 485,\n",
              " 'cuộc_sống': 486,\n",
              " '2016': 487,\n",
              " 'Ngoài_ra': 488,\n",
              " 'chính_thức': 489,\n",
              " 'thành_viên': 490,\n",
              " 'sông': 491,\n",
              " 'thiết_kế': 492,\n",
              " 'thiếu': 493,\n",
              " 'đá': 494,\n",
              " '12': 495,\n",
              " 'hoàn_toàn': 496,\n",
              " 'chính_sách': 497,\n",
              " 'trả': 498,\n",
              " 'bước': 499,\n",
              " 'chúng_ta': 500,\n",
              " 'đồng_thời': 501,\n",
              " 'hộ': 502,\n",
              " 'Có': 503,\n",
              " 'vượt': 504,\n",
              " 'quyền': 505,\n",
              " '2018': 506,\n",
              " 'quan_tâm': 507,\n",
              " 'phối_hợp': 508,\n",
              " 'nội_dung': 509,\n",
              " 'lao_động': 510,\n",
              " 'bàn': 511,\n",
              " 'vài': 512,\n",
              " 'nước_ngoài': 513,\n",
              " 'sân': 514,\n",
              " 'lĩnh_vực': 515,\n",
              " 'thật': 516,\n",
              " 'cơ_hội': 517,\n",
              " 'Việc': 518,\n",
              " 'địa_bàn': 519,\n",
              " 'hợp_tác': 520,\n",
              " 'nghe': 521,\n",
              " 'nhiệm_vụ': 522,\n",
              " 'món': 523,\n",
              " 'thuốc': 524,\n",
              " 'công_trình': 525,\n",
              " 'công_việc': 526,\n",
              " 'lượng': 527,\n",
              " 'câu': 528,\n",
              " 'dòng': 529,\n",
              " 'báo_cáo': 530,\n",
              " 'nặng': 531,\n",
              " 'phục_vụ': 532,\n",
              " 'hãng': 533,\n",
              " '30': 534,\n",
              " 'thể_hiện': 535,\n",
              " 'bắt': 536,\n",
              " 'tài_sản': 537,\n",
              " 'Hàn_Quốc': 538,\n",
              " 'khán_giả': 539,\n",
              " 'thích': 540,\n",
              " 'Nhà_nước': 541,\n",
              " 'da': 542,\n",
              " 'chuẩn_bị': 543,\n",
              " 'đề_nghị': 544,\n",
              " 'phù_hợp': 545,\n",
              " 'chuyến': 546,\n",
              " 'đầy': 547,\n",
              " 'mở': 548,\n",
              " 'mục_tiêu': 549,\n",
              " 'đại_diện': 550,\n",
              " 'chịu': 551,\n",
              " 'nổi_tiếng': 552,\n",
              " '“': 553,\n",
              " 'nam': 554,\n",
              " 'phường': 555,\n",
              " 'chỉ_đạo': 556,\n",
              " 'Bên': 557,\n",
              " 'giành': 558,\n",
              " 'đông': 559,\n",
              " 'hiểu': 560,\n",
              " '”': 561,\n",
              " 'nền': 562,\n",
              " 'kỳ': 563,\n",
              " 'càng': 564,\n",
              " 'máy': 565,\n",
              " 'thế': 566,\n",
              " 'ý_kiến': 567,\n",
              " 'cá': 568,\n",
              " 'thực_tế': 569,\n",
              " 'chất': 570,\n",
              " 'chúng': 571,\n",
              " 'cháu': 572,\n",
              " 'công_bố': 573,\n",
              " 'thuế': 574,\n",
              " 'hát': 575,\n",
              " 'giao': 576,\n",
              " 'đóng': 577,\n",
              " 'chuyên_gia': 578,\n",
              " 'trực_tiếp': 579,\n",
              " 'mối': 580,\n",
              " 'pháp_luật': 581,\n",
              " 'Và': 582,\n",
              " 'hợp_đồng': 583,\n",
              " 'lễ': 584,\n",
              " 'hành_vi': 585,\n",
              " 'trung_tâm': 586,\n",
              " 'dễ': 587,\n",
              " 'bất_ngờ': 588,\n",
              " 'sức_khoẻ': 589,\n",
              " 'nhờ': 590,\n",
              " 'như_vậy': 591,\n",
              " 'xác_định': 592,\n",
              " 'điện_thoại': 593,\n",
              " 'chứ': 594,\n",
              " 'quay': 595,\n",
              " 'án': 596,\n",
              " 'mẫu': 597,\n",
              " 'trở_lại': 598,\n",
              " 'đâu': 599,\n",
              " 'nhân_dân': 600,\n",
              " 'Syria': 601,\n",
              " 'giáo_dục': 602,\n",
              " 'giai_đoạn': 603,\n",
              " 'Đến': 604,\n",
              " 'ngân_hàng': 605,\n",
              " 'tránh': 606,\n",
              " 'bảng': 607,\n",
              " 'Quốc_hội': 608,\n",
              " 'thắng': 609,\n",
              " 'tăng_cường': 610,\n",
              " 'xin': 611,\n",
              " 'lòng': 612,\n",
              " 'xa': 613,\n",
              " 'Đà_Nẵng': 614,\n",
              " 'Đảng': 615,\n",
              " 'Cô': 616,\n",
              " 'thương_mại': 617,\n",
              " 'thiết_bị': 618,\n",
              " 'bản': 619,\n",
              " 'an_ninh': 620,\n",
              " 'bay': 621,\n",
              " 'Còn': 622,\n",
              " 'Bộ_trưởng': 623,\n",
              " 'nhu_cầu': 624,\n",
              " 'cũ': 625,\n",
              " 'thường_xuyên': 626,\n",
              " 'làng': 627,\n",
              " 'Ở': 628,\n",
              " 'diện_tích': 629,\n",
              " 'diễn_viên': 630,\n",
              " 'cầu': 631,\n",
              " 'lựa_chọn': 632,\n",
              " 'thậm_chí': 633,\n",
              " 'đào_tạo': 634,\n",
              " 'ngôi': 635,\n",
              " 'bao_gồm': 636,\n",
              " 'chính_quyền': 637,\n",
              " 'vị': 638,\n",
              " 'sinh_viên': 639,\n",
              " 'Cục': 640,\n",
              " 'quả': 641,\n",
              " 'nhân_viên': 642,\n",
              " 'đàn_ông': 643,\n",
              " 'thông_qua': 644,\n",
              " 'thông_báo': 645,\n",
              " 'hôm': 646,\n",
              " 'đoàn': 647,\n",
              " 'mắt': 648,\n",
              " 'kiểm_soát': 649,\n",
              " 'uống': 650,\n",
              " 'một_cách': 651,\n",
              " '15': 652,\n",
              " 'cứ': 653,\n",
              " 'nghề': 654,\n",
              " 'hoàn_thành': 655,\n",
              " 'ngồi': 656,\n",
              " 'Trung_tâm': 657,\n",
              " '2015': 658,\n",
              " 'không_chỉ': 659,\n",
              " 'khoản': 660,\n",
              " 'xanh': 661,\n",
              " 'Trường': 662,\n",
              " 'chẳng': 663,\n",
              " 'toàn': 664,\n",
              " '11': 665,\n",
              " 'Đó': 666,\n",
              " 'Cũng': 667,\n",
              " 'Nam': 668,\n",
              " 'thi_đấu': 669,\n",
              " 'tuyên_bố': 670,\n",
              " 'họp': 671,\n",
              " 'trưởng': 672,\n",
              " 'thí_sinh': 673,\n",
              " 'Về': 674,\n",
              " 'lịch_sử': 675,\n",
              " 'trở': 676,\n",
              " 'mưa': 677,\n",
              " 'thuê': 678,\n",
              " 'chỗ': 679,\n",
              " 'Bà': 680,\n",
              " 'bóng_đá': 681,\n",
              " 'đô_thị': 682,\n",
              " 'hành_động': 683,\n",
              " 'chụp': 684,\n",
              " 'đoạn': 685,\n",
              " 'rừng': 686,\n",
              " 'giới': 687,\n",
              " 'thịt': 688,\n",
              " 'sở_hữu': 689,\n",
              " 'thực_phẩm': 690,\n",
              " 'Giám_đốc': 691,\n",
              " 'tổng': 692,\n",
              " 'vay': 693,\n",
              " 'tài_chính': 694,\n",
              " 'nuôi': 695,\n",
              " 'lâu': 696,\n",
              " 'thu_hút': 697,\n",
              " 'vậy': 698,\n",
              " 'suốt': 699,\n",
              " 'kỹ_thuật': 700,\n",
              " 'ghi': 701,\n",
              " 'tình_hình': 702,\n",
              " 'vai_trò': 703,\n",
              " 'cuối_cùng': 704,\n",
              " 'công': 705,\n",
              " 'bức': 706,\n",
              " 'cộng_đồng': 707,\n",
              " 'đảo': 708,\n",
              " 'khai_thác': 709,\n",
              " 'phương_tiện': 710,\n",
              " 'biện_pháp': 711,\n",
              " 'trồng': 712,\n",
              " 'sách': 713,\n",
              " 'đăng_ký': 714,\n",
              " 'giải_pháp': 715,\n",
              " 'Tết': 716,\n",
              " 'rộng': 717,\n",
              " 'liên_tục': 718,\n",
              " 'tích_cực': 719,\n",
              " 'nhớ': 720,\n",
              " 'chiếm': 721,\n",
              " 'ủng_hộ': 722,\n",
              " 'cơ_thể': 723,\n",
              " 'nguyên_nhân': 724,\n",
              " 'ổn_định': 725,\n",
              " 'áp_dụng': 726,\n",
              " 'trái': 727,\n",
              " 'ngày_càng': 728,\n",
              " 'hồ_sơ': 729,\n",
              " 'Trung_ương': 730,\n",
              " 'Hai': 731,\n",
              " 'nạn_nhân': 732,\n",
              " 'Loài': 733,\n",
              " 'chức_năng': 734,\n",
              " 'thực_sự': 735,\n",
              " '100': 736,\n",
              " 'truyền_thống': 737,\n",
              " 'bản_thân': 738,\n",
              " 'thăm': 739,\n",
              " 'lập': 740,\n",
              " 'Chúng_tôi': 741,\n",
              " 'nguy_cơ': 742,\n",
              " 'tầm': 743,\n",
              " 'bác_sĩ': 744,\n",
              " 'nhạc': 745,\n",
              " 'trang': 746,\n",
              " 'vừa_qua': 747,\n",
              " 'vụ_việc': 748,\n",
              " 'con_người': 749,\n",
              " 'chú_ý': 750,\n",
              " 'châu_Âu': 751,\n",
              " 'ô_tô': 752,\n",
              " 'bệnh_viện': 753,\n",
              " 'ban': 754,\n",
              " 'toàn_bộ': 755,\n",
              " 'thành_lập': 756,\n",
              " 'đời': 757,\n",
              " 'sức': 758,\n",
              " 'vai': 759,\n",
              " 'nợ': 760,\n",
              " 'ca_sĩ': 761,\n",
              " 'nhanh_chóng': 762,\n",
              " 'máu': 763,\n",
              " 'trắng': 764,\n",
              " 'dừng': 765,\n",
              " 'nỗ_lực': 766,\n",
              " 'Luật': 767,\n",
              " 'hạn_chế': 768,\n",
              " 'coi': 769,\n",
              " 'sự_kiện': 770,\n",
              " 'cháy': 771,\n",
              " 'chi_phí': 772,\n",
              " 'm': 773,\n",
              " 'núi': 774,\n",
              " 'tên_lửa': 775,\n",
              " 'chục': 776,\n",
              " 'điều_trị': 777,\n",
              " 'ký': 778,\n",
              " 'cho_phép': 779,\n",
              " 'Hồ_Chí_Minh': 780,\n",
              " 'Họ': 781,\n",
              " 'ứng_dụng': 782,\n",
              " 'tấn': 783,\n",
              " 'giao_dịch': 784,\n",
              " 'bao_giờ': 785,\n",
              " 'cụ_thể': 786,\n",
              " 'thời': 787,\n",
              " 'đất_nước': 788,\n",
              " 'bệnh_nhân': 789,\n",
              " 'trả_lời': 790,\n",
              " 'số_lượng': 791,\n",
              " 'đứa': 792,\n",
              " 'nêu': 793,\n",
              " 'mở_rộng': 794,\n",
              " 'Triều_Tiên': 795,\n",
              " 'đồ': 796,\n",
              " 'Hiện': 797,\n",
              " 'tặng': 798,\n",
              " 'lý_do': 799,\n",
              " 'chiến_thắng': 800,\n",
              " 'sâu': 801,\n",
              " 'đơn': 802,\n",
              " 'chứa': 803,\n",
              " 'đỏ': 804,\n",
              " 'nhà_nước': 805,\n",
              " 'bổ_sung': 806,\n",
              " 'cảnh_sát': 807,\n",
              " 'tinh_thần': 808,\n",
              " 'nhất_là': 809,\n",
              " 'quân_sự': 810,\n",
              " 'Được': 811,\n",
              " 'nghìn': 812,\n",
              " 'chủ_yếu': 813,\n",
              " 'tai_nạn': 814,\n",
              " 'cảnh': 815,\n",
              " 'niềm': 816,\n",
              " 'vé': 817,\n",
              " 'vô_cùng': 818,\n",
              " 'kéo_dài': 819,\n",
              " 'áo': 820,\n",
              " 'toà': 821,\n",
              " 'quân_đội': 822,\n",
              " '2010': 823,\n",
              " 'tập': 824,\n",
              " 'hình': 825,\n",
              " 'chăm_sóc': 826,\n",
              " 'phố': 827,\n",
              " 'vợ_chồng': 828,\n",
              " 'chính_trị': 829,\n",
              " 'cảm_thấy': 830,\n",
              " 'mời': 831,\n",
              " 'giới_thiệu': 832,\n",
              " 'mấy': 833,\n",
              " 'Đại_học': 834,\n",
              " 'Nguồn': 835,\n",
              " 'kinh_nghiệm': 836,\n",
              " 'ĐH': 837,\n",
              " 'hãy': 838,\n",
              " 'Hội': 839,\n",
              " 'dự_kiến': 840,\n",
              " 'góp_phần': 841,\n",
              " 'Chỉ': 842,\n",
              " 'ngủ': 843,\n",
              " 'hạnh_phúc': 844,\n",
              " 'trẻ_em': 845,\n",
              " 'công_an': 846,\n",
              " 'nghệ_thuật': 847,\n",
              " 'hồi': 848,\n",
              " 'phí': 849,\n",
              " '2014': 850,\n",
              " 'Dù': 851,\n",
              " 'dịp': 852,\n",
              " '+': 853,\n",
              " 'Uỷ_ban': 854,\n",
              " 'dân_tộc': 855,\n",
              " 'Ngay': 856,\n",
              " 'đem': 857,\n",
              " 'đáp_ứng': 858,\n",
              " 'hiện_tại': 859,\n",
              " 'câu_chuyện': 860,\n",
              " 'trăm': 861,\n",
              " 'công_nghiệp': 862,\n",
              " 'tối': 863,\n",
              " 'tương_lai': 864,\n",
              " '>': 865,\n",
              " 'quy_hoạch': 866,\n",
              " 'tìm_kiếm': 867,\n",
              " 'cậu': 868,\n",
              " 'nhà_đầu_tư': 869,\n",
              " 'thôi': 870,\n",
              " 'quân': 871,\n",
              " 'Trên': 872,\n",
              " 'Thái_Lan': 873,\n",
              " 'nguyên': 874,\n",
              " 'quý': 875,\n",
              " 'đổ': 876,\n",
              " 'tỉ': 877,\n",
              " 'rơi': 878,\n",
              " 'cổ': 879,\n",
              " 'trở_nên': 880,\n",
              " 'tham_dự': 881,\n",
              " 'cặp': 882,\n",
              " 'tỷ_lệ': 883,\n",
              " 'cho_hay': 884,\n",
              " 'tốc_độ': 885,\n",
              " 'phiên': 886,\n",
              " 'hiện_đại': 887,\n",
              " 'du_khách': 888,\n",
              " 'trang_bị': 889,\n",
              " 'nóng': 890,\n",
              " 'trao': 891,\n",
              " 'xuất_khẩu': 892,\n",
              " 'Đặc_biệt': 893,\n",
              " 'chi': 894,\n",
              " 'nhấn_mạnh': 895,\n",
              " 'văn_bản': 896,\n",
              " '–': 897,\n",
              " 'tăng_trưởng': 898,\n",
              " '50': 899,\n",
              " 'tạm': 900,\n",
              " 'tiếp': 901,\n",
              " 'vui': 902,\n",
              " 'cắt': 903,\n",
              " 'nghiêm_trọng': 904,\n",
              " 'báo_chí': 905,\n",
              " 'bờ': 906,\n",
              " 'nghèo': 907,\n",
              " 'quê': 908,\n",
              " 'thủ_tục': 909,\n",
              " 'ra_mắt': 910,\n",
              " 'giám_sát': 911,\n",
              " 'nghỉ': 912,\n",
              " 'kiểu': 913,\n",
              " 'chính_phủ': 914,\n",
              " 'dự': 915,\n",
              " 'DN': 916,\n",
              " 'xem_xét': 917,\n",
              " 'thoả_thuận': 918,\n",
              " 'sẵn_sàng': 919,\n",
              " 'hình_thức': 920,\n",
              " 'tình': 921,\n",
              " 'mà_còn': 922,\n",
              " 'có_mặt': 923,\n",
              " 'chợ': 924,\n",
              " 'bắn': 925,\n",
              " 'dầu': 926,\n",
              " 'dạy': 927,\n",
              " 'điều_chỉnh': 928,\n",
              " 'ấn_tượng': 929,\n",
              " 'kết_hợp': 930,\n",
              " 'cười': 931,\n",
              " 'xong': 932,\n",
              " 'thanh_niên': 933,\n",
              " 'đại_học': 934,\n",
              " 'kg': 935,\n",
              " 'hành_chính': 936,\n",
              " 'Ấn_Độ': 937,\n",
              " 'lắm': 938,\n",
              " 'nguy_hiểm': 939,\n",
              " 'mạnh_mẽ': 940,\n",
              " 'quán': 941,\n",
              " 'giáo_viên': 942,\n",
              " 'rời': 943,\n",
              " 'đề_xuất': 944,\n",
              " 'kẻ': 945,\n",
              " 'lá': 946,\n",
              " 'tấm': 947,\n",
              " 'rút': 948,\n",
              " 'Cùng': 949,\n",
              " 'đơn_giản': 950,\n",
              " 'y_tế': 951,\n",
              " 'chờ': 952,\n",
              " 'TTXVN': 953,\n",
              " 'Bạn': 954,\n",
              " 'km': 955,\n",
              " 'cần_thiết': 956,\n",
              " 'dần': 957,\n",
              " 'mong_muốn': 958,\n",
              " 'xe_máy': 959,\n",
              " 'cố_gắng': 960,\n",
              " 'sắp': 961,\n",
              " 'nghệ_sĩ': 962,\n",
              " 'cánh': 963,\n",
              " 'chở': 964,\n",
              " 'giấy': 965,\n",
              " 'vũ_khí': 966,\n",
              " 'đọc': 967,\n",
              " 'chắc_chắn': 968,\n",
              " 'đau': 969,\n",
              " 'chiến_lược': 970,\n",
              " 'đầy_đủ': 971,\n",
              " 'cửa': 972,\n",
              " '18': 973,\n",
              " 'tình_cảm': 974,\n",
              " 'Đông': 975,\n",
              " 'bị_cáo': 976,\n",
              " 'nổi': 977,\n",
              " 'phép': 978,\n",
              " 'vô_địch': 979,\n",
              " 'bình_thường': 980,\n",
              " 'hướng_dẫn': 981,\n",
              " 'buộc': 982,\n",
              " 'nhập_khẩu': 983,\n",
              " 'Hoa_hậu': 984,\n",
              " 'đại_biểu': 985,\n",
              " 'bảo_đảm': 986,\n",
              " 'kết_thúc': 987,\n",
              " 'to': 988,\n",
              " 'hề': 989,\n",
              " 'Ngoài': 990,\n",
              " 'hồ': 991,\n",
              " 'Bắc': 992,\n",
              " 'phiên_bản': 993,\n",
              " 'thay': 994,\n",
              " 'Mặc_dù': 995,\n",
              " 'cổ_phiếu': 996,\n",
              " 'Trưởng': 997,\n",
              " 'mắc': 998,\n",
              " 'cấm': 999,\n",
              " 'xuất_sắc': 1000,\n",
              " 'trời': 1001,\n",
              " ...}"
            ]
          },
          "metadata": {},
          "execution_count": 104
        }
      ],
      "source": [
        "word_to_index"
      ]
    },
    {
      "cell_type": "code",
      "execution_count": 105,
      "metadata": {
        "colab": {
          "base_uri": "https://localhost:8080/"
        },
        "id": "JoVox_iNRq8V",
        "outputId": "f9419983-78cd-494d-a0ef-4292cf1c87c9"
      },
      "outputs": [
        {
          "output_type": "stream",
          "name": "stdout",
          "text": [
            "Looking in indexes: https://pypi.org/simple, https://us-python.pkg.dev/colab-wheels/public/simple/\n",
            "Requirement already satisfied: vncorenlp in /usr/local/lib/python3.8/dist-packages (1.0.3)\n",
            "Requirement already satisfied: requests in /usr/local/lib/python3.8/dist-packages (from vncorenlp) (2.23.0)\n",
            "Requirement already satisfied: certifi>=2017.4.17 in /usr/local/lib/python3.8/dist-packages (from requests->vncorenlp) (2022.12.7)\n",
            "Requirement already satisfied: urllib3!=1.25.0,!=1.25.1,<1.26,>=1.21.1 in /usr/local/lib/python3.8/dist-packages (from requests->vncorenlp) (1.24.3)\n",
            "Requirement already satisfied: idna<3,>=2.5 in /usr/local/lib/python3.8/dist-packages (from requests->vncorenlp) (2.10)\n",
            "Requirement already satisfied: chardet<4,>=3.0.2 in /usr/local/lib/python3.8/dist-packages (from requests->vncorenlp) (3.0.4)\n"
          ]
        }
      ],
      "source": [
        "pip install vncorenlp"
      ]
    },
    {
      "cell_type": "code",
      "execution_count": 106,
      "metadata": {
        "colab": {
          "base_uri": "https://localhost:8080/"
        },
        "id": "wP2thuNxTWQF",
        "outputId": "d77de73b-ac80-4534-a582-d43de01e07d8"
      },
      "outputs": [
        {
          "output_type": "stream",
          "name": "stdout",
          "text": [
            "--2022-12-19 15:12:30--  https://raw.githubusercontent.com/vncorenlp/VnCoreNLP/master/VnCoreNLP-1.1.1.jar\n",
            "Resolving raw.githubusercontent.com (raw.githubusercontent.com)... 185.199.111.133, 185.199.108.133, 185.199.109.133, ...\n",
            "Connecting to raw.githubusercontent.com (raw.githubusercontent.com)|185.199.111.133|:443... connected.\n",
            "HTTP request sent, awaiting response... 200 OK\n",
            "Length: 27412575 (26M) [application/octet-stream]\n",
            "Saving to: ‘VnCoreNLP-1.1.1.jar’\n",
            "\n",
            "VnCoreNLP-1.1.1.jar 100%[===================>]  26.14M  --.-KB/s    in 0.09s   \n",
            "\n",
            "2022-12-19 15:12:30 (285 MB/s) - ‘VnCoreNLP-1.1.1.jar’ saved [27412575/27412575]\n",
            "\n",
            "--2022-12-19 15:12:30--  https://raw.githubusercontent.com/vncorenlp/VnCoreNLP/master/models/wordsegmenter/vi-vocab\n",
            "Resolving raw.githubusercontent.com (raw.githubusercontent.com)... 185.199.111.133, 185.199.108.133, 185.199.109.133, ...\n",
            "Connecting to raw.githubusercontent.com (raw.githubusercontent.com)|185.199.111.133|:443... connected.\n",
            "HTTP request sent, awaiting response... 200 OK\n",
            "Length: 526544 (514K) [application/octet-stream]\n",
            "Saving to: ‘vi-vocab’\n",
            "\n",
            "vi-vocab            100%[===================>] 514.20K  --.-KB/s    in 0.01s   \n",
            "\n",
            "2022-12-19 15:12:31 (34.5 MB/s) - ‘vi-vocab’ saved [526544/526544]\n",
            "\n",
            "--2022-12-19 15:12:32--  https://raw.githubusercontent.com/vncorenlp/VnCoreNLP/master/models/wordsegmenter/wordsegmenter.rdr\n",
            "Resolving raw.githubusercontent.com (raw.githubusercontent.com)... 185.199.108.133, 185.199.109.133, 185.199.110.133, ...\n",
            "Connecting to raw.githubusercontent.com (raw.githubusercontent.com)|185.199.108.133|:443... connected.\n",
            "HTTP request sent, awaiting response... 200 OK\n",
            "Length: 128508 (125K) [text/plain]\n",
            "Saving to: ‘wordsegmenter.rdr’\n",
            "\n",
            "wordsegmenter.rdr   100%[===================>] 125.50K  --.-KB/s    in 0.008s  \n",
            "\n",
            "2022-12-19 15:12:32 (15.9 MB/s) - ‘wordsegmenter.rdr’ saved [128508/128508]\n",
            "\n"
          ]
        }
      ],
      "source": [
        "!mkdir -p vncorenlp/models/wordsegmenter\n",
        "!wget https://raw.githubusercontent.com/vncorenlp/VnCoreNLP/master/VnCoreNLP-1.1.1.jar\n",
        "!wget https://raw.githubusercontent.com/vncorenlp/VnCoreNLP/master/models/wordsegmenter/vi-vocab\n",
        "!wget https://raw.githubusercontent.com/vncorenlp/VnCoreNLP/master/models/wordsegmenter/wordsegmenter.rdr\n",
        "!mv VnCoreNLP-1.1.1.jar vncorenlp/\n",
        "!mv vi-vocab vncorenlp/models/wordsegmenter/\n",
        "!mv wordsegmenter.rdr vncorenlp/models/wordsegmenter/\n"
      ]
    },
    {
      "cell_type": "code",
      "execution_count": 107,
      "metadata": {
        "id": "yHQ3az6YTjTL"
      },
      "outputs": [],
      "source": [
        "from vncorenlp import VnCoreNLP\n",
        "\n",
        "vncorenlp = VnCoreNLP(\"vncorenlp/VnCoreNLP-1.1.1.jar\", annotators=\"wseg\", max_heap_size='-Xmx500m')\n",
        "\n",
        "def custom_tokenizer(text_data, tokenizer=True):\n",
        " if tokenizer:\n",
        "   return \" \".join(vncorenlp.tokenize(str(text_data))[0])\n",
        " return text_data\n"
      ]
    },
    {
      "cell_type": "code",
      "execution_count": 108,
      "metadata": {
        "id": "iJTrwHgYTuM-"
      },
      "outputs": [],
      "source": [
        "from tensorflow.keras.preprocessing.sequence import pad_sequences\n",
        "from tensorflow.keras.utils import to_categorical\n",
        "MAX_LEN = 100\n",
        "NUM_LABEL = 3\n",
        "TOKENIZER = True\n",
        "def encoding(X, y):\n",
        "  sentences = []\n",
        "  for t in X:\n",
        "   sentences.append(custom_tokenizer(t, tokenizer=TOKENIZER))\n",
        "  X = []\n",
        "  for s in sentences:\n",
        "    sent = []\n",
        "    for w in s.split():\n",
        "     try:\n",
        "      w = w.lower()\n",
        "      sent.append(word_to_index[w])\n",
        "     except:\n",
        "      sent.append(word_to_index[\"UNK\"])\n",
        "    X.append(sent)\n",
        "\n",
        "  X = pad_sequences(maxlen = MAX_LEN, sequences = X,\n",
        "     padding = \"post\", value = word_to_index[\"PAD\"])\n",
        "  y = to_categorical(y, num_classes=NUM_LABEL)\n",
        "  return (X,y)"
      ]
    },
    {
      "cell_type": "code",
      "execution_count": 109,
      "metadata": {
        "id": "MQI3QPAxY0Js"
      },
      "outputs": [],
      "source": [
        "X_train_encoded, y_train_encoded = encoding(X_train.values.flatten(),y_train)\n",
        "X_dev_encoded, y_dev_encoded = encoding(X_dev.values.flatten(), y_dev)\n",
        "X_test_encoded, y_test_encoded = encoding(X_test.values.flatten(), y_test)"
      ]
    },
    {
      "cell_type": "code",
      "execution_count": 110,
      "metadata": {
        "id": "IRvfIm8vZ8tY"
      },
      "outputs": [],
      "source": [
        "from keras.layers import Dense, Conv2D, MaxPooling2D, Flatten ,Input, Dropout\n",
        "from keras.models import Sequential\n",
        "from tensorflow.keras.optimizers import Adam\n",
        "from tensorflow.keras.losses import CategoricalCrossentropy\n",
        "from tensorflow.keras.layers import  Embedding, Bidirectional, LSTM, TimeDistributed\n",
        "from tensorflow.keras.initializers import Constant\n"
      ]
    },
    {
      "cell_type": "code",
      "execution_count": 111,
      "metadata": {
        "id": "PU50q8_BZfcq"
      },
      "outputs": [],
      "source": [
        "model = Sequential()\n",
        "model.add(Input(shape=(MAX_LEN, ), dtype=\"float64\"))\n",
        "model.add(Embedding(input_dim=num_words, output_dim=embedding_dim, embeddings_initializer=Constant(embedding_matrix), input_length=MAX_LEN, trainable=False))\n",
        "model.add(Bidirectional(LSTM(200, return_sequences=False)))\n",
        "model.add(Dense(3, activation='softmax'))\n"
      ]
    },
    {
      "cell_type": "code",
      "source": [
        "model.summary()"
      ],
      "metadata": {
        "colab": {
          "base_uri": "https://localhost:8080/"
        },
        "id": "mnmUOeos93eC",
        "outputId": "3640910a-24fe-41ff-d943-cfd35e5ef312"
      },
      "execution_count": 112,
      "outputs": [
        {
          "output_type": "stream",
          "name": "stdout",
          "text": [
            "Model: \"sequential_3\"\n",
            "_________________________________________________________________\n",
            " Layer (type)                Output Shape              Param #   \n",
            "=================================================================\n",
            " embedding_3 (Embedding)     (None, 100, 100)          158750800 \n",
            "                                                                 \n",
            " bidirectional_4 (Bidirectio  (None, 400)              481600    \n",
            " nal)                                                            \n",
            "                                                                 \n",
            " dense_3 (Dense)             (None, 3)                 1203      \n",
            "                                                                 \n",
            "=================================================================\n",
            "Total params: 159,233,603\n",
            "Trainable params: 482,803\n",
            "Non-trainable params: 158,750,800\n",
            "_________________________________________________________________\n"
          ]
        }
      ]
    },
    {
      "cell_type": "code",
      "execution_count": 113,
      "metadata": {
        "id": "MpXLUBrubWTg"
      },
      "outputs": [],
      "source": [
        "optimizer = Adam(learning_rate=0.01)\n",
        "loss = CategoricalCrossentropy()\n",
        "model.compile(optimizer=optimizer, loss=loss, metrics=['accuracy'])\n"
      ]
    },
    {
      "cell_type": "code",
      "execution_count": 114,
      "metadata": {
        "colab": {
          "base_uri": "https://localhost:8080/"
        },
        "id": "nadgtYtga4wY",
        "outputId": "7f944aca-4489-401c-d3fd-a7bfe4495ca7"
      },
      "outputs": [
        {
          "output_type": "stream",
          "name": "stdout",
          "text": [
            "Epoch 1/10\n",
            "90/90 [==============================] - 6s 33ms/step - loss: 0.9211 - accuracy: 0.4842 - val_loss: 0.8513 - val_accuracy: 0.4454\n",
            "Epoch 2/10\n",
            "90/90 [==============================] - 2s 23ms/step - loss: 0.8364 - accuracy: 0.4860 - val_loss: 0.8534 - val_accuracy: 0.4454\n",
            "Epoch 3/10\n",
            "90/90 [==============================] - 2s 23ms/step - loss: 0.8372 - accuracy: 0.4820 - val_loss: 0.8561 - val_accuracy: 0.4454\n",
            "Epoch 4/10\n",
            "90/90 [==============================] - 2s 24ms/step - loss: 0.8362 - accuracy: 0.4832 - val_loss: 0.8464 - val_accuracy: 0.5085\n",
            "Epoch 5/10\n",
            "90/90 [==============================] - 2s 24ms/step - loss: 0.8363 - accuracy: 0.4831 - val_loss: 0.8462 - val_accuracy: 0.5085\n",
            "Epoch 6/10\n",
            "90/90 [==============================] - 2s 24ms/step - loss: 0.8354 - accuracy: 0.4848 - val_loss: 0.8463 - val_accuracy: 0.5085\n",
            "Epoch 7/10\n",
            "90/90 [==============================] - 2s 24ms/step - loss: 0.8348 - accuracy: 0.4949 - val_loss: 0.8538 - val_accuracy: 0.4454\n",
            "Epoch 8/10\n",
            "90/90 [==============================] - 2s 24ms/step - loss: 0.8373 - accuracy: 0.4845 - val_loss: 0.8475 - val_accuracy: 0.5085\n",
            "Epoch 9/10\n",
            "90/90 [==============================] - 2s 24ms/step - loss: 0.8351 - accuracy: 0.4848 - val_loss: 0.8489 - val_accuracy: 0.4454\n",
            "Epoch 10/10\n",
            "90/90 [==============================] - 2s 24ms/step - loss: 0.8359 - accuracy: 0.4875 - val_loss: 0.8497 - val_accuracy: 0.5085\n"
          ]
        }
      ],
      "source": [
        "history= model.fit(X_train_encoded, y_train_encoded, batch_size=128,epochs=10,validation_data=(X_dev_encoded, y_dev_encoded))"
      ]
    },
    {
      "cell_type": "code",
      "execution_count": 115,
      "metadata": {
        "colab": {
          "base_uri": "https://localhost:8080/"
        },
        "id": "mxlHheY3bnWX",
        "outputId": "f114aba1-e017-45f5-ac06-9565896b0fe8"
      },
      "outputs": [
        {
          "output_type": "stream",
          "name": "stdout",
          "text": [
            "99/99 [==============================] - 1s 7ms/step\n"
          ]
        }
      ],
      "source": [
        "y_pred = model.predict(X_test_encoded)\n",
        "y_pred_label = np.argmax(y_pred,axis=-1)"
      ]
    },
    {
      "cell_type": "code",
      "execution_count": 116,
      "metadata": {
        "colab": {
          "base_uri": "https://localhost:8080/"
        },
        "id": "DK-hkLIQfctO",
        "outputId": "922e4af7-7ede-4a0b-c25a-95c8411f71b9"
      },
      "outputs": [
        {
          "output_type": "execute_result",
          "data": {
            "text/plain": [
              "50.22109917877447"
            ]
          },
          "metadata": {},
          "execution_count": 116
        }
      ],
      "source": [
        "from sklearn.metrics import accuracy_score\n",
        "accuracy_score(y_test, y_pred_label)*100"
      ]
    },
    {
      "cell_type": "code",
      "execution_count": 117,
      "metadata": {
        "colab": {
          "base_uri": "https://localhost:8080/",
          "height": 295
        },
        "id": "fFToqNFtfsc5",
        "outputId": "48178e23-c9da-4408-a53d-e749fc61845e"
      },
      "outputs": [
        {
          "output_type": "display_data",
          "data": {
            "text/plain": [
              "<Figure size 432x288 with 1 Axes>"
            ],
            "image/png": "[encoded data removed]"
          },
          "metadata": {
            "needs_background": "light"
          }
        }
      ],
      "source": [
        "plt.plot(history.history['accuracy'])\n",
        "plt.plot(history.history['val_accuracy'])\n",
        "plt.title('model accuracy')\n",
        "plt.ylabel('accuracy')\n",
        "plt.xlabel('epoch')\n",
        "plt.legend(['train','val'], loc = 'upper left')\n",
        "plt.show()"
      ]
    },
    {
      "cell_type": "code",
      "execution_count": 118,
      "metadata": {
        "id": "jiZ6O31fg4dE",
        "colab": {
          "base_uri": "https://localhost:8080/",
          "height": 295
        },
        "outputId": "67b4e5af-03ca-4a06-9aad-a0e2d017f1fc"
      },
      "outputs": [
        {
          "output_type": "display_data",
          "data": {
            "text/plain": [
              "<Figure size 432x288 with 1 Axes>"
            ],
            "image/png": "[encoded data removed]"
          },
          "metadata": {
            "needs_background": "light"
          }
        }
      ],
      "source": [
        "plt.plot(history.history['loss'])\n",
        "plt.plot(history.history['val_loss'])\n",
        "plt.title('model loss')\n",
        "plt.ylabel('loss')\n",
        "plt.xlabel('epoch')\n",
        "plt.legend(['train','val'], loc = 'upper left')\n",
        "plt.show()"
      ]
    },
    {
      "cell_type": "markdown",
      "metadata": {
        "id": "hLPqdkcQhM_m"
      },
      "source": [
        "#2"
      ]
    },
    {
      "cell_type": "code",
      "execution_count": 119,
      "metadata": {
        "id": "YynngfFYhNmY"
      },
      "outputs": [],
      "source": [
        "train = '/content/drive/MyDrive/Ds310/PhoNER_COVID19-main/data/word/train_word.conll'\n",
        "dev = '/content/drive/MyDrive/Ds310/PhoNER_COVID19-main/data/word/dev_word.conll'\n",
        "test = '/content/drive/MyDrive/Ds310/PhoNER_COVID19-main/data/word/test_word.conll'"
      ]
    },
    {
      "cell_type": "code",
      "execution_count": 120,
      "metadata": {
        "id": "_XWomByZhwOg"
      },
      "outputs": [],
      "source": [
        "def load_data_and_labels(filename, encoding='utf-8'):\n",
        " sents, labels = [], []\n",
        " words, tags = [], []\n",
        " with open(filename, encoding=encoding) as f:\n",
        "  for line in f:\n",
        "   try:\n",
        "    line = line.strip()\n",
        "    if line:\n",
        "     word, tag = line.split(\" \")\n",
        "     words.append(word)\n",
        "     tags.append(tag)\n",
        "    else:\n",
        "     sents.append(words)\n",
        "     labels.append(tags)\n",
        "     words, tags = [], []\n",
        "   except Exception as e:\n",
        "    pass\n",
        " return sents, labels\n",
        "train_set = load_data_and_labels(train)\n",
        "dev_set = load_data_and_labels(dev)\n",
        "test_set = load_data_and_labels(test)"
      ]
    },
    {
      "cell_type": "code",
      "execution_count": 121,
      "metadata": {
        "id": "F50basMDiE3U"
      },
      "outputs": [],
      "source": [
        "tags = list(set(np.concatenate((np.concatenate(train_set[1]),np.concatenate(dev_set[1])))))\n"
      ]
    },
    {
      "cell_type": "code",
      "execution_count": 122,
      "metadata": {
        "colab": {
          "base_uri": "https://localhost:8080/"
        },
        "id": "4jcQfEm2iJMV",
        "outputId": "33a94567-0cab-4e6b-8821-f32dbf446949"
      },
      "outputs": [
        {
          "output_type": "execute_result",
          "data": {
            "text/plain": [
              "['B-DATE',\n",
              " 'B-ORGANIZATION',\n",
              " 'B-TRANSPORTATION',\n",
              " 'I-JOB',\n",
              " 'B-LOCATION',\n",
              " 'B-GENDER',\n",
              " 'B-JOB',\n",
              " 'B-PATIENT_ID',\n",
              " 'O',\n",
              " 'I-ORGANIZATION',\n",
              " 'I-TRANSPORTATION',\n",
              " 'I-SYMPTOM_AND_DISEASE',\n",
              " 'B-AGE',\n",
              " 'I-DATE',\n",
              " 'I-LOCATION',\n",
              " 'B-SYMPTOM_AND_DISEASE',\n",
              " 'B-NAME',\n",
              " 'I-PATIENT_ID',\n",
              " 'I-NAME',\n",
              " 'I-AGE']"
            ]
          },
          "metadata": {},
          "execution_count": 122
        }
      ],
      "source": [
        "tags"
      ]
    },
    {
      "cell_type": "code",
      "execution_count": 123,
      "metadata": {
        "id": "8LqQ7NlZiJt7"
      },
      "outputs": [],
      "source": [
        "words2index = {w:i for i,w in enumerate(word_dict)}\n",
        "tags2index = {t:i for i,t in enumerate(tags)}"
      ]
    },
    {
      "cell_type": "code",
      "execution_count": 124,
      "metadata": {
        "colab": {
          "base_uri": "https://localhost:8080/"
        },
        "id": "C-vz8REdjKCV",
        "outputId": "ef2cb630-9691-4bdc-eef5-3aa29f33bb02"
      },
      "outputs": [
        {
          "output_type": "execute_result",
          "data": {
            "text/plain": [
              "{'1587507': 0,\n",
              " ',': 1,\n",
              " '.': 2,\n",
              " 'và': 3,\n",
              " 'của': 4,\n",
              " 'là': 5,\n",
              " 'các': 6,\n",
              " 'có': 7,\n",
              " 'được': 8,\n",
              " 'trong': 9,\n",
              " 'cho': 10,\n",
              " 'đã': 11,\n",
              " 'với': 12,\n",
              " 'một': 13,\n",
              " 'không': 14,\n",
              " 'người': 15,\n",
              " ')': 16,\n",
              " '(': 17,\n",
              " 'những': 18,\n",
              " '\"': 19,\n",
              " 'này': 20,\n",
              " 'để': 21,\n",
              " 'ở': 22,\n",
              " 'khi': 23,\n",
              " ':': 24,\n",
              " 'về': 25,\n",
              " 'năm': 26,\n",
              " 'đến': 27,\n",
              " '-': 28,\n",
              " 'cũng': 29,\n",
              " 'vào': 30,\n",
              " 'trên': 31,\n",
              " 'tại': 32,\n",
              " 'nhiều': 33,\n",
              " 'đó': 34,\n",
              " 'sẽ': 35,\n",
              " 'từ': 36,\n",
              " 'ra': 37,\n",
              " 'phải': 38,\n",
              " 'như': 39,\n",
              " 'ngày': 40,\n",
              " 'lại': 41,\n",
              " 'bị': 42,\n",
              " 'ông': 43,\n",
              " 'làm': 44,\n",
              " 'hơn': 45,\n",
              " 'việc': 46,\n",
              " 'còn': 47,\n",
              " 'nhưng': 48,\n",
              " 'đang': 49,\n",
              " 'sau': 50,\n",
              " 'thì': 51,\n",
              " 'biết': 52,\n",
              " 'Việt_Nam': 53,\n",
              " 'đi': 54,\n",
              " 'nước': 55,\n",
              " 'rất': 56,\n",
              " 'mới': 57,\n",
              " 'sự': 58,\n",
              " 'có_thể': 59,\n",
              " 'theo': 60,\n",
              " 'mà': 61,\n",
              " ';': 62,\n",
              " 'nhất': 63,\n",
              " 'chỉ': 64,\n",
              " 'mình': 65,\n",
              " 'nhà': 66,\n",
              " 'tôi': 67,\n",
              " 'trước': 68,\n",
              " 'lên': 69,\n",
              " 'vẫn': 70,\n",
              " 'tới': 71,\n",
              " 'con': 72,\n",
              " 'nên': 73,\n",
              " 'tháng': 74,\n",
              " 'Theo': 75,\n",
              " '2': 76,\n",
              " 'đồng': 77,\n",
              " 'cùng': 78,\n",
              " 'hai': 79,\n",
              " 'anh': 80,\n",
              " 'khác': 81,\n",
              " 'cao': 82,\n",
              " 'họ': 83,\n",
              " 'rằng': 84,\n",
              " 'bạn': 85,\n",
              " 'qua': 86,\n",
              " 'vì': 87,\n",
              " 'Trong': 88,\n",
              " 'do': 89,\n",
              " 'cả': 90,\n",
              " 'Mỹ': 91,\n",
              " '/': 92,\n",
              " 'nói': 93,\n",
              " 'tỉnh': 94,\n",
              " 'đây': 95,\n",
              " 'số': 96,\n",
              " 'lần': 97,\n",
              " 'chưa': 98,\n",
              " 'lớn': 99,\n",
              " '1': 100,\n",
              " \"'\": 101,\n",
              " 'xe': 102,\n",
              " 'cô': 103,\n",
              " 'thấy': 104,\n",
              " '3': 105,\n",
              " 'cuộc': 106,\n",
              " 'đường': 107,\n",
              " 'đưa': 108,\n",
              " 'thực_hiện': 109,\n",
              " 'triệu': 110,\n",
              " '?': 111,\n",
              " 'cần': 112,\n",
              " 'tổ_chức': 113,\n",
              " 'sử_dụng': 114,\n",
              " 'hay': 115,\n",
              " 'hàng': 116,\n",
              " 'Hà_Nội': 117,\n",
              " 'bằng': 118,\n",
              " 'khiến': 119,\n",
              " 'tiền': 120,\n",
              " 'gần': 121,\n",
              " 'tuổi': 122,\n",
              " 'Bộ': 123,\n",
              " 'đầu': 124,\n",
              " 'tăng': 125,\n",
              " 'thứ': 126,\n",
              " 'thời_gian': 127,\n",
              " 'hoạt_động': 128,\n",
              " 'đều': 129,\n",
              " 'giá': 130,\n",
              " 'phát_triển': 131,\n",
              " '...': 132,\n",
              " 'nay': 133,\n",
              " 'khoảng': 134,\n",
              " 'nhau': 135,\n",
              " 'gây': 136,\n",
              " 'xây_dựng': 137,\n",
              " 'cách': 138,\n",
              " 'nào': 139,\n",
              " 'thêm': 140,\n",
              " 'bên': 141,\n",
              " 'Ảnh': 142,\n",
              " 'giữa': 143,\n",
              " 'Các': 144,\n",
              " 'gì': 145,\n",
              " 'huyện': 146,\n",
              " 'từng': 147,\n",
              " 'hoặc': 148,\n",
              " 'chiếc': 149,\n",
              " 'Tuy_nhiên': 150,\n",
              " 'nhận': 151,\n",
              " 'bà': 152,\n",
              " 'đầu_tư': 153,\n",
              " 'mang': 154,\n",
              " 'chính': 155,\n",
              " 'khu_vực': 156,\n",
              " 'gia_đình': 157,\n",
              " 'Sau': 158,\n",
              " 'Anh': 159,\n",
              " 'vừa': 160,\n",
              " 'tốt': 161,\n",
              " 'dự_án': 162,\n",
              " 'loại': 163,\n",
              " 'Trung_Quốc': 164,\n",
              " 'Ông': 165,\n",
              " 'bán': 166,\n",
              " 'giúp': 167,\n",
              " 'một_số': 168,\n",
              " '4': 169,\n",
              " 'dùng': 170,\n",
              " 'xã': 171,\n",
              " 'trẻ': 172,\n",
              " 'Nga': 173,\n",
              " '5': 174,\n",
              " 'vụ': 175,\n",
              " 'người_dân': 176,\n",
              " 'đất': 177,\n",
              " 'nếu': 178,\n",
              " 'rồi': 179,\n",
              " 'mức': 180,\n",
              " 'điều': 181,\n",
              " 'cấp': 182,\n",
              " 'tỷ': 183,\n",
              " 'thuộc': 184,\n",
              " 'mua': 185,\n",
              " 'nơi': 186,\n",
              " 'đối_với': 187,\n",
              " 'đầu_tiên': 188,\n",
              " 'điểm': 189,\n",
              " 'tiếp_tục': 190,\n",
              " 'thông_tin': 191,\n",
              " 'trận': 192,\n",
              " 'thế_giới': 193,\n",
              " 'giảm': 194,\n",
              " 'em': 195,\n",
              " 'tạo': 196,\n",
              " 'thi': 197,\n",
              " 'muốn': 198,\n",
              " 'quá': 199,\n",
              " 'ăn': 200,\n",
              " 'mỗi': 201,\n",
              " 'tin': 202,\n",
              " 'tham_gia': 203,\n",
              " 'mọi': 204,\n",
              " 'đạt': 205,\n",
              " 'quy_định': 206,\n",
              " 'doanh_nghiệp': 207,\n",
              " 'trường': 208,\n",
              " 'chị': 209,\n",
              " 'thành_phố': 210,\n",
              " 'phía': 211,\n",
              " 'bộ': 212,\n",
              " 'Những': 213,\n",
              " '10': 214,\n",
              " 'Tôi': 215,\n",
              " 'lúc': 216,\n",
              " 'vấn_đề': 217,\n",
              " 'tên': 218,\n",
              " 'bởi': 219,\n",
              " 'thị_trường': 220,\n",
              " 'cái': 221,\n",
              " 'đội': 222,\n",
              " 'ngoài': 223,\n",
              " 'học': 224,\n",
              " 'diễn': 225,\n",
              " 'phần': 226,\n",
              " 'USD': 227,\n",
              " 'nó': 228,\n",
              " 'đặc_biệt': 229,\n",
              " 'giờ': 230,\n",
              " 'kinh_tế': 231,\n",
              " 'sống': 232,\n",
              " 'luôn': 233,\n",
              " 'gái': 234,\n",
              " 'nhỏ': 235,\n",
              " 'tìm': 236,\n",
              " 'gặp': 237,\n",
              " 'Một': 238,\n",
              " 'ấy': 239,\n",
              " 'vốn': 240,\n",
              " 'công_tác': 241,\n",
              " 'ngay': 242,\n",
              " 'giải': 243,\n",
              " 'so': 244,\n",
              " 'Khi': 245,\n",
              " '6': 246,\n",
              " 'hệ_thống': 247,\n",
              " 'xảy': 248,\n",
              " 'Chủ_tịch': 249,\n",
              " 'ngành': 250,\n",
              " 'sản_xuất': 251,\n",
              " 'TP': 252,\n",
              " 'khả_năng': 253,\n",
              " 'quốc_gia': 254,\n",
              " 'đẹp': 255,\n",
              " 'quản_lý': 256,\n",
              " 'quyết_định': 257,\n",
              " 'công_ty': 258,\n",
              " 'biển': 259,\n",
              " 'sản_phẩm': 260,\n",
              " 'ta': 261,\n",
              " 'phim': 262,\n",
              " 'xã_hội': 263,\n",
              " 'UBND': 264,\n",
              " 'chương_trình': 265,\n",
              " 'mẹ': 266,\n",
              " 'cơ_quan': 267,\n",
              " 'Phó': 268,\n",
              " 'nhằm': 269,\n",
              " 'lấy': 270,\n",
              " 'mất': 271,\n",
              " 'vùng': 272,\n",
              " 'nhóm': 273,\n",
              " 'không_thể': 274,\n",
              " 'lời': 275,\n",
              " 'dưới': 276,\n",
              " 'khá': 277,\n",
              " 'chúng_tôi': 278,\n",
              " 'Đây': 279,\n",
              " 'yêu_cầu': 280,\n",
              " 'ảnh': 281,\n",
              " 'đúng': 282,\n",
              " 'chủ': 283,\n",
              " 'chia_sẻ': 284,\n",
              " 'hỗ_trợ': 285,\n",
              " 'Công_ty': 286,\n",
              " 'mạng': 287,\n",
              " 'tính': 288,\n",
              " 'ai': 289,\n",
              " 'Nhưng': 290,\n",
              " 'rõ': 291,\n",
              " 'địa_phương': 292,\n",
              " 'sang': 293,\n",
              " 'phòng': 294,\n",
              " 'trở_thành': 295,\n",
              " 'sáng': 296,\n",
              " 'giữ': 297,\n",
              " 'thành': 298,\n",
              " 'đơn_vị': 299,\n",
              " 'mùa': 300,\n",
              " 'bóng': 301,\n",
              " 'xem': 302,\n",
              " 'xuống': 303,\n",
              " 'tay': 304,\n",
              " 'bé': 305,\n",
              " 'xử_lý': 306,\n",
              " 'thường': 307,\n",
              " 'nguồn': 308,\n",
              " 'đủ': 309,\n",
              " 'liên_quan': 310,\n",
              " 'Nếu': 311,\n",
              " 'Chính_phủ': 312,\n",
              " 'quận': 313,\n",
              " 'khu': 314,\n",
              " 'Ngày': 315,\n",
              " 'đặt': 316,\n",
              " 'làm_việc': 317,\n",
              " 'Với': 318,\n",
              " 'Thủ_tướng': 319,\n",
              " 'vòng': 320,\n",
              " 'loài': 321,\n",
              " 'bệnh': 322,\n",
              " 'chồng': 323,\n",
              " 'gọi': 324,\n",
              " 'khó_khăn': 325,\n",
              " 'kinh_doanh': 326,\n",
              " '7': 327,\n",
              " 'quan_trọng': 328,\n",
              " 'phát_hiện': 329,\n",
              " 'quốc_tế': 330,\n",
              " 'TP.': 331,\n",
              " 'chống': 332,\n",
              " 'kể': 333,\n",
              " 'nằm': 334,\n",
              " 'lực_lượng': 335,\n",
              " 'bỏ': 336,\n",
              " 'khách': 337,\n",
              " 'kiểm_tra': 338,\n",
              " 'cơ_sở': 339,\n",
              " 'Người': 340,\n",
              " 'chuyện': 341,\n",
              " 'nữa': 342,\n",
              " 'Trước': 343,\n",
              " 'đấu': 344,\n",
              " 'ít': 345,\n",
              " 'hết': 346,\n",
              " 'cuối': 347,\n",
              " 'khỏi': 348,\n",
              " 'tiếng': 349,\n",
              " 'tàu': 350,\n",
              " 'vàng': 351,\n",
              " 'bảo_vệ': 352,\n",
              " 'khó': 353,\n",
              " 'triển_khai': 354,\n",
              " 'dài': 355,\n",
              " 'cạnh': 356,\n",
              " 'ba': 357,\n",
              " 'nhìn': 358,\n",
              " 'dành': 359,\n",
              " 'Công_an': 360,\n",
              " 'ảnh_hưởng': 361,\n",
              " 'cây': 362,\n",
              " 'chết': 363,\n",
              " 'thu': 364,\n",
              " 'hiệu_quả': 365,\n",
              " 'đánh_giá': 366,\n",
              " 'khẳng_định': 367,\n",
              " 'điều_tra': 368,\n",
              " 'vợ': 369,\n",
              " '!': 370,\n",
              " 'dẫn': 371,\n",
              " 'hiện': 372,\n",
              " 'tự': 373,\n",
              " 'HCM': 374,\n",
              " 'Tại': 375,\n",
              " 'du_lịch': 376,\n",
              " 'mạnh': 377,\n",
              " 'tuần': 378,\n",
              " 'chơi': 379,\n",
              " 'bài': 380,\n",
              " 'độ': 381,\n",
              " 'chất_lượng': 382,\n",
              " '8': 383,\n",
              " 'mặt': 384,\n",
              " 'buổi': 385,\n",
              " 'Việt': 386,\n",
              " 'tất_cả': 387,\n",
              " 'lãnh_đạo': 388,\n",
              " 'kết_quả': 389,\n",
              " 'xuất_hiện': 390,\n",
              " 'thời_điểm': 391,\n",
              " 'dịch_vụ': 392,\n",
              " 'đêm': 393,\n",
              " 'chạy': 394,\n",
              " 'an_toàn': 395,\n",
              " 'hoa': 396,\n",
              " 'học_sinh': 397,\n",
              " 'bắt_đầu': 398,\n",
              " 'nữ': 399,\n",
              " 'đảm_bảo': 400,\n",
              " 'chiều': 401,\n",
              " 'Tổng_thống': 402,\n",
              " 'Đức': 403,\n",
              " 'Sở': 404,\n",
              " 'nghiên_cứu': 405,\n",
              " 'thay_đổi': 406,\n",
              " 'Từ': 407,\n",
              " 'gửi': 408,\n",
              " 'đứng': 409,\n",
              " 'màu': 410,\n",
              " 'tình_trạng': 411,\n",
              " 'yêu': 412,\n",
              " 'cán_bộ': 413,\n",
              " 'chung': 414,\n",
              " 'trường_hợp': 415,\n",
              " 'phụ_nữ': 416,\n",
              " 'kế_hoạch': 417,\n",
              " 'điều_kiện': 418,\n",
              " 'hình_ảnh': 419,\n",
              " 'quan_hệ': 420,\n",
              " 'sao': 421,\n",
              " 'môi_trường': 422,\n",
              " 'đối_tượng': 423,\n",
              " 'chuyển': 424,\n",
              " 'thành_công': 425,\n",
              " '2017': 426,\n",
              " 'sinh': 427,\n",
              " 'Điều': 428,\n",
              " 'cá_nhân': 429,\n",
              " 'phút': 430,\n",
              " 'chọn': 431,\n",
              " 'hiện_nay': 432,\n",
              " 'Năm': 433,\n",
              " 'cầu_thủ': 434,\n",
              " 'vị_trí': 435,\n",
              " 'trai': 436,\n",
              " 'tấn_công': 437,\n",
              " 'Ban': 438,\n",
              " 'chân': 439,\n",
              " 'giao_thông': 440,\n",
              " 'báo': 441,\n",
              " 'Nhiều': 442,\n",
              " 'máy_bay': 443,\n",
              " 'hỏi': 444,\n",
              " 'tuyến': 445,\n",
              " 'Không': 446,\n",
              " 'khoa_học': 447,\n",
              " '&': 448,\n",
              " 'hướng': 449,\n",
              " 'HLV': 450,\n",
              " 'dân': 451,\n",
              " '20': 452,\n",
              " 'công_nghệ': 453,\n",
              " 'miền': 454,\n",
              " 'lớp': 455,\n",
              " 'Pháp': 456,\n",
              " 'đáng': 457,\n",
              " '9': 458,\n",
              " 'riêng': 459,\n",
              " 'đôi': 460,\n",
              " 'giá_trị': 461,\n",
              " 'cung_cấp': 462,\n",
              " 'dù': 463,\n",
              " 'nâng': 464,\n",
              " 'điện': 465,\n",
              " 'viết': 466,\n",
              " 'sớm': 467,\n",
              " 'văn_hoá': 468,\n",
              " 'quá_trình': 469,\n",
              " 'thấp': 470,\n",
              " 'trách_nhiệm': 471,\n",
              " 'giống': 472,\n",
              " 'giải_quyết': 473,\n",
              " 'khách_hàng': 474,\n",
              " 'gồm': 475,\n",
              " 'đánh': 476,\n",
              " 'Để': 477,\n",
              " 'tiến_hành': 478,\n",
              " 'nhanh': 479,\n",
              " 'Nhật_Bản': 480,\n",
              " 'vi_phạm': 481,\n",
              " 'tập_trung': 482,\n",
              " 'nghĩ': 483,\n",
              " 'cuộc_sống': 484,\n",
              " '2016': 485,\n",
              " 'Ngoài_ra': 486,\n",
              " 'chính_thức': 487,\n",
              " 'thành_viên': 488,\n",
              " 'sông': 489,\n",
              " 'thiết_kế': 490,\n",
              " 'thiếu': 491,\n",
              " 'đá': 492,\n",
              " '12': 493,\n",
              " 'hoàn_toàn': 494,\n",
              " 'chính_sách': 495,\n",
              " 'trả': 496,\n",
              " 'bước': 497,\n",
              " 'chúng_ta': 498,\n",
              " 'đồng_thời': 499,\n",
              " 'hộ': 500,\n",
              " 'Có': 501,\n",
              " 'vượt': 502,\n",
              " 'quyền': 503,\n",
              " '2018': 504,\n",
              " 'quan_tâm': 505,\n",
              " 'phối_hợp': 506,\n",
              " 'nội_dung': 507,\n",
              " 'lao_động': 508,\n",
              " 'bàn': 509,\n",
              " 'vài': 510,\n",
              " 'nước_ngoài': 511,\n",
              " 'sân': 512,\n",
              " 'lĩnh_vực': 513,\n",
              " 'thật': 514,\n",
              " 'cơ_hội': 515,\n",
              " 'Việc': 516,\n",
              " 'địa_bàn': 517,\n",
              " 'hợp_tác': 518,\n",
              " 'nghe': 519,\n",
              " 'nhiệm_vụ': 520,\n",
              " 'món': 521,\n",
              " 'thuốc': 522,\n",
              " 'công_trình': 523,\n",
              " 'công_việc': 524,\n",
              " 'lượng': 525,\n",
              " 'câu': 526,\n",
              " 'dòng': 527,\n",
              " 'báo_cáo': 528,\n",
              " 'nặng': 529,\n",
              " 'phục_vụ': 530,\n",
              " 'hãng': 531,\n",
              " '30': 532,\n",
              " 'thể_hiện': 533,\n",
              " 'bắt': 534,\n",
              " 'tài_sản': 535,\n",
              " 'Hàn_Quốc': 536,\n",
              " 'khán_giả': 537,\n",
              " 'thích': 538,\n",
              " 'Nhà_nước': 539,\n",
              " 'da': 540,\n",
              " 'chuẩn_bị': 541,\n",
              " 'đề_nghị': 542,\n",
              " 'phù_hợp': 543,\n",
              " 'chuyến': 544,\n",
              " 'đầy': 545,\n",
              " 'mở': 546,\n",
              " 'mục_tiêu': 547,\n",
              " 'đại_diện': 548,\n",
              " 'chịu': 549,\n",
              " 'nổi_tiếng': 550,\n",
              " '“': 551,\n",
              " 'nam': 552,\n",
              " 'phường': 553,\n",
              " 'chỉ_đạo': 554,\n",
              " 'Bên': 555,\n",
              " 'giành': 556,\n",
              " 'đông': 557,\n",
              " 'hiểu': 558,\n",
              " '”': 559,\n",
              " 'nền': 560,\n",
              " 'kỳ': 561,\n",
              " 'càng': 562,\n",
              " 'máy': 563,\n",
              " 'thế': 564,\n",
              " 'ý_kiến': 565,\n",
              " 'cá': 566,\n",
              " 'thực_tế': 567,\n",
              " 'chất': 568,\n",
              " 'chúng': 569,\n",
              " 'cháu': 570,\n",
              " 'công_bố': 571,\n",
              " 'thuế': 572,\n",
              " 'hát': 573,\n",
              " 'giao': 574,\n",
              " 'đóng': 575,\n",
              " 'chuyên_gia': 576,\n",
              " 'trực_tiếp': 577,\n",
              " 'mối': 578,\n",
              " 'pháp_luật': 579,\n",
              " 'Và': 580,\n",
              " 'hợp_đồng': 581,\n",
              " 'lễ': 582,\n",
              " 'hành_vi': 583,\n",
              " 'trung_tâm': 584,\n",
              " 'dễ': 585,\n",
              " 'bất_ngờ': 586,\n",
              " 'sức_khoẻ': 587,\n",
              " 'nhờ': 588,\n",
              " 'như_vậy': 589,\n",
              " 'xác_định': 590,\n",
              " 'điện_thoại': 591,\n",
              " 'chứ': 592,\n",
              " 'quay': 593,\n",
              " 'án': 594,\n",
              " 'mẫu': 595,\n",
              " 'trở_lại': 596,\n",
              " 'đâu': 597,\n",
              " 'nhân_dân': 598,\n",
              " 'Syria': 599,\n",
              " 'giáo_dục': 600,\n",
              " 'giai_đoạn': 601,\n",
              " 'Đến': 602,\n",
              " 'ngân_hàng': 603,\n",
              " 'tránh': 604,\n",
              " 'bảng': 605,\n",
              " 'Quốc_hội': 606,\n",
              " 'thắng': 607,\n",
              " 'tăng_cường': 608,\n",
              " 'xin': 609,\n",
              " 'lòng': 610,\n",
              " 'xa': 611,\n",
              " 'Đà_Nẵng': 612,\n",
              " 'Đảng': 613,\n",
              " 'Cô': 614,\n",
              " 'thương_mại': 615,\n",
              " 'thiết_bị': 616,\n",
              " 'bản': 617,\n",
              " 'an_ninh': 618,\n",
              " 'bay': 619,\n",
              " 'Còn': 620,\n",
              " 'Bộ_trưởng': 621,\n",
              " 'nhu_cầu': 622,\n",
              " 'cũ': 623,\n",
              " 'thường_xuyên': 624,\n",
              " 'làng': 625,\n",
              " 'Ở': 626,\n",
              " 'diện_tích': 627,\n",
              " 'diễn_viên': 628,\n",
              " 'cầu': 629,\n",
              " 'lựa_chọn': 630,\n",
              " 'thậm_chí': 631,\n",
              " 'đào_tạo': 632,\n",
              " 'ngôi': 633,\n",
              " 'bao_gồm': 634,\n",
              " 'chính_quyền': 635,\n",
              " 'vị': 636,\n",
              " 'sinh_viên': 637,\n",
              " 'Cục': 638,\n",
              " 'quả': 639,\n",
              " 'nhân_viên': 640,\n",
              " 'đàn_ông': 641,\n",
              " 'thông_qua': 642,\n",
              " 'thông_báo': 643,\n",
              " 'hôm': 644,\n",
              " 'đoàn': 645,\n",
              " 'mắt': 646,\n",
              " 'kiểm_soát': 647,\n",
              " 'uống': 648,\n",
              " 'một_cách': 649,\n",
              " '15': 650,\n",
              " 'cứ': 651,\n",
              " 'nghề': 652,\n",
              " 'hoàn_thành': 653,\n",
              " 'ngồi': 654,\n",
              " 'Trung_tâm': 655,\n",
              " '2015': 656,\n",
              " 'không_chỉ': 657,\n",
              " 'khoản': 658,\n",
              " 'xanh': 659,\n",
              " 'Trường': 660,\n",
              " 'chẳng': 661,\n",
              " 'toàn': 662,\n",
              " '11': 663,\n",
              " 'Đó': 664,\n",
              " 'Cũng': 665,\n",
              " 'Nam': 666,\n",
              " 'thi_đấu': 667,\n",
              " 'tuyên_bố': 668,\n",
              " 'họp': 669,\n",
              " 'trưởng': 670,\n",
              " 'thí_sinh': 671,\n",
              " 'Về': 672,\n",
              " 'lịch_sử': 673,\n",
              " 'trở': 674,\n",
              " 'mưa': 675,\n",
              " 'thuê': 676,\n",
              " 'chỗ': 677,\n",
              " 'Bà': 678,\n",
              " 'bóng_đá': 679,\n",
              " 'đô_thị': 680,\n",
              " 'hành_động': 681,\n",
              " 'chụp': 682,\n",
              " 'đoạn': 683,\n",
              " 'rừng': 684,\n",
              " 'giới': 685,\n",
              " 'thịt': 686,\n",
              " 'sở_hữu': 687,\n",
              " 'thực_phẩm': 688,\n",
              " 'Giám_đốc': 689,\n",
              " 'tổng': 690,\n",
              " 'vay': 691,\n",
              " 'tài_chính': 692,\n",
              " 'nuôi': 693,\n",
              " 'lâu': 694,\n",
              " 'thu_hút': 695,\n",
              " 'vậy': 696,\n",
              " 'suốt': 697,\n",
              " 'kỹ_thuật': 698,\n",
              " 'ghi': 699,\n",
              " 'tình_hình': 700,\n",
              " 'vai_trò': 701,\n",
              " 'cuối_cùng': 702,\n",
              " 'công': 703,\n",
              " 'bức': 704,\n",
              " 'cộng_đồng': 705,\n",
              " 'đảo': 706,\n",
              " 'khai_thác': 707,\n",
              " 'phương_tiện': 708,\n",
              " 'biện_pháp': 709,\n",
              " 'trồng': 710,\n",
              " 'sách': 711,\n",
              " 'đăng_ký': 712,\n",
              " 'giải_pháp': 713,\n",
              " 'Tết': 714,\n",
              " 'rộng': 715,\n",
              " 'liên_tục': 716,\n",
              " 'tích_cực': 717,\n",
              " 'nhớ': 718,\n",
              " 'chiếm': 719,\n",
              " 'ủng_hộ': 720,\n",
              " 'cơ_thể': 721,\n",
              " 'nguyên_nhân': 722,\n",
              " 'ổn_định': 723,\n",
              " 'áp_dụng': 724,\n",
              " 'trái': 725,\n",
              " 'ngày_càng': 726,\n",
              " 'hồ_sơ': 727,\n",
              " 'Trung_ương': 728,\n",
              " 'Hai': 729,\n",
              " 'nạn_nhân': 730,\n",
              " 'Loài': 731,\n",
              " 'chức_năng': 732,\n",
              " 'thực_sự': 733,\n",
              " '100': 734,\n",
              " 'truyền_thống': 735,\n",
              " 'bản_thân': 736,\n",
              " 'thăm': 737,\n",
              " 'lập': 738,\n",
              " 'Chúng_tôi': 739,\n",
              " 'nguy_cơ': 740,\n",
              " 'tầm': 741,\n",
              " 'bác_sĩ': 742,\n",
              " 'nhạc': 743,\n",
              " 'trang': 744,\n",
              " 'vừa_qua': 745,\n",
              " 'vụ_việc': 746,\n",
              " 'con_người': 747,\n",
              " 'chú_ý': 748,\n",
              " 'châu_Âu': 749,\n",
              " 'ô_tô': 750,\n",
              " 'bệnh_viện': 751,\n",
              " 'ban': 752,\n",
              " 'toàn_bộ': 753,\n",
              " 'thành_lập': 754,\n",
              " 'đời': 755,\n",
              " 'sức': 756,\n",
              " 'vai': 757,\n",
              " 'nợ': 758,\n",
              " 'ca_sĩ': 759,\n",
              " 'nhanh_chóng': 760,\n",
              " 'máu': 761,\n",
              " 'trắng': 762,\n",
              " 'dừng': 763,\n",
              " 'nỗ_lực': 764,\n",
              " 'Luật': 765,\n",
              " 'hạn_chế': 766,\n",
              " 'coi': 767,\n",
              " 'sự_kiện': 768,\n",
              " 'cháy': 769,\n",
              " 'chi_phí': 770,\n",
              " 'm': 771,\n",
              " 'núi': 772,\n",
              " 'tên_lửa': 773,\n",
              " 'chục': 774,\n",
              " 'điều_trị': 775,\n",
              " 'ký': 776,\n",
              " 'cho_phép': 777,\n",
              " 'Hồ_Chí_Minh': 778,\n",
              " 'Họ': 779,\n",
              " 'ứng_dụng': 780,\n",
              " 'tấn': 781,\n",
              " 'giao_dịch': 782,\n",
              " 'bao_giờ': 783,\n",
              " 'cụ_thể': 784,\n",
              " 'thời': 785,\n",
              " 'đất_nước': 786,\n",
              " 'bệnh_nhân': 787,\n",
              " 'trả_lời': 788,\n",
              " 'số_lượng': 789,\n",
              " 'đứa': 790,\n",
              " 'nêu': 791,\n",
              " 'mở_rộng': 792,\n",
              " 'Triều_Tiên': 793,\n",
              " 'đồ': 794,\n",
              " 'Hiện': 795,\n",
              " 'tặng': 796,\n",
              " 'lý_do': 797,\n",
              " 'chiến_thắng': 798,\n",
              " 'sâu': 799,\n",
              " 'đơn': 800,\n",
              " 'chứa': 801,\n",
              " 'đỏ': 802,\n",
              " 'nhà_nước': 803,\n",
              " 'bổ_sung': 804,\n",
              " 'cảnh_sát': 805,\n",
              " 'tinh_thần': 806,\n",
              " 'nhất_là': 807,\n",
              " 'quân_sự': 808,\n",
              " 'Được': 809,\n",
              " 'nghìn': 810,\n",
              " 'chủ_yếu': 811,\n",
              " 'tai_nạn': 812,\n",
              " 'cảnh': 813,\n",
              " 'niềm': 814,\n",
              " 'vé': 815,\n",
              " 'vô_cùng': 816,\n",
              " 'kéo_dài': 817,\n",
              " 'áo': 818,\n",
              " 'toà': 819,\n",
              " 'quân_đội': 820,\n",
              " '2010': 821,\n",
              " 'tập': 822,\n",
              " 'hình': 823,\n",
              " 'chăm_sóc': 824,\n",
              " 'phố': 825,\n",
              " 'vợ_chồng': 826,\n",
              " 'chính_trị': 827,\n",
              " 'cảm_thấy': 828,\n",
              " 'mời': 829,\n",
              " 'giới_thiệu': 830,\n",
              " 'mấy': 831,\n",
              " 'Đại_học': 832,\n",
              " 'Nguồn': 833,\n",
              " 'kinh_nghiệm': 834,\n",
              " 'ĐH': 835,\n",
              " 'hãy': 836,\n",
              " 'Hội': 837,\n",
              " 'dự_kiến': 838,\n",
              " 'góp_phần': 839,\n",
              " 'Chỉ': 840,\n",
              " 'ngủ': 841,\n",
              " 'hạnh_phúc': 842,\n",
              " 'trẻ_em': 843,\n",
              " 'công_an': 844,\n",
              " 'nghệ_thuật': 845,\n",
              " 'hồi': 846,\n",
              " 'phí': 847,\n",
              " '2014': 848,\n",
              " 'Dù': 849,\n",
              " 'dịp': 850,\n",
              " '+': 851,\n",
              " 'Uỷ_ban': 852,\n",
              " 'dân_tộc': 853,\n",
              " 'Ngay': 854,\n",
              " 'đem': 855,\n",
              " 'đáp_ứng': 856,\n",
              " 'hiện_tại': 857,\n",
              " 'câu_chuyện': 858,\n",
              " 'trăm': 859,\n",
              " 'công_nghiệp': 860,\n",
              " 'tối': 861,\n",
              " 'tương_lai': 862,\n",
              " '>': 863,\n",
              " 'quy_hoạch': 864,\n",
              " 'tìm_kiếm': 865,\n",
              " 'cậu': 866,\n",
              " 'nhà_đầu_tư': 867,\n",
              " 'thôi': 868,\n",
              " 'quân': 869,\n",
              " 'Trên': 870,\n",
              " 'Thái_Lan': 871,\n",
              " 'nguyên': 872,\n",
              " 'quý': 873,\n",
              " 'đổ': 874,\n",
              " 'tỉ': 875,\n",
              " 'rơi': 876,\n",
              " 'cổ': 877,\n",
              " 'trở_nên': 878,\n",
              " 'tham_dự': 879,\n",
              " 'cặp': 880,\n",
              " 'tỷ_lệ': 881,\n",
              " 'cho_hay': 882,\n",
              " 'tốc_độ': 883,\n",
              " 'phiên': 884,\n",
              " 'hiện_đại': 885,\n",
              " 'du_khách': 886,\n",
              " 'trang_bị': 887,\n",
              " 'nóng': 888,\n",
              " 'trao': 889,\n",
              " 'xuất_khẩu': 890,\n",
              " 'Đặc_biệt': 891,\n",
              " 'chi': 892,\n",
              " 'nhấn_mạnh': 893,\n",
              " 'văn_bản': 894,\n",
              " '–': 895,\n",
              " 'tăng_trưởng': 896,\n",
              " '50': 897,\n",
              " 'tạm': 898,\n",
              " 'tiếp': 899,\n",
              " 'vui': 900,\n",
              " 'cắt': 901,\n",
              " 'nghiêm_trọng': 902,\n",
              " 'báo_chí': 903,\n",
              " 'bờ': 904,\n",
              " 'nghèo': 905,\n",
              " 'quê': 906,\n",
              " 'thủ_tục': 907,\n",
              " 'ra_mắt': 908,\n",
              " 'giám_sát': 909,\n",
              " 'nghỉ': 910,\n",
              " 'kiểu': 911,\n",
              " 'chính_phủ': 912,\n",
              " 'dự': 913,\n",
              " 'DN': 914,\n",
              " 'xem_xét': 915,\n",
              " 'thoả_thuận': 916,\n",
              " 'sẵn_sàng': 917,\n",
              " 'hình_thức': 918,\n",
              " 'tình': 919,\n",
              " 'mà_còn': 920,\n",
              " 'có_mặt': 921,\n",
              " 'chợ': 922,\n",
              " 'bắn': 923,\n",
              " 'dầu': 924,\n",
              " 'dạy': 925,\n",
              " 'điều_chỉnh': 926,\n",
              " 'ấn_tượng': 927,\n",
              " 'kết_hợp': 928,\n",
              " 'cười': 929,\n",
              " 'xong': 930,\n",
              " 'thanh_niên': 931,\n",
              " 'đại_học': 932,\n",
              " 'kg': 933,\n",
              " 'hành_chính': 934,\n",
              " 'Ấn_Độ': 935,\n",
              " 'lắm': 936,\n",
              " 'nguy_hiểm': 937,\n",
              " 'mạnh_mẽ': 938,\n",
              " 'quán': 939,\n",
              " 'giáo_viên': 940,\n",
              " 'rời': 941,\n",
              " 'đề_xuất': 942,\n",
              " 'kẻ': 943,\n",
              " 'lá': 944,\n",
              " 'tấm': 945,\n",
              " 'rút': 946,\n",
              " 'Cùng': 947,\n",
              " 'đơn_giản': 948,\n",
              " 'y_tế': 949,\n",
              " 'chờ': 950,\n",
              " 'TTXVN': 951,\n",
              " 'Bạn': 952,\n",
              " 'km': 953,\n",
              " 'cần_thiết': 954,\n",
              " 'dần': 955,\n",
              " 'mong_muốn': 956,\n",
              " 'xe_máy': 957,\n",
              " 'cố_gắng': 958,\n",
              " 'sắp': 959,\n",
              " 'nghệ_sĩ': 960,\n",
              " 'cánh': 961,\n",
              " 'chở': 962,\n",
              " 'giấy': 963,\n",
              " 'vũ_khí': 964,\n",
              " 'đọc': 965,\n",
              " 'chắc_chắn': 966,\n",
              " 'đau': 967,\n",
              " 'chiến_lược': 968,\n",
              " 'đầy_đủ': 969,\n",
              " 'cửa': 970,\n",
              " '18': 971,\n",
              " 'tình_cảm': 972,\n",
              " 'Đông': 973,\n",
              " 'bị_cáo': 974,\n",
              " 'nổi': 975,\n",
              " 'phép': 976,\n",
              " 'vô_địch': 977,\n",
              " 'bình_thường': 978,\n",
              " 'hướng_dẫn': 979,\n",
              " 'buộc': 980,\n",
              " 'nhập_khẩu': 981,\n",
              " 'Hoa_hậu': 982,\n",
              " 'đại_biểu': 983,\n",
              " 'bảo_đảm': 984,\n",
              " 'kết_thúc': 985,\n",
              " 'to': 986,\n",
              " 'hề': 987,\n",
              " 'Ngoài': 988,\n",
              " 'hồ': 989,\n",
              " 'Bắc': 990,\n",
              " 'phiên_bản': 991,\n",
              " 'thay': 992,\n",
              " 'Mặc_dù': 993,\n",
              " 'cổ_phiếu': 994,\n",
              " 'Trưởng': 995,\n",
              " 'mắc': 996,\n",
              " 'cấm': 997,\n",
              " 'xuất_sắc': 998,\n",
              " 'trời': 999,\n",
              " ...}"
            ]
          },
          "metadata": {},
          "execution_count": 124
        }
      ],
      "source": [
        "words2index"
      ]
    },
    {
      "cell_type": "code",
      "execution_count": 125,
      "metadata": {
        "colab": {
          "base_uri": "https://localhost:8080/"
        },
        "id": "Xl3IhiaQjNmt",
        "outputId": "8e810a73-f159-4128-9204-2ed22bee6026"
      },
      "outputs": [
        {
          "output_type": "execute_result",
          "data": {
            "text/plain": [
              "{'B-DATE': 0,\n",
              " 'B-ORGANIZATION': 1,\n",
              " 'B-TRANSPORTATION': 2,\n",
              " 'I-JOB': 3,\n",
              " 'B-LOCATION': 4,\n",
              " 'B-GENDER': 5,\n",
              " 'B-JOB': 6,\n",
              " 'B-PATIENT_ID': 7,\n",
              " 'O': 8,\n",
              " 'I-ORGANIZATION': 9,\n",
              " 'I-TRANSPORTATION': 10,\n",
              " 'I-SYMPTOM_AND_DISEASE': 11,\n",
              " 'B-AGE': 12,\n",
              " 'I-DATE': 13,\n",
              " 'I-LOCATION': 14,\n",
              " 'B-SYMPTOM_AND_DISEASE': 15,\n",
              " 'B-NAME': 16,\n",
              " 'I-PATIENT_ID': 17,\n",
              " 'I-NAME': 18,\n",
              " 'I-AGE': 19}"
            ]
          },
          "metadata": {},
          "execution_count": 125
        }
      ],
      "source": [
        "tags2index"
      ]
    },
    {
      "cell_type": "code",
      "execution_count": 126,
      "metadata": {
        "id": "7vzj1k3gjRDU"
      },
      "outputs": [],
      "source": [
        "def encoding(data):\n",
        " X = [[words2index.get(w, 0) for w in t] for t in data[0]]\n",
        " X  = pad_sequences(maxlen = MAX_LEN,  sequences = X, padding = \"post\", value = 0)\n",
        " y = [[tags2index[w] for w in s] for s in data[1]]\n",
        " y = pad_sequences(maxlen=MAX_LEN,sequences=y, padding=\"post\", value=tags2index[\"O\"])\n",
        " return X, y\n",
        "X_train, y_train = encoding(train_set)\n",
        "X_dev, y_dev = encoding(dev_set)\n",
        "X_test, y_test = encoding(test_set)\n",
        "y_train = to_categorical(y_train, num_classes=len(tags))\n",
        "y_dev = to_categorical(y_dev, num_classes=len(tags))\n"
      ]
    },
    {
      "cell_type": "code",
      "execution_count": 127,
      "metadata": {
        "id": "SVJugnhKnFZZ",
        "colab": {
          "base_uri": "https://localhost:8080/"
        },
        "outputId": "a14a275c-11b6-4c58-b423-b5a087151042"
      },
      "outputs": [
        {
          "output_type": "stream",
          "name": "stderr",
          "text": [
            "WARNING:tensorflow:Layer lstm_5 will not use cuDNN kernels since it doesn't meet the criteria. It will use a generic GPU kernel as fallback when running on GPU.\n",
            "WARNING:tensorflow:Layer lstm_5 will not use cuDNN kernels since it doesn't meet the criteria. It will use a generic GPU kernel as fallback when running on GPU.\n",
            "WARNING:tensorflow:Layer lstm_5 will not use cuDNN kernels since it doesn't meet the criteria. It will use a generic GPU kernel as fallback when running on GPU.\n"
          ]
        }
      ],
      "source": [
        "model1 = Sequential()\n",
        "model1.add(Input(shape=(MAX_LEN,)))\n",
        "model1.add(Embedding(input_dim=len(words)+2,output_dim=EMBEDING_DIM, input_length=MAX_LEN,mask_zero=True, trainable=False))\n",
        "model1.add(Bidirectional(LSTM(units=512, return_sequences=True,\n",
        "recurrent_dropout=0.2, dropout=0.2)))\n"
      ]
    },
    {
      "cell_type": "code",
      "source": [
        "model1.summary()"
      ],
      "metadata": {
        "colab": {
          "base_uri": "https://localhost:8080/"
        },
        "id": "bpyER5n09_Da",
        "outputId": "130cb738-a775-4f60-b3ac-94a51060ba9d"
      },
      "execution_count": 128,
      "outputs": [
        {
          "output_type": "stream",
          "name": "stdout",
          "text": [
            "Model: \"sequential_4\"\n",
            "_________________________________________________________________\n",
            " Layer (type)                Output Shape              Param #   \n",
            "=================================================================\n",
            " embedding_4 (Embedding)     (None, 100, 100)          158751000 \n",
            "                                                                 \n",
            " bidirectional_5 (Bidirectio  (None, 100, 1024)        2510848   \n",
            " nal)                                                            \n",
            "                                                                 \n",
            "=================================================================\n",
            "Total params: 161,261,848\n",
            "Trainable params: 2,510,848\n",
            "Non-trainable params: 158,751,000\n",
            "_________________________________________________________________\n"
          ]
        }
      ]
    },
    {
      "cell_type": "code",
      "execution_count": 129,
      "metadata": {
        "id": "sp8qIus0nrF_"
      },
      "outputs": [],
      "source": [
        "model1.add(TimeDistributed(Dense(len(tags), activation=\"softmax\")))"
      ]
    },
    {
      "cell_type": "code",
      "execution_count": 130,
      "metadata": {
        "id": "A573ufwMnxKC"
      },
      "outputs": [],
      "source": [
        "optimizer = Adam(learning_rate=0.01)\n",
        "loss = CategoricalCrossentropy()\n",
        "model1.compile(optimizer=optimizer, loss=loss, metrics=['accuracy'])\n"
      ]
    },
    {
      "cell_type": "code",
      "execution_count": 131,
      "metadata": {
        "colab": {
          "base_uri": "https://localhost:8080/"
        },
        "id": "F-2f4S4DnyBd",
        "outputId": "4277bac0-8c21-4e76-b231-15e29d9c118b"
      },
      "outputs": [
        {
          "output_type": "stream",
          "name": "stdout",
          "text": [
            "Epoch 1/3\n",
            "40/40 [==============================] - 46s 1s/step - loss: 0.3010 - accuracy: 0.7714 - val_loss: 0.2920 - val_accuracy: 0.7504\n",
            "Epoch 2/3\n",
            "40/40 [==============================] - 40s 989ms/step - loss: 0.2064 - accuracy: 0.8030 - val_loss: 0.2061 - val_accuracy: 0.7991\n",
            "Epoch 3/3\n",
            "40/40 [==============================] - 41s 1s/step - loss: 0.1410 - accuracy: 0.8606 - val_loss: 0.1691 - val_accuracy: 0.8373\n"
          ]
        }
      ],
      "source": [
        "history1= model1.fit(X_train, y_train, batch_size=128,epochs=3,validation_data=(X_dev, y_dev))"
      ]
    },
    {
      "cell_type": "code",
      "execution_count": 132,
      "metadata": {
        "id": "g6_HM--Jn7kH",
        "colab": {
          "base_uri": "https://localhost:8080/",
          "height": 295
        },
        "outputId": "76e4a4b2-e870-4804-9468-2b4c1344c0f2"
      },
      "outputs": [
        {
          "output_type": "display_data",
          "data": {
            "text/plain": [
              "<Figure size 432x288 with 1 Axes>"
            ],
            "image/png": "[encoded data removed]"
          },
          "metadata": {
            "needs_background": "light"
          }
        }
      ],
      "source": [
        "plt.plot(history1.history['accuracy'])\n",
        "plt.plot(history1.history['val_accuracy'])\n",
        "plt.title('model accuracy')\n",
        "plt.ylabel('accuracy')\n",
        "plt.xlabel('epoch')\n",
        "plt.legend(['train','val'], loc = 'upper left')\n",
        "plt.show()"
      ]
    },
    {
      "cell_type": "code",
      "source": [
        "plt.plot(history1.history['loss'])\n",
        "plt.plot(history1.history['val_loss'])\n",
        "plt.title('model loss')\n",
        "plt.ylabel('loss')\n",
        "plt.xlabel('epoch')\n",
        "plt.legend(['train','val'], loc = 'upper left')\n",
        "plt.show()"
      ],
      "metadata": {
        "colab": {
          "base_uri": "https://localhost:8080/",
          "height": 295
        },
        "id": "XEqY-ZsjCMkz",
        "outputId": "9015d3af-9ca2-4116-cc75-d6ab98c8b897"
      },
      "execution_count": 133,
      "outputs": [
        {
          "output_type": "display_data",
          "data": {
            "text/plain": [
              "<Figure size 432x288 with 1 Axes>"
            ],
            "image/png": "[encoded data removed]"
          },
          "metadata": {
            "needs_background": "light"
          }
        }
      ]
    },
    {
      "cell_type": "code",
      "source": [
        "y_pred1 = model1.predict(X_test_encoded)\n",
        "y_pred_label1 = np.argmax(y_pred1,axis=-1)"
      ],
      "metadata": {
        "colab": {
          "base_uri": "https://localhost:8080/"
        },
        "id": "0MUh3Y7FH3nP",
        "outputId": "a06bd7af-e7bb-4b99-d446-f18e9792d85e"
      },
      "execution_count": 134,
      "outputs": [
        {
          "output_type": "stream",
          "name": "stdout",
          "text": [
            "99/99 [==============================] - 10s 92ms/step\n"
          ]
        }
      ]
    },
    {
      "cell_type": "code",
      "source": [
        "import numpy as np\n",
        "from sklearn.metrics import accuracy_score\n",
        "acc = []\n",
        "\n",
        "for i in range(0, len(y_test)):\n",
        " acc.append(accuracy_score(y_test[i], y_pred_label1[i]))\n",
        "  \n",
        "np.mean(acc)*100 "
      ],
      "metadata": {
        "colab": {
          "base_uri": "https://localhost:8080/"
        },
        "id": "7zSrUhQAFHEV",
        "outputId": "0cd5232a-ec44-4126-a874-3762810b7878"
      },
      "execution_count": 135,
      "outputs": [
        {
          "output_type": "execute_result",
          "data": {
            "text/plain": [
              "91.62866666666667"
            ]
          },
          "metadata": {},
          "execution_count": 135
        }
      ]
    },
    {
      "cell_type": "markdown",
      "source": [
        "#BAITAP"
      ],
      "metadata": {
        "id": "-2HoY3LRIXfq"
      }
    },
    {
      "cell_type": "markdown",
      "source": [
        "##Cau1"
      ],
      "metadata": {
        "id": "FgQdwWaVIZG0"
      }
    },
    {
      "cell_type": "code",
      "source": [
        "model.summary()"
      ],
      "metadata": {
        "colab": {
          "base_uri": "https://localhost:8080/"
        },
        "id": "HKRiD050Ft0n",
        "outputId": "2121582f-e1ff-4aa7-f847-4524beb9f77f"
      },
      "execution_count": 136,
      "outputs": [
        {
          "output_type": "stream",
          "name": "stdout",
          "text": [
            "Model: \"sequential_3\"\n",
            "_________________________________________________________________\n",
            " Layer (type)                Output Shape              Param #   \n",
            "=================================================================\n",
            " embedding_3 (Embedding)     (None, 100, 100)          158750800 \n",
            "                                                                 \n",
            " bidirectional_4 (Bidirectio  (None, 400)              481600    \n",
            " nal)                                                            \n",
            "                                                                 \n",
            " dense_3 (Dense)             (None, 3)                 1203      \n",
            "                                                                 \n",
            "=================================================================\n",
            "Total params: 159,233,603\n",
            "Trainable params: 482,803\n",
            "Non-trainable params: 158,750,800\n",
            "_________________________________________________________________\n"
          ]
        }
      ]
    },
    {
      "cell_type": "code",
      "source": [
        "y_test = pd.read_csv('/content/drive/MyDrive/ UIT-VSFC/test/sentiments.txt', sep='\\n', header=None, index_col=None)"
      ],
      "metadata": {
        "id": "9Snj_t-NO6Qc"
      },
      "execution_count": 137,
      "outputs": []
    },
    {
      "cell_type": "code",
      "source": [
        "from sklearn.metrics import accuracy_score, f1_score, precision_score, recall_score"
      ],
      "metadata": {
        "id": "XgzghdgKK27a"
      },
      "execution_count": 138,
      "outputs": []
    },
    {
      "cell_type": "code",
      "source": [
        "print(\"accuracy: \", accuracy_score(y_test, y_pred_label)*100)\n",
        "print(\"precision score: \", precision_score(y_test, y_pred_label, average=\"macro\")*100)\n",
        "print(\"recall score: \", recall_score(y_test, y_pred_label, average=\"macro\")*100)\n",
        "print(\"f1 score (macro): \", f1_score(y_test, y_pred_label, average=\"macro\")*100)"
      ],
      "metadata": {
        "colab": {
          "base_uri": "https://localhost:8080/"
        },
        "id": "yWPMlt1jKYc9",
        "outputId": "cf393c1f-dbce-4bf2-b6ca-385e742699be"
      },
      "execution_count": 139,
      "outputs": [
        {
          "output_type": "stream",
          "name": "stdout",
          "text": [
            "accuracy:  50.22109917877447\n",
            "precision score:  16.740366392924823\n",
            "recall score:  33.33333333333333\n",
            "f1 score (macro):  22.287636669470142\n"
          ]
        },
        {
          "output_type": "stream",
          "name": "stderr",
          "text": [
            "/usr/local/lib/python3.8/dist-packages/sklearn/metrics/_classification.py:1318: UndefinedMetricWarning: Precision is ill-defined and being set to 0.0 in labels with no predicted samples. Use `zero_division` parameter to control this behavior.\n",
            "  _warn_prf(average, modifier, msg_start, len(result))\n"
          ]
        }
      ]
    },
    {
      "cell_type": "markdown",
      "source": [
        "##Cau2"
      ],
      "metadata": {
        "id": "fppunD6CQUZ7"
      }
    },
    {
      "cell_type": "code",
      "source": [
        "import pandas as pd\n",
        "X_train = pd.read_csv('/content/drive/MyDrive/ UIT-VSFC/train/sents.txt', sep='\\n', header=None, index_col=None)\n",
        "y_train = pd.read_csv('/content/drive/MyDrive/ UIT-VSFC/train/sentiments.txt', sep='\\n', header=None, index_col=None)\n",
        "\n",
        "X_dev = pd.read_csv('/content/drive/MyDrive/ UIT-VSFC/dev/sents.txt', sep='\\n', header=None, index_col=None)\n",
        "y_dev = pd.read_csv('/content/drive/MyDrive/ UIT-VSFC/dev/sentiments.txt', sep='\\n', header=None, index_col=None)\n",
        "\n",
        "X_test = pd.read_csv('/content/drive/MyDrive/ UIT-VSFC/test/sents.txt', sep='\\n', header=None, index_col=None)\n",
        "y_test = pd.read_csv('/content/drive/MyDrive/ UIT-VSFC/test/sentiments.txt', sep='\\n', header=None, index_col=None)\n",
        "\n",
        "y_train = y_train.values.flatten()\n",
        "y_dev = y_dev.values.flatten()\n",
        "y_test = y_test.values.flatten()\n"
      ],
      "metadata": {
        "id": "1ooUZWAIDmOO"
      },
      "execution_count": 150,
      "outputs": []
    },
    {
      "cell_type": "code",
      "source": [
        "EMBEDDING = '/content/drive/MyDrive/DS201/word2vec_vi_words_100dims.txt'\n",
        "EMBEDING_DIM = 100\n",
        "MAX_FEATURE = 10000\n",
        "word_dict = []\n",
        "embeddings_index = {}\n",
        "embedding_dim = EMBEDING_DIM\n",
        "max_feature = MAX_FEATURE\n",
        "f = open(EMBEDDING)\n",
        "for line in f:\n",
        " values = line.split(' ')\n",
        " word = values[0]\n",
        " word_dict.append(word)\n",
        "try:\n",
        " coefs = np.asarray(values[1:], dtype='float32')\n",
        " embeddings_index[word] = coefs\n",
        "except Exception as e:\n",
        " pass\n",
        "f.close()\n",
        "print('Embedding data loaded')\n"
      ],
      "metadata": {
        "colab": {
          "base_uri": "https://localhost:8080/"
        },
        "id": "eItdHES78FAy",
        "outputId": "789c7faf-0648-4bef-be64-d305e35e9548"
      },
      "execution_count": 141,
      "outputs": [
        {
          "output_type": "stream",
          "name": "stdout",
          "text": [
            "Embedding data loaded\n"
          ]
        }
      ]
    },
    {
      "cell_type": "code",
      "source": [
        "# word to index\n",
        "words = word_dict\n",
        "num_words = len(words)\n",
        "# Dictionary word:index pair\n",
        "# word is key and its value is corresponding index\n",
        "word_to_index = {w : i + 2 for i, w in enumerate(words)}\n",
        "word_to_index[\"UNK\"] = 1\n",
        "word_to_index[\"PAD\"] = 0\n",
        "# Dictionary label:index pair\n",
        "idx2word = {i: w for w, i in word_to_index.items()}"
      ],
      "metadata": {
        "id": "Q5x5mLyODGyw"
      },
      "execution_count": 142,
      "outputs": []
    },
    {
      "cell_type": "code",
      "source": [
        "import numpy as np\n",
        "embedding_matrix = np.zeros((num_words, embedding_dim))\n",
        "\n",
        "for word, i in word_to_index.items():\n",
        "  if i > max_feature:\n",
        "    continue\n",
        "  embedding_vector = embeddings_index.get(word)\n",
        "  if embedding_vector is not None:\n",
        "    embedding_matrix[i] = embedding_vector\n",
        "  else:\n",
        "    embedding_matrix[i] = np.random.randn(embedding_dim)"
      ],
      "metadata": {
        "id": "WTnP0BpWDHlW"
      },
      "execution_count": 144,
      "outputs": []
    },
    {
      "cell_type": "code",
      "source": [
        "!mkdir -p vncorenlp/models/wordsegmenter\n",
        "!wget https://raw.githubusercontent.com/vncorenlp/VnCoreNLP/master/VnCoreNLP-1.1.1.jar\n",
        "!wget https://raw.githubusercontent.com/vncorenlp/VnCoreNLP/master/models/wordsegmenter/vi-vocab\n",
        "!wget https://raw.githubusercontent.com/vncorenlp/VnCoreNLP/master/models/wordsegmenter/wordsegmenter.rdr\n",
        "!mv VnCoreNLP-1.1.1.jar vncorenlp/\n",
        "!mv vi-vocab vncorenlp/models/wordsegmenter/\n",
        "!mv wordsegmenter.rdr vncorenlp/models/wordsegmenter/"
      ],
      "metadata": {
        "colab": {
          "base_uri": "https://localhost:8080/"
        },
        "id": "ZD_KhgnnDQrG",
        "outputId": "476ebe42-678d-4029-b85f-3b754e347c9a"
      },
      "execution_count": 145,
      "outputs": [
        {
          "output_type": "stream",
          "name": "stdout",
          "text": [
            "--2022-12-19 15:42:37--  https://raw.githubusercontent.com/vncorenlp/VnCoreNLP/master/VnCoreNLP-1.1.1.jar\n",
            "Resolving raw.githubusercontent.com (raw.githubusercontent.com)... 185.199.108.133, 185.199.111.133, 185.199.109.133, ...\n",
            "Connecting to raw.githubusercontent.com (raw.githubusercontent.com)|185.199.108.133|:443... connected.\n",
            "HTTP request sent, awaiting response... 200 OK\n",
            "Length: 27412575 (26M) [application/octet-stream]\n",
            "Saving to: ‘VnCoreNLP-1.1.1.jar’\n",
            "\n",
            "\rVnCoreNLP-1.1.1.jar   0%[                    ]       0  --.-KB/s               \rVnCoreNLP-1.1.1.jar 100%[===================>]  26.14M  --.-KB/s    in 0.1s    \n",
            "\n",
            "2022-12-19 15:42:37 (257 MB/s) - ‘VnCoreNLP-1.1.1.jar’ saved [27412575/27412575]\n",
            "\n",
            "--2022-12-19 15:42:37--  https://raw.githubusercontent.com/vncorenlp/VnCoreNLP/master/models/wordsegmenter/vi-vocab\n",
            "Resolving raw.githubusercontent.com (raw.githubusercontent.com)... 185.199.108.133, 185.199.109.133, 185.199.110.133, ...\n",
            "Connecting to raw.githubusercontent.com (raw.githubusercontent.com)|185.199.108.133|:443... connected.\n",
            "HTTP request sent, awaiting response... 200 OK\n",
            "Length: 526544 (514K) [application/octet-stream]\n",
            "Saving to: ‘vi-vocab’\n",
            "\n",
            "vi-vocab            100%[===================>] 514.20K  --.-KB/s    in 0.02s   \n",
            "\n",
            "2022-12-19 15:42:37 (33.4 MB/s) - ‘vi-vocab’ saved [526544/526544]\n",
            "\n",
            "--2022-12-19 15:42:38--  https://raw.githubusercontent.com/vncorenlp/VnCoreNLP/master/models/wordsegmenter/wordsegmenter.rdr\n",
            "Resolving raw.githubusercontent.com (raw.githubusercontent.com)... 185.199.108.133, 185.199.109.133, 185.199.110.133, ...\n",
            "Connecting to raw.githubusercontent.com (raw.githubusercontent.com)|185.199.108.133|:443... connected.\n",
            "HTTP request sent, awaiting response... 200 OK\n",
            "Length: 128508 (125K) [text/plain]\n",
            "Saving to: ‘wordsegmenter.rdr’\n",
            "\n",
            "wordsegmenter.rdr   100%[===================>] 125.50K  --.-KB/s    in 0.008s  \n",
            "\n",
            "2022-12-19 15:42:38 (16.1 MB/s) - ‘wordsegmenter.rdr’ saved [128508/128508]\n",
            "\n"
          ]
        }
      ]
    },
    {
      "cell_type": "code",
      "source": [
        "from vncorenlp import VnCoreNLP\n",
        "vncorenlp = VnCoreNLP(\"vncorenlp/VnCoreNLP-1.1.1.jar\",\n",
        "                      annotators=\"wseg\", max_heap_size='-Xmx500m')\n",
        "\n",
        "def custom_tokenizer(text_data, tokenizer=True):\n",
        "  if tokenizer:\n",
        "    return \" \".join(vncorenlp.tokenize(str(text_data))[0])\n",
        "  return text_data"
      ],
      "metadata": {
        "id": "3Mbg2_sCDThb"
      },
      "execution_count": 146,
      "outputs": []
    },
    {
      "cell_type": "code",
      "source": [
        "from tensorflow.keras.preprocessing.sequence import pad_sequences\n",
        "from tensorflow.keras.utils import to_categorical\n",
        "MAX_LEN = 100\n",
        "NUM_LABEL = 3\n",
        "TOKENIZER = True\n",
        "\n",
        "def encoding(X, y):\n",
        "  sentences = []\n",
        "\n",
        "  for t in X:\n",
        "    sentences.append(custom_tokenizer(t, tokenizer=TOKENIZER))\n",
        "\n",
        "  X = []\n",
        "  for s in sentences:\n",
        "    sent = []\n",
        "    for w in s.split():\n",
        "      try:\n",
        "        w = w.lower()\n",
        "        sent.append(word_to_index[w])\n",
        "      except:\n",
        "        sent.append(word_to_index[\"UNK\"])\n",
        "    X.append(sent)\n",
        "\n",
        "  X = pad_sequences(maxlen = MAX_LEN, sequences = X, padding = \"post\", value = word_to_index[\"PAD\"])\n",
        "  y = to_categorical(y, num_classes=NUM_LABEL)\n",
        "  return (X,y)\n"
      ],
      "metadata": {
        "id": "B6KgEal8DWzJ"
      },
      "execution_count": 147,
      "outputs": []
    },
    {
      "cell_type": "code",
      "source": [
        "X_train_encoded, y_train_encoded = encoding(X_train.values.flatten(), y_train)\n",
        "X_dev_encoded, y_dev_encoded = encoding(X_dev.values.flatten(), y_dev)\n",
        "X_test_encoded, y_test_encoded = encoding(X_test.values.flatten(), y_test)"
      ],
      "metadata": {
        "id": "FnpYXoAIDYi3"
      },
      "execution_count": 151,
      "outputs": []
    },
    {
      "cell_type": "code",
      "source": [
        "model3 = Sequential()\n",
        "model3.add(Input(shape=(MAX_LEN, ), dtype=\"float64\"))\n",
        "model3.add(Embedding(input_dim=num_words, output_dim=embedding_dim, embeddings_initializer=Constant(embedding_matrix), input_length=MAX_LEN, trainable=False))\n",
        "model3.add(Bidirectional(LSTM(200, return_sequences=True)))\n",
        "model3.add(Bidirectional(LSTM(200, return_sequences=False)))\n",
        "\n",
        "model3.add(Dense(3, activation='softmax'))"
      ],
      "metadata": {
        "id": "aPwGpqP1QVd-"
      },
      "execution_count": 152,
      "outputs": []
    },
    {
      "cell_type": "code",
      "source": [
        "model3.summary()"
      ],
      "metadata": {
        "colab": {
          "base_uri": "https://localhost:8080/"
        },
        "id": "5OQrP50pRFQy",
        "outputId": "1e2bc81e-a7d3-49e5-c253-d062af86e64b"
      },
      "execution_count": 153,
      "outputs": [
        {
          "output_type": "stream",
          "name": "stdout",
          "text": [
            "Model: \"sequential_5\"\n",
            "_________________________________________________________________\n",
            " Layer (type)                Output Shape              Param #   \n",
            "=================================================================\n",
            " embedding_5 (Embedding)     (None, 100, 100)          158750800 \n",
            "                                                                 \n",
            " bidirectional_6 (Bidirectio  (None, 100, 400)         481600    \n",
            " nal)                                                            \n",
            "                                                                 \n",
            " bidirectional_7 (Bidirectio  (None, 400)              961600    \n",
            " nal)                                                            \n",
            "                                                                 \n",
            " dense_5 (Dense)             (None, 3)                 1203      \n",
            "                                                                 \n",
            "=================================================================\n",
            "Total params: 160,195,203\n",
            "Trainable params: 1,444,403\n",
            "Non-trainable params: 158,750,800\n",
            "_________________________________________________________________\n"
          ]
        }
      ]
    },
    {
      "cell_type": "code",
      "source": [
        "model3.compile(optimizer=Adam(learning_rate=0.01), loss=CategoricalCrossentropy(), metrics=['accuracy'])"
      ],
      "metadata": {
        "id": "tw2Nz1mERGy5"
      },
      "execution_count": 154,
      "outputs": []
    },
    {
      "cell_type": "code",
      "source": [
        "history3 = model3.fit(X_train_encoded, y_train_encoded, batch_size=128,epochs=10,validation_data=(X_dev_encoded, y_dev_encoded))"
      ],
      "metadata": {
        "colab": {
          "base_uri": "https://localhost:8080/"
        },
        "id": "JNNnoLCaRNSI",
        "outputId": "8515f9fd-9b22-43e0-9085-2b13b0dbaf8a"
      },
      "execution_count": 155,
      "outputs": [
        {
          "output_type": "stream",
          "name": "stdout",
          "text": [
            "Epoch 1/10\n",
            "90/90 [==============================] - 14s 89ms/step - loss: 0.5172 - accuracy: 0.8166 - val_loss: 0.3308 - val_accuracy: 0.8812\n",
            "Epoch 2/10\n",
            "90/90 [==============================] - 6s 62ms/step - loss: 0.2882 - accuracy: 0.9029 - val_loss: 0.3011 - val_accuracy: 0.9027\n",
            "Epoch 3/10\n",
            "90/90 [==============================] - 6s 63ms/step - loss: 0.2059 - accuracy: 0.9334 - val_loss: 0.2748 - val_accuracy: 0.9052\n",
            "Epoch 4/10\n",
            "90/90 [==============================] - 6s 62ms/step - loss: 0.1462 - accuracy: 0.9526 - val_loss: 0.3183 - val_accuracy: 0.9046\n",
            "Epoch 5/10\n",
            "90/90 [==============================] - 6s 63ms/step - loss: 0.1084 - accuracy: 0.9649 - val_loss: 0.3262 - val_accuracy: 0.9046\n",
            "Epoch 6/10\n",
            "90/90 [==============================] - 6s 63ms/step - loss: 0.0832 - accuracy: 0.9720 - val_loss: 0.3743 - val_accuracy: 0.8989\n",
            "Epoch 7/10\n",
            "90/90 [==============================] - 6s 63ms/step - loss: 0.0778 - accuracy: 0.9740 - val_loss: 0.3796 - val_accuracy: 0.8989\n",
            "Epoch 8/10\n",
            "90/90 [==============================] - 6s 64ms/step - loss: 0.0698 - accuracy: 0.9767 - val_loss: 0.4021 - val_accuracy: 0.8996\n",
            "Epoch 9/10\n",
            "90/90 [==============================] - 6s 64ms/step - loss: 0.0554 - accuracy: 0.9819 - val_loss: 0.4411 - val_accuracy: 0.8913\n",
            "Epoch 10/10\n",
            "90/90 [==============================] - 6s 64ms/step - loss: 0.0577 - accuracy: 0.9810 - val_loss: 0.3873 - val_accuracy: 0.8989\n"
          ]
        }
      ]
    },
    {
      "cell_type": "code",
      "source": [
        "plt.plot(history3.history['accuracy'])\n",
        "plt.plot(history3.history['val_accuracy'])\n",
        "plt.title('model accuracy')\n",
        "plt.ylabel('accuracy')\n",
        "plt.xlabel('epoch')\n",
        "plt.legend(['train','val'], loc = 'upper left')\n",
        "plt.show()"
      ],
      "metadata": {
        "colab": {
          "base_uri": "https://localhost:8080/",
          "height": 295
        },
        "id": "DHLZ5RcbRlMw",
        "outputId": "04f6fc8f-137f-41c7-c54c-f8ceaa5be65a"
      },
      "execution_count": 156,
      "outputs": [
        {
          "output_type": "display_data",
          "data": {
            "text/plain": [
              "<Figure size 432x288 with 1 Axes>"
            ],
            "image/png": "[encoded data removed]"
          },
          "metadata": {
            "needs_background": "light"
          }
        }
      ]
    },
    {
      "cell_type": "code",
      "source": [
        "plt.plot(history3.history['loss'])\n",
        "plt.plot(history3.history['val_loss'])\n",
        "plt.title('model loss')\n",
        "plt.ylabel('loss')\n",
        "plt.xlabel('epoch')\n",
        "plt.legend(['train','val'], loc = 'upper left')\n",
        "plt.show()"
      ],
      "metadata": {
        "colab": {
          "base_uri": "https://localhost:8080/",
          "height": 295
        },
        "id": "QCSCULhnRpwj",
        "outputId": "83be6135-8e37-4c3f-f0ce-1fc5aa90b60f"
      },
      "execution_count": 157,
      "outputs": [
        {
          "output_type": "display_data",
          "data": {
            "text/plain": [
              "<Figure size 432x288 with 1 Axes>"
            ],
            "image/png": "[encoded data removed]"
          },
          "metadata": {
            "needs_background": "light"
          }
        }
      ]
    },
    {
      "cell_type": "code",
      "source": [
        "y_pred3 = model3.predict(X_test_encoded)\n",
        "y_pred_3 = np.argmax(y_pred3, axis=-1)"
      ],
      "metadata": {
        "colab": {
          "base_uri": "https://localhost:8080/"
        },
        "id": "PESa2HOtR1KP",
        "outputId": "8da416f7-f0b1-43a5-f316-1ec950cf5d05"
      },
      "execution_count": 158,
      "outputs": [
        {
          "output_type": "stream",
          "name": "stdout",
          "text": [
            "99/99 [==============================] - 2s 12ms/step\n"
          ]
        }
      ]
    },
    {
      "cell_type": "code",
      "source": [
        "print(\"accuracy: \", accuracy_score(y_pred_3, y_test)*100)\n",
        "print(\"precision score: \", precision_score(y_test, y_pred_3, average=\"macro\")*100)\n",
        "print(\"recall score: \", recall_score(y_test, y_pred_3, average=\"macro\")*100)\n",
        "print(\"f1 score (macro): \", f1_score(y_test, y_pred_3, average=\"macro\")*100)"
      ],
      "metadata": {
        "colab": {
          "base_uri": "https://localhost:8080/"
        },
        "id": "cgFymHSqR5yh",
        "outputId": "df94d720-0bee-46bc-9d5f-04c567675679"
      },
      "execution_count": 159,
      "outputs": [
        {
          "output_type": "stream",
          "name": "stdout",
          "text": [
            "accuracy:  88.1238155401137\n",
            "precision score:  74.32694788637187\n",
            "recall score:  70.91261919118318\n",
            "f1 score (macro):  72.19093491257968\n"
          ]
        }
      ]
    },
    {
      "cell_type": "markdown",
      "source": [
        "NX: Mô hình sử dụng hai lớp BiLSTM kết hợp cho kết quả cao hơn mô hình có 1 lớp BiLSTM ở cả 4 giá trị accuracy, precision, recall, và f1_score"
      ],
      "metadata": {
        "id": "HHTGOuy816u_"
      }
    },
    {
      "cell_type": "markdown",
      "source": [
        "##Câu 3"
      ],
      "metadata": {
        "id": "G8H5zetD1HFm"
      }
    },
    {
      "cell_type": "code",
      "source": [
        "train = '/content/drive/MyDrive/Ds310/PhoNER_COVID19-main/data/word/train_word.conll'\n",
        "dev = '/content/drive/MyDrive/Ds310/PhoNER_COVID19-main/data/word/dev_word.conll'\n",
        "test = '/content/drive/MyDrive/Ds310/PhoNER_COVID19-main/data/word/test_word.conll'"
      ],
      "metadata": {
        "id": "NPkYQi5wFYUH"
      },
      "execution_count": 167,
      "outputs": []
    },
    {
      "cell_type": "code",
      "source": [
        "def load_data_and_labels(filename, encoding='utf-8'):\n",
        "  sents, labels = [], []\n",
        "  words, tags = [], []\n",
        "  with open(filename, encoding=encoding) as f:\n",
        "    for line in f:\n",
        "      try:\n",
        "        line = line.strip()\n",
        "        if line:\n",
        "          word, tag = line.split(\" \")\n",
        "          words.append(word)\n",
        "          tags.append(tag)\n",
        "        else:\n",
        "          sents.append(words)\n",
        "          labels.append(tags)\n",
        "          words, tags = [], []\n",
        "      except Exception as e:\n",
        "        pass\n",
        "  return sents, labels\n",
        "\n",
        "train_set = load_data_and_labels(train)\n",
        "dev_set = load_data_and_labels(dev)\n",
        "test_set = load_data_and_labels(test)"
      ],
      "metadata": {
        "id": "4mSSwDLPFZin"
      },
      "execution_count": 168,
      "outputs": []
    },
    {
      "cell_type": "code",
      "source": [
        "EMBEDDING = '/content/drive/MyDrive/DS201/word2vec_vi_words_100dims.txt'\n",
        "EMBEDING_DIM = 100\n",
        "MAX_FEATURE = 10000\n",
        "word_dict = []\n",
        "embeddings_index = {}\n",
        "embedding_dim = EMBEDING_DIM\n",
        "max_feature = MAX_FEATURE\n",
        "f = open(EMBEDDING)\n",
        "for line in f:\n",
        " values = line.split(' ')\n",
        " word = values[0]\n",
        " word_dict.append(word)\n",
        "try:\n",
        " coefs = np.asarray(values[1:], dtype='float32')\n",
        " embeddings_index[word] = coefs\n",
        "except Exception as e:\n",
        " pass\n",
        "f.close()\n",
        "print('Embedding data loaded')"
      ],
      "metadata": {
        "colab": {
          "base_uri": "https://localhost:8080/"
        },
        "id": "sZQZusK-Fp2K",
        "outputId": "4a5ef1c9-8d87-4f17-d840-4f85b8cf2bad"
      },
      "execution_count": 170,
      "outputs": [
        {
          "output_type": "stream",
          "name": "stdout",
          "text": [
            "Embedding data loaded\n"
          ]
        }
      ]
    },
    {
      "cell_type": "code",
      "source": [
        "words2index = {w:i for i,w in enumerate(word_dict)}\n",
        "tags2index = {t:i for i,t in enumerate(tags)}"
      ],
      "metadata": {
        "id": "zG57AD8vF3Y8"
      },
      "execution_count": 171,
      "outputs": []
    },
    {
      "cell_type": "code",
      "source": [
        "def encoding(data):\n",
        "  X = [[words2index.get(w, 0) for w in t] for t in data[0]]\n",
        "  X = pad_sequences(maxlen = MAX_LEN, sequences = X, padding = \"post\", value = 0)\n",
        "                    \n",
        "  y = [[tags2index[w] for w in s] for s in data[1]]\n",
        "  y = pad_sequences(maxlen=MAX_LEN, sequences=y, padding=\"post\", value=tags2index[\"O\"])\n",
        "\n",
        "  return X, y\n",
        "\n",
        "X_train, y_train = encoding(train_set)\n",
        "X_dev, y_dev = encoding(dev_set)\n",
        "X_test, y_test = encoding(test_set)\n",
        "y_train = to_categorical(y_train, num_classes=len(tags))\n",
        "y_dev = to_categorical(y_dev, num_classes=len(tags))"
      ],
      "metadata": {
        "id": "rTVI_Q8CF48K"
      },
      "execution_count": 172,
      "outputs": []
    },
    {
      "cell_type": "code",
      "source": [
        "model4 = Sequential()\n",
        "model4.add(Input(shape=(MAX_LEN,)))\n",
        "model4.add(Embedding(input_dim=len(words)+2, output_dim=EMBEDING_DIM, \n",
        "                    input_length=MAX_LEN,\n",
        "                    mask_zero=True, trainable=False))\n",
        "model4.add(Bidirectional(LSTM(units=512, return_sequences=True,\n",
        "                            recurrent_dropout=0.2, dropout=0.2)))\n",
        "model4.add(TimeDistributed(Dense(len(tags), activation=\"softmax\")))"
      ],
      "metadata": {
        "colab": {
          "base_uri": "https://localhost:8080/"
        },
        "id": "AywpkZeM1IRu",
        "outputId": "ffa481d3-0ce4-4678-dc54-970fcf793484"
      },
      "execution_count": 173,
      "outputs": [
        {
          "output_type": "stream",
          "name": "stderr",
          "text": [
            "WARNING:tensorflow:Layer lstm_9 will not use cuDNN kernels since it doesn't meet the criteria. It will use a generic GPU kernel as fallback when running on GPU.\n",
            "WARNING:tensorflow:Layer lstm_9 will not use cuDNN kernels since it doesn't meet the criteria. It will use a generic GPU kernel as fallback when running on GPU.\n",
            "WARNING:tensorflow:Layer lstm_9 will not use cuDNN kernels since it doesn't meet the criteria. It will use a generic GPU kernel as fallback when running on GPU.\n"
          ]
        }
      ]
    },
    {
      "cell_type": "code",
      "source": [
        "model4.summary()"
      ],
      "metadata": {
        "colab": {
          "base_uri": "https://localhost:8080/"
        },
        "id": "RMzf6AMVFAuJ",
        "outputId": "7ec38bb8-08c5-489b-b434-517996ec3f3b"
      },
      "execution_count": 174,
      "outputs": [
        {
          "output_type": "stream",
          "name": "stdout",
          "text": [
            "Model: \"sequential_7\"\n",
            "_________________________________________________________________\n",
            " Layer (type)                Output Shape              Param #   \n",
            "=================================================================\n",
            " embedding_7 (Embedding)     (None, 100, 100)          158751000 \n",
            "                                                                 \n",
            " bidirectional_9 (Bidirectio  (None, 100, 1024)        2510848   \n",
            " nal)                                                            \n",
            "                                                                 \n",
            " time_distributed_3 (TimeDis  (None, 100, 20)          20500     \n",
            " tributed)                                                       \n",
            "                                                                 \n",
            "=================================================================\n",
            "Total params: 161,282,348\n",
            "Trainable params: 2,531,348\n",
            "Non-trainable params: 158,751,000\n",
            "_________________________________________________________________\n"
          ]
        }
      ]
    },
    {
      "cell_type": "code",
      "source": [
        "model4.compile(optimizer=Adam(learning_rate=0.01), loss=CategoricalCrossentropy(), metrics=['accuracy'])"
      ],
      "metadata": {
        "id": "dKqKXHKWFDhk"
      },
      "execution_count": 175,
      "outputs": []
    },
    {
      "cell_type": "code",
      "source": [
        "history4 = model4.fit(X_train, y_train,epochs=3, batch_size=128,validation_data=(X_dev, y_dev))"
      ],
      "metadata": {
        "colab": {
          "base_uri": "https://localhost:8080/"
        },
        "id": "o9B19YPuFHHh",
        "outputId": "f0335f2e-b782-4d55-918e-db820b909ed5"
      },
      "execution_count": 176,
      "outputs": [
        {
          "output_type": "stream",
          "name": "stdout",
          "text": [
            "Epoch 1/3\n",
            "40/40 [==============================] - 49s 1s/step - loss: 0.3822 - accuracy: 0.7392 - val_loss: 0.2911 - val_accuracy: 0.7504\n",
            "Epoch 2/3\n",
            "40/40 [==============================] - 41s 1s/step - loss: 0.2144 - accuracy: 0.7967 - val_loss: 0.2185 - val_accuracy: 0.7878\n",
            "Epoch 3/3\n",
            "40/40 [==============================] - 39s 980ms/step - loss: 0.1818 - accuracy: 0.8215 - val_loss: 0.1866 - val_accuracy: 0.8156\n"
          ]
        }
      ]
    },
    {
      "cell_type": "code",
      "source": [
        "y_pred4 = model4.predict(X_test)\n",
        "y_pred_4 = np.argmax(y_pred4, axis=-1)"
      ],
      "metadata": {
        "colab": {
          "base_uri": "https://localhost:8080/"
        },
        "id": "WI0fyWVZGopn",
        "outputId": "e6a2ed38-9323-4062-8816-67d51cf5a543"
      },
      "execution_count": 177,
      "outputs": [
        {
          "output_type": "stream",
          "name": "stdout",
          "text": [
            "94/94 [==============================] - 10s 94ms/step\n"
          ]
        }
      ]
    },
    {
      "cell_type": "code",
      "source": [
        "acc = []\n",
        "\n",
        "for i in range(0, len(y_test)):\n",
        "  acc.append(accuracy_score(y_test[i], y_pred_4[i]))\n",
        "\n",
        "np.mean(acc)*100"
      ],
      "metadata": {
        "colab": {
          "base_uri": "https://localhost:8080/"
        },
        "id": "OhLDE4lwGwoP",
        "outputId": "932d6b41-3de3-4541-9a10-8132b7f289b3"
      },
      "execution_count": 178,
      "outputs": [
        {
          "output_type": "execute_result",
          "data": {
            "text/plain": [
              "94.54933333333332"
            ]
          },
          "metadata": {},
          "execution_count": 178
        }
      ]
    },
    {
      "cell_type": "code",
      "source": [
        "plt.plot(history4.history['accuracy'])\n",
        "plt.plot(history4.history['val_accuracy'])\n",
        "plt.title('model accuracy')\n",
        "plt.ylabel('accuracy')\n",
        "plt.xlabel('epoch')\n",
        "plt.legend(['train','val'], loc = 'upper left')\n",
        "plt.show()"
      ],
      "metadata": {
        "colab": {
          "base_uri": "https://localhost:8080/",
          "height": 295
        },
        "id": "pPvLbXjwHG7s",
        "outputId": "1ceddd96-5514-4274-af23-8a147f8018cf"
      },
      "execution_count": 179,
      "outputs": [
        {
          "output_type": "display_data",
          "data": {
            "text/plain": [
              "<Figure size 432x288 with 1 Axes>"
            ],
            "image/png": "[encoded data removed]"
          },
          "metadata": {
            "needs_background": "light"
          }
        }
      ]
    },
    {
      "cell_type": "code",
      "source": [
        "plt.plot(history4.history['loss'])\n",
        "plt.plot(history4.history['val_loss'])\n",
        "plt.title('model loss')\n",
        "plt.ylabel('loss')\n",
        "plt.xlabel('epoch')\n",
        "plt.legend(['train','val'], loc = 'upper left')\n",
        "plt.show()"
      ],
      "metadata": {
        "colab": {
          "base_uri": "https://localhost:8080/",
          "height": 295
        },
        "id": "ZscLcqtEHIuR",
        "outputId": "1b06b8e8-c850-4e77-e095-9a31dba5a627"
      },
      "execution_count": 180,
      "outputs": [
        {
          "output_type": "display_data",
          "data": {
            "text/plain": [
              "<Figure size 432x288 with 1 Axes>"
            ],
            "image/png": "[encoded data removed]"
          },
          "metadata": {
            "needs_background": "light"
          }
        }
      ]
    },
    {
      "cell_type": "markdown",
      "source": [
        "##Cau 4:"
      ],
      "metadata": {
        "id": "KFXNlXYlG0ag"
      }
    },
    {
      "cell_type": "code",
      "source": [
        "train = '/content/drive/MyDrive/Ds310/PhoNER_COVID19-main/data/word/train_word.conll'\n",
        "dev = '/content/drive/MyDrive/Ds310/PhoNER_COVID19-main/data/word/dev_word.conll'\n",
        "test = '/content/drive/MyDrive/Ds310/PhoNER_COVID19-main/data/word/test_word.conll'"
      ],
      "metadata": {
        "id": "KYp0rOUvHwzC"
      },
      "execution_count": 181,
      "outputs": []
    },
    {
      "cell_type": "code",
      "source": [
        "def load_data_and_labels(filename, encoding='utf-8'):\n",
        "  sents, labels = [], []\n",
        "  words, tags = [], []\n",
        "  with open(filename, encoding=encoding) as f:\n",
        "    for line in f:\n",
        "      try:\n",
        "        line = line.strip()\n",
        "        if line:\n",
        "          word, tag = line.split(\" \")\n",
        "          words.append(word)\n",
        "          tags.append(tag)\n",
        "        else:\n",
        "          sents.append(words)\n",
        "          labels.append(tags)\n",
        "          words, tags = [], []\n",
        "      except Exception as e:\n",
        "        pass\n",
        "  return sents, labels\n",
        "\n",
        "train_set = load_data_and_labels(train)\n",
        "dev_set = load_data_and_labels(dev)\n",
        "test_set = load_data_and_labels(test)\n"
      ],
      "metadata": {
        "id": "WGfghB_wH6xz"
      },
      "execution_count": 182,
      "outputs": []
    },
    {
      "cell_type": "code",
      "source": [
        "EMBEDDING = '/content/drive/MyDrive/DS201/word2vec_vi_words_100dims.txt'\n",
        "EMBEDING_DIM = 100\n",
        "MAX_FEATURE = 10000\n",
        "word_dict = []\n",
        "embeddings_index = {}\n",
        "embedding_dim = EMBEDING_DIM\n",
        "max_feature = MAX_FEATURE\n",
        "f = open(EMBEDDING)\n",
        "for line in f:\n",
        " values = line.split(' ')\n",
        " word = values[0]\n",
        " word_dict.append(word)\n",
        "try:\n",
        " coefs = np.asarray(values[1:], dtype='float32')\n",
        " embeddings_index[word] = coefs\n",
        "except Exception as e:\n",
        " pass\n",
        "f.close()\n",
        "print('Embedding data loaded')"
      ],
      "metadata": {
        "colab": {
          "base_uri": "https://localhost:8080/"
        },
        "id": "SNXdDrGXH8xO",
        "outputId": "d9815de1-a0b6-4861-cc56-b594991f8e56"
      },
      "execution_count": 184,
      "outputs": [
        {
          "output_type": "stream",
          "name": "stdout",
          "text": [
            "Embedding data loaded\n"
          ]
        }
      ]
    },
    {
      "cell_type": "code",
      "source": [
        "tags = list(set(np.concatenate((np.concatenate(train_set[1]),\n",
        "                                np.concatenate(dev_set[1])))))"
      ],
      "metadata": {
        "id": "QV6W-la0IF5s"
      },
      "execution_count": 185,
      "outputs": []
    },
    {
      "cell_type": "code",
      "source": [
        "syllables2index = {w:i for i,w in enumerate(word_dict)}\n",
        "tags2index = {t:i for i,t in enumerate(tags)}"
      ],
      "metadata": {
        "id": "x0vIxrEDIHug"
      },
      "execution_count": 189,
      "outputs": []
    },
    {
      "cell_type": "code",
      "source": [
        "def encoding(data):\n",
        "  X = [[syllables2index.get(w, 0) for w in t] for t in data[0]]\n",
        "  X = pad_sequences(maxlen = MAX_LEN, sequences = X, padding = \"post\", value = 0)\n",
        "                    \n",
        "  y = [[tags2index[w] for w in s] for s in data[1]]\n",
        "  y = pad_sequences(maxlen=MAX_LEN, sequences=y, padding=\"post\", value=tags2index[\"O\"])\n",
        "\n",
        "  return X, y\n",
        "\n",
        "X_train, y_train = encoding(train_set)\n",
        "X_dev, y_dev = encoding(dev_set)\n",
        "X_test, y_test = encoding(test_set)\n",
        "y_train = to_categorical(y_train, num_classes=len(tags))\n",
        "y_dev = to_categorical(y_dev, num_classes=len(tags))"
      ],
      "metadata": {
        "id": "vBOuWezRIKCR"
      },
      "execution_count": 190,
      "outputs": []
    },
    {
      "cell_type": "code",
      "source": [
        "model5 = Sequential()\n",
        "model5.add(Input(shape=(MAX_LEN,)))\n",
        "model5.add(Embedding(input_dim=len(words)+2, output_dim=EMBEDING_DIM, \n",
        "                    input_length=MAX_LEN,\n",
        "                    mask_zero=True, trainable=False))\n",
        "model5.add(Bidirectional(LSTM(units=512, return_sequences=True,\n",
        "                            recurrent_dropout=0.2, dropout=0.2)))\n",
        "model5.add(TimeDistributed(Dense(len(tags), activation=\"softmax\")))"
      ],
      "metadata": {
        "colab": {
          "base_uri": "https://localhost:8080/"
        },
        "id": "DEvaSU71G6Tc",
        "outputId": "33908e39-43ab-4f40-f634-0332b4b2f797"
      },
      "execution_count": 191,
      "outputs": [
        {
          "output_type": "stream",
          "name": "stderr",
          "text": [
            "WARNING:tensorflow:Layer lstm_11 will not use cuDNN kernels since it doesn't meet the criteria. It will use a generic GPU kernel as fallback when running on GPU.\n",
            "WARNING:tensorflow:Layer lstm_11 will not use cuDNN kernels since it doesn't meet the criteria. It will use a generic GPU kernel as fallback when running on GPU.\n",
            "WARNING:tensorflow:Layer lstm_11 will not use cuDNN kernels since it doesn't meet the criteria. It will use a generic GPU kernel as fallback when running on GPU.\n"
          ]
        }
      ]
    },
    {
      "cell_type": "code",
      "source": [
        "model5.summary()"
      ],
      "metadata": {
        "colab": {
          "base_uri": "https://localhost:8080/"
        },
        "id": "YAIXYEf1IYZz",
        "outputId": "1f78aa7c-738f-4ffd-efde-8e001ac303fc"
      },
      "execution_count": 192,
      "outputs": [
        {
          "output_type": "stream",
          "name": "stdout",
          "text": [
            "Model: \"sequential_9\"\n",
            "_________________________________________________________________\n",
            " Layer (type)                Output Shape              Param #   \n",
            "=================================================================\n",
            " embedding_9 (Embedding)     (None, 100, 100)          158751000 \n",
            "                                                                 \n",
            " bidirectional_11 (Bidirecti  (None, 100, 1024)        2510848   \n",
            " onal)                                                           \n",
            "                                                                 \n",
            " time_distributed_5 (TimeDis  (None, 100, 20)          20500     \n",
            " tributed)                                                       \n",
            "                                                                 \n",
            "=================================================================\n",
            "Total params: 161,282,348\n",
            "Trainable params: 2,531,348\n",
            "Non-trainable params: 158,751,000\n",
            "_________________________________________________________________\n"
          ]
        }
      ]
    },
    {
      "cell_type": "code",
      "source": [
        "model5.compile(optimizer=Adam(learning_rate=0.01), loss=CategoricalCrossentropy(), metrics=['accuracy'])"
      ],
      "metadata": {
        "id": "EhMgal01Ia_P"
      },
      "execution_count": 193,
      "outputs": []
    },
    {
      "cell_type": "code",
      "source": [
        "history5 = model5.fit(X_train, y_train,epochs=3, batch_size=128,validation_data=(X_dev, y_dev))"
      ],
      "metadata": {
        "colab": {
          "base_uri": "https://localhost:8080/"
        },
        "id": "ehYEvI9_IecA",
        "outputId": "2c836b44-8ce4-428a-9512-bc474a3371cf"
      },
      "execution_count": 194,
      "outputs": [
        {
          "output_type": "stream",
          "name": "stdout",
          "text": [
            "Epoch 1/3\n",
            "40/40 [==============================] - 47s 1s/step - loss: 0.3003 - accuracy: 0.7701 - val_loss: 0.2869 - val_accuracy: 0.7502\n",
            "Epoch 2/3\n",
            "40/40 [==============================] - 41s 1s/step - loss: 0.2275 - accuracy: 0.7905 - val_loss: 0.2389 - val_accuracy: 0.7689\n",
            "Epoch 3/3\n",
            "40/40 [==============================] - 40s 1s/step - loss: 0.1646 - accuracy: 0.8322 - val_loss: 0.1756 - val_accuracy: 0.8338\n"
          ]
        }
      ]
    },
    {
      "cell_type": "code",
      "source": [
        "y_pred5 = model5.predict(X_test)\n",
        "y_pred_5 = np.argmax(y_pred5, axis=-1)\n",
        "acc = []\n",
        "\n",
        "for i in range(0, len(y_test)):\n",
        "  acc.append(accuracy_score(y_test[i], y_pred_5[i]))\n",
        "\n",
        "np.mean(acc)*100"
      ],
      "metadata": {
        "colab": {
          "base_uri": "https://localhost:8080/"
        },
        "id": "A4OXyGOSIfpG",
        "outputId": "4a91858e-6c7d-4efb-b7b9-170658cb0d17"
      },
      "execution_count": 195,
      "outputs": [
        {
          "output_type": "stream",
          "name": "stdout",
          "text": [
            "94/94 [==============================] - 9s 89ms/step\n"
          ]
        },
        {
          "output_type": "execute_result",
          "data": {
            "text/plain": [
              "95.06700000000001"
            ]
          },
          "metadata": {},
          "execution_count": 195
        }
      ]
    },
    {
      "cell_type": "code",
      "source": [
        "plt.plot(history5.history['accuracy'])\n",
        "plt.plot(history5.history['val_accuracy'])\n",
        "plt.title('model accuracy')\n",
        "plt.ylabel('accuracy')\n",
        "plt.xlabel('epoch')\n",
        "plt.legend(['train','val'], loc = 'upper left')\n",
        "plt.show()"
      ],
      "metadata": {
        "colab": {
          "base_uri": "https://localhost:8080/",
          "height": 295
        },
        "id": "dySULPGiJKOj",
        "outputId": "fb298b29-82b8-42a7-ce50-84cf89a0a8cd"
      },
      "execution_count": 206,
      "outputs": [
        {
          "output_type": "display_data",
          "data": {
            "text/plain": [
              "<Figure size 432x288 with 1 Axes>"
            ],
            "image/png": "[encoded data removed]"
          },
          "metadata": {
            "needs_background": "light"
          }
        }
      ]
    },
    {
      "cell_type": "code",
      "source": [
        "plt.plot(history5.history['loss'])\n",
        "plt.plot(history5.history['val_loss'])\n",
        "plt.title('model loss')\n",
        "plt.ylabel('loss')\n",
        "plt.xlabel('epoch')\n",
        "plt.legend(['train','val'], loc = 'upper left')\n",
        "plt.show()"
      ],
      "metadata": {
        "colab": {
          "base_uri": "https://localhost:8080/",
          "height": 295
        },
        "id": "nhk8eKTrJ7gf",
        "outputId": "70c0faa6-704e-43bb-dbd4-99d470b61f9b"
      },
      "execution_count": 207,
      "outputs": [
        {
          "output_type": "display_data",
          "data": {
            "text/plain": [
              "<Figure size 432x288 with 1 Axes>"
            ],
            "image/png": "[encoded data removed]"
          },
          "metadata": {
            "needs_background": "light"
          }
        }
      ]
    },
    {
      "cell_type": "markdown",
      "source": [
        "##Cau 5"
      ],
      "metadata": {
        "id": "xU_k7bfMJWJw"
      }
    },
    {
      "cell_type": "code",
      "source": [
        "train = '/content/drive/MyDrive/Ds310/PhoNER_COVID19-main/data/word/train_word.conll'\n",
        "dev = '/content/drive/MyDrive/Ds310/PhoNER_COVID19-main/data/word/dev_word.conll'\n",
        "test = '/content/drive/MyDrive/Ds310/PhoNER_COVID19-main/data/word/test_word.conll'"
      ],
      "metadata": {
        "id": "t-EiwHxlJYJ9"
      },
      "execution_count": 196,
      "outputs": []
    },
    {
      "cell_type": "code",
      "source": [
        "def load_data_and_labels(filename, encoding='utf-8'):\n",
        "  sents, labels = [], []\n",
        "  words, tags = [], []\n",
        "  with open(filename, encoding=encoding) as f:\n",
        "    for line in f:\n",
        "      try:\n",
        "        line = line.strip()\n",
        "        if line:\n",
        "          word, tag = line.split(\" \")\n",
        "          words.append(word)\n",
        "          tags.append(tag)\n",
        "        else:\n",
        "          sents.append(words)\n",
        "          labels.append(tags)\n",
        "          words, tags = [], []\n",
        "      except Exception as e:\n",
        "        pass\n",
        "  return sents, labels\n",
        "\n",
        "train_set = load_data_and_labels(train)\n",
        "dev_set = load_data_and_labels(dev)\n",
        "test_set = load_data_and_labels(test)"
      ],
      "metadata": {
        "id": "1B_yG4K8JaWm"
      },
      "execution_count": 197,
      "outputs": []
    },
    {
      "cell_type": "code",
      "source": [
        "EMBEDDING = '/content/drive/MyDrive/DS201/word2vec_vi_words_100dims.txt'\n",
        "EMBEDING_DIM = 100\n",
        "MAX_FEATURE = 10000\n",
        "word_dict = []\n",
        "embeddings_index = {}\n",
        "embedding_dim = EMBEDING_DIM\n",
        "max_feature = MAX_FEATURE\n",
        "f = open(EMBEDDING)\n",
        "for line in f:\n",
        " values = line.split(' ')\n",
        " word = values[0]\n",
        " word_dict.append(word)\n",
        "try:\n",
        " coefs = np.asarray(values[1:], dtype='float32')\n",
        " embeddings_index[word] = coefs\n",
        "except Exception as e:\n",
        " pass\n",
        "f.close()\n",
        "print('Embedding data loaded')"
      ],
      "metadata": {
        "colab": {
          "base_uri": "https://localhost:8080/"
        },
        "id": "eUmShUJgJeGA",
        "outputId": "edab0788-6a3e-4323-b16e-c1de96076da6"
      },
      "execution_count": 198,
      "outputs": [
        {
          "output_type": "stream",
          "name": "stdout",
          "text": [
            "Embedding data loaded\n"
          ]
        }
      ]
    },
    {
      "cell_type": "code",
      "source": [
        "tags = list(set(np.concatenate((np.concatenate(train_set[1]),\n",
        "                                np.concatenate(dev_set[1])))))"
      ],
      "metadata": {
        "id": "Om-ukoVIJhNi"
      },
      "execution_count": 199,
      "outputs": []
    },
    {
      "cell_type": "code",
      "source": [
        "words2index = {w:i for i,w in enumerate(word_dict)}\n",
        "tags2index = {t:i for i,t in enumerate(tags)}"
      ],
      "metadata": {
        "id": "8mi1gWMDJjoR"
      },
      "execution_count": 200,
      "outputs": []
    },
    {
      "cell_type": "code",
      "source": [
        "def encoding(data):\n",
        "  X = [[words2index.get(w, 0) for w in t] for t in data[0]]\n",
        "  X = pad_sequences(maxlen = MAX_LEN, sequences = X, padding = \"post\", value = 0)\n",
        "                    \n",
        "  y = [[tags2index[w] for w in s] for s in data[1]]\n",
        "  y = pad_sequences(maxlen=MAX_LEN, sequences=y, padding=\"post\", value=tags2index[\"O\"])\n",
        "\n",
        "  return X, y\n",
        "\n",
        "X_train, y_train = encoding(train_set)\n",
        "X_dev, y_dev = encoding(dev_set)\n",
        "X_test, y_test = encoding(test_set)\n",
        "y_train = to_categorical(y_train, num_classes=len(tags))\n",
        "y_dev = to_categorical(y_dev, num_classes=len(tags))"
      ],
      "metadata": {
        "id": "Ow_HunOrJpL4"
      },
      "execution_count": 201,
      "outputs": []
    },
    {
      "cell_type": "code",
      "source": [
        "model6 = Sequential()\n",
        "model6.add(Input(shape=(MAX_LEN,)))\n",
        "model6.add(Embedding(input_dim=len(words)+2, output_dim=EMBEDING_DIM, input_length=MAX_LEN,mask_zero=True, trainable=False))\n",
        "model6.add(Bidirectional(LSTM(units=512, return_sequences=True,recurrent_dropout=0.2, dropout=0.2)))\n",
        "model6.add(Bidirectional(LSTM(units=512, return_sequences=True,recurrent_dropout=0.2, dropout=0.2)))\n",
        "model6.add(TimeDistributed(Dense(len(tags), activation=\"softmax\")))"
      ],
      "metadata": {
        "colab": {
          "base_uri": "https://localhost:8080/"
        },
        "id": "7PZDLMTgJqcT",
        "outputId": "30deb402-3d7e-4cfc-c695-5e33969ba362"
      },
      "execution_count": 202,
      "outputs": [
        {
          "output_type": "stream",
          "name": "stderr",
          "text": [
            "WARNING:tensorflow:Layer lstm_12 will not use cuDNN kernels since it doesn't meet the criteria. It will use a generic GPU kernel as fallback when running on GPU.\n",
            "WARNING:tensorflow:Layer lstm_12 will not use cuDNN kernels since it doesn't meet the criteria. It will use a generic GPU kernel as fallback when running on GPU.\n",
            "WARNING:tensorflow:Layer lstm_12 will not use cuDNN kernels since it doesn't meet the criteria. It will use a generic GPU kernel as fallback when running on GPU.\n",
            "WARNING:tensorflow:Layer lstm_13 will not use cuDNN kernels since it doesn't meet the criteria. It will use a generic GPU kernel as fallback when running on GPU.\n",
            "WARNING:tensorflow:Layer lstm_13 will not use cuDNN kernels since it doesn't meet the criteria. It will use a generic GPU kernel as fallback when running on GPU.\n",
            "WARNING:tensorflow:Layer lstm_13 will not use cuDNN kernels since it doesn't meet the criteria. It will use a generic GPU kernel as fallback when running on GPU.\n"
          ]
        }
      ]
    },
    {
      "cell_type": "code",
      "source": [
        "model6.summary()"
      ],
      "metadata": {
        "colab": {
          "base_uri": "https://localhost:8080/"
        },
        "id": "92_8dIZTJxXK",
        "outputId": "fc947c9d-8c69-4aec-b45b-73446608ca79"
      },
      "execution_count": 203,
      "outputs": [
        {
          "output_type": "stream",
          "name": "stdout",
          "text": [
            "Model: \"sequential_10\"\n",
            "_________________________________________________________________\n",
            " Layer (type)                Output Shape              Param #   \n",
            "=================================================================\n",
            " embedding_10 (Embedding)    (None, 100, 100)          158751000 \n",
            "                                                                 \n",
            " bidirectional_12 (Bidirecti  (None, 100, 1024)        2510848   \n",
            " onal)                                                           \n",
            "                                                                 \n",
            " bidirectional_13 (Bidirecti  (None, 100, 1024)        6295552   \n",
            " onal)                                                           \n",
            "                                                                 \n",
            " time_distributed_6 (TimeDis  (None, 100, 20)          20500     \n",
            " tributed)                                                       \n",
            "                                                                 \n",
            "=================================================================\n",
            "Total params: 167,577,900\n",
            "Trainable params: 8,826,900\n",
            "Non-trainable params: 158,751,000\n",
            "_________________________________________________________________\n"
          ]
        }
      ]
    },
    {
      "cell_type": "code",
      "source": [
        "model6.compile(optimizer=Adam(learning_rate=0.01), loss=CategoricalCrossentropy(), metrics=['accuracy'])"
      ],
      "metadata": {
        "id": "Xrs_N4mbJyYZ"
      },
      "execution_count": 204,
      "outputs": []
    },
    {
      "cell_type": "code",
      "source": [
        "history6 = model6.fit(X_train, y_train,epochs=3, batch_size=128,validation_data=(X_dev, y_dev))"
      ],
      "metadata": {
        "colab": {
          "base_uri": "https://localhost:8080/"
        },
        "id": "OS4c3yR0J0FT",
        "outputId": "f84aa8e3-7bf3-4d1b-e403-4682c6d5919e"
      },
      "execution_count": 205,
      "outputs": [
        {
          "output_type": "stream",
          "name": "stdout",
          "text": [
            "Epoch 1/3\n",
            "40/40 [==============================] - 107s 2s/step - loss: 0.8635 - accuracy: 0.7730 - val_loss: 1.1121 - val_accuracy: 0.7504\n",
            "Epoch 2/3\n",
            "40/40 [==============================] - 89s 2s/step - loss: 0.8755 - accuracy: 0.7908 - val_loss: 1.1121 - val_accuracy: 0.7504\n",
            "Epoch 3/3\n",
            "40/40 [==============================] - 85s 2s/step - loss: 0.8755 - accuracy: 0.7908 - val_loss: 1.1121 - val_accuracy: 0.7504\n"
          ]
        }
      ]
    },
    {
      "cell_type": "code",
      "source": [
        "y_pred6 = model6.predict(X_test)\n",
        "y_pred_6 = np.argmax(y_pred6, axis=-1)\n",
        "acc = []\n",
        "\n",
        "for i in range(0, len(y_test)):\n",
        "  acc.append(accuracy_score(y_test[i], y_pred_6[i]))\n",
        "\n",
        "np.mean(acc)*100"
      ],
      "metadata": {
        "colab": {
          "base_uri": "https://localhost:8080/"
        },
        "id": "wkaJY-3oJ2xl",
        "outputId": "afb50a42-c3e5-4637-999d-ec7969b1de98"
      },
      "execution_count": 208,
      "outputs": [
        {
          "output_type": "stream",
          "name": "stdout",
          "text": [
            "94/94 [==============================] - 18s 171ms/step\n"
          ]
        },
        {
          "output_type": "execute_result",
          "data": {
            "text/plain": [
              "92.64333333333335"
            ]
          },
          "metadata": {},
          "execution_count": 208
        }
      ]
    },
    {
      "cell_type": "code",
      "source": [
        "plt.plot(history6.history['accuracy'])\n",
        "plt.plot(history6.history['val_accuracy'])\n",
        "plt.title('model accuracy')\n",
        "plt.ylabel('accuracy')\n",
        "plt.xlabel('epoch')\n",
        "plt.legend(['train','val'], loc = 'upper left')\n",
        "plt.show()"
      ],
      "metadata": {
        "colab": {
          "base_uri": "https://localhost:8080/",
          "height": 295
        },
        "id": "oPjYkE08LO0V",
        "outputId": "55638d23-ec61-4d8c-dbd8-dd471d040a03"
      },
      "execution_count": 210,
      "outputs": [
        {
          "output_type": "display_data",
          "data": {
            "text/plain": [
              "<Figure size 432x288 with 1 Axes>"
            ],
            "image/png": "[encoded data removed]"
          },
          "metadata": {
            "needs_background": "light"
          }
        }
      ]
    },
    {
      "cell_type": "code",
      "source": [
        "plt.plot(history6.history['loss'])\n",
        "plt.plot(history6.history['val_loss'])\n",
        "plt.title('model loss')\n",
        "plt.ylabel('loss')\n",
        "plt.xlabel('epoch')\n",
        "plt.legend(['train','val'], loc = 'upper left')\n",
        "plt.show()"
      ],
      "metadata": {
        "colab": {
          "base_uri": "https://localhost:8080/",
          "height": 295
        },
        "id": "21C8XuYJLizW",
        "outputId": "2040a83f-1b42-499c-e2bc-f5464bf18b39"
      },
      "execution_count": 211,
      "outputs": [
        {
          "output_type": "display_data",
          "data": {
            "text/plain": [
              "<Figure size 432x288 with 1 Axes>"
            ],
            "image/png": "[encoded data removed]"
          },
          "metadata": {
            "needs_background": "light"
          }
        }
      ]
    },
    {
      "cell_type": "code",
      "source": [],
      "metadata": {
        "id": "t3U4f9y5Lqf3"
      },
      "execution_count": null,
      "outputs": []
    }
  ],
  "metadata": {
    "colab": {
      "provenance": []
    },
    "kernelspec": {
      "display_name": "Python 3",
      "name": "python3"
    },
    "language_info": {
      "name": "python"
    },
    "accelerator": "GPU",
    "gpuClass": "standard"
  },
  "nbformat": 4,
  "nbformat_minor": 0
}