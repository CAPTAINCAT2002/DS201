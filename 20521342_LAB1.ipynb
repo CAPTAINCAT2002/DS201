{
  "cells": [
    {
      "cell_type": "code",
      "execution_count": 54,
      "metadata": {
        "id": "DPJ9IAaeshXI"
      },
      "outputs": [],
      "source": [
        "from keras.datasets.mnist import load_data\n",
        "(X_train, y_train), (X_test, y_test) = load_data()"
      ]
    },
    {
      "cell_type": "code",
      "execution_count": 55,
      "metadata": {
        "colab": {
          "base_uri": "https://localhost:8080/",
          "height": 283
        },
        "id": "zIuIrNOUtZuc",
        "outputId": "2af6aa71-da6e-420f-d66a-8f67a406917d"
      },
      "outputs": [
        {
          "output_type": "execute_result",
          "data": {
            "text/plain": [
              "<matplotlib.image.AxesImage at 0x7fc32d8b7610>"
            ]
          },
          "metadata": {},
          "execution_count": 55
        },
        {
          "output_type": "display_data",
          "data": {
            "text/plain": [
              "<Figure size 432x288 with 1 Axes>"
            ],
            "image/png": "[encoded data removed]"
          },
          "metadata": {
            "needs_background": "light"
          }
        }
      ],
      "source": [
        "import matplotlib.pyplot as plt\n",
        "plt.imshow(X_test[0])"
      ]
    },
    {
      "cell_type": "code",
      "execution_count": 56,
      "metadata": {
        "colab": {
          "base_uri": "https://localhost:8080/",
          "height": 283
        },
        "id": "5aL39JigtsWF",
        "outputId": "066a1dc6-7ac1-435c-e5f5-19332634bb72"
      },
      "outputs": [
        {
          "output_type": "execute_result",
          "data": {
            "text/plain": [
              "<matplotlib.image.AxesImage at 0x7fc32d84b110>"
            ]
          },
          "metadata": {},
          "execution_count": 56
        },
        {
          "output_type": "display_data",
          "data": {
            "text/plain": [
              "<Figure size 432x288 with 1 Axes>"
            ],
            "image/png": "[encoded data removed]"
          },
          "metadata": {
            "needs_background": "light"
          }
        }
      ],
      "source": [
        "import matplotlib.pyplot as plt\n",
        "plt.imshow(X_train[0])"
      ]
    },
    {
      "cell_type": "code",
      "execution_count": 57,
      "metadata": {
        "colab": {
          "base_uri": "https://localhost:8080/"
        },
        "id": "6bRce9youJtV",
        "outputId": "5179c534-e16d-45f6-ef6b-7c55507a2a6b"
      },
      "outputs": [
        {
          "output_type": "execute_result",
          "data": {
            "text/plain": [
              "(60000, 28, 28)"
            ]
          },
          "metadata": {},
          "execution_count": 57
        }
      ],
      "source": [
        "X_train.shape\n"
      ]
    },
    {
      "cell_type": "code",
      "execution_count": 58,
      "metadata": {
        "id": "j97pJJnquJhJ",
        "colab": {
          "base_uri": "https://localhost:8080/"
        },
        "outputId": "01d2d65e-27ef-4f7f-b6a6-dd8ac26a3c0b"
      },
      "outputs": [
        {
          "output_type": "execute_result",
          "data": {
            "text/plain": [
              "(10000, 28, 28)"
            ]
          },
          "metadata": {},
          "execution_count": 58
        }
      ],
      "source": [
        "X_test.shape"
      ]
    },
    {
      "cell_type": "code",
      "execution_count": 59,
      "metadata": {
        "id": "F1j1KuZIyWar",
        "colab": {
          "base_uri": "https://localhost:8080/"
        },
        "outputId": "ce1f7fae-da79-4dc0-b06a-06ffc9f702b9"
      },
      "outputs": [
        {
          "output_type": "execute_result",
          "data": {
            "text/plain": [
              "6.0"
            ]
          },
          "metadata": {},
          "execution_count": 59
        }
      ],
      "source": [
        "X_train.shape[0]/X_test.shape[0]"
      ]
    },
    {
      "cell_type": "code",
      "source": [
        "print(f'{ X_train.shape[1] } * {X_train.shape[2]}')"
      ],
      "metadata": {
        "colab": {
          "base_uri": "https://localhost:8080/"
        },
        "id": "Q1SXKSbf73Y9",
        "outputId": "4446416b-ce68-4bd6-d66d-6084530fbf1c"
      },
      "execution_count": 60,
      "outputs": [
        {
          "output_type": "stream",
          "name": "stdout",
          "text": [
            "28 * 28\n"
          ]
        }
      ]
    },
    {
      "cell_type": "code",
      "source": [
        "print(f'{ X_test.shape[1] } * {X_test.shape[2]}')"
      ],
      "metadata": {
        "colab": {
          "base_uri": "https://localhost:8080/"
        },
        "id": "T1i35dl873P_",
        "outputId": "e6a17725-d752-4d64-9373-eed7114fb537"
      },
      "execution_count": 61,
      "outputs": [
        {
          "output_type": "stream",
          "name": "stdout",
          "text": [
            "28 * 28\n"
          ]
        }
      ]
    },
    {
      "cell_type": "code",
      "source": [
        "X_train.shape[1]*X_train.shape[2]"
      ],
      "metadata": {
        "colab": {
          "base_uri": "https://localhost:8080/"
        },
        "id": "fHVEBIKz7eM9",
        "outputId": "c4c40133-92b8-4ded-e0c0-e03e16b25bac"
      },
      "execution_count": 62,
      "outputs": [
        {
          "output_type": "execute_result",
          "data": {
            "text/plain": [
              "784"
            ]
          },
          "metadata": {},
          "execution_count": 62
        }
      ]
    },
    {
      "cell_type": "code",
      "source": [
        "X_test.shape[1]*X_test.shape[2]"
      ],
      "metadata": {
        "colab": {
          "base_uri": "https://localhost:8080/"
        },
        "id": "d4bXrOhl7eDH",
        "outputId": "1d83967b-a665-49a5-88ff-04dd778e761b"
      },
      "execution_count": 63,
      "outputs": [
        {
          "output_type": "execute_result",
          "data": {
            "text/plain": [
              "784"
            ]
          },
          "metadata": {},
          "execution_count": 63
        }
      ]
    },
    {
      "cell_type": "code",
      "source": [],
      "metadata": {
        "id": "s2SUlySM7d49"
      },
      "execution_count": 63,
      "outputs": []
    },
    {
      "cell_type": "code",
      "execution_count": 64,
      "metadata": {
        "id": "3YRCmhfds6ZY"
      },
      "outputs": [],
      "source": [
        "import numpy as np\n"
      ]
    },
    {
      "cell_type": "code",
      "execution_count": 65,
      "metadata": {
        "id": "T3JT2juKs0Wa"
      },
      "outputs": [],
      "source": [
        "a = np.array([1, 2, 3, 1, 1, 2, 4, 5, 5])\n",
        "b = list(set(a))"
      ]
    },
    {
      "cell_type": "code",
      "execution_count": 66,
      "metadata": {
        "colab": {
          "base_uri": "https://localhost:8080/"
        },
        "id": "IVYqAfJHuYxE",
        "outputId": "3eb9f6e5-895c-4dc1-93b8-d5e818877046"
      },
      "outputs": [
        {
          "output_type": "execute_result",
          "data": {
            "text/plain": [
              "[1, 2, 3, 4, 5]"
            ]
          },
          "metadata": {},
          "execution_count": 66
        }
      ],
      "source": [
        "b"
      ]
    },
    {
      "cell_type": "code",
      "execution_count": 67,
      "metadata": {
        "id": "7aWsv86MtBcs"
      },
      "outputs": [],
      "source": [
        "numbers = [2, 3, 5, 2, 11, 2, 7]\n",
        "count_2 = numbers.count(2)\n"
      ]
    },
    {
      "cell_type": "code",
      "execution_count": 68,
      "metadata": {
        "colab": {
          "base_uri": "https://localhost:8080/"
        },
        "id": "GgC-p2Fbui50",
        "outputId": "e4767b16-a766-440f-e114-fe9893b05a6e"
      },
      "outputs": [
        {
          "output_type": "execute_result",
          "data": {
            "text/plain": [
              "3"
            ]
          },
          "metadata": {},
          "execution_count": 68
        }
      ],
      "source": [
        "count_2"
      ]
    },
    {
      "cell_type": "code",
      "execution_count": 69,
      "metadata": {
        "colab": {
          "base_uri": "https://localhost:8080/"
        },
        "id": "FTN0QJuQukRZ",
        "outputId": "13b95739-aa1d-4af7-d9ea-702046af192f"
      },
      "outputs": [
        {
          "output_type": "execute_result",
          "data": {
            "text/plain": [
              "numpy.ndarray"
            ]
          },
          "metadata": {},
          "execution_count": 69
        }
      ],
      "source": [
        "type(y_train)"
      ]
    },
    {
      "cell_type": "code",
      "execution_count": 70,
      "metadata": {
        "colab": {
          "base_uri": "https://localhost:8080/"
        },
        "id": "eLx3vQWvut8L",
        "outputId": "279162be-c303-4728-8479-a8077b1f8cb8"
      },
      "outputs": [
        {
          "output_type": "execute_result",
          "data": {
            "text/plain": [
              "array([5, 0, 4, ..., 5, 6, 8], dtype=uint8)"
            ]
          },
          "metadata": {},
          "execution_count": 70
        }
      ],
      "source": [
        "y_train"
      ]
    },
    {
      "cell_type": "code",
      "execution_count": 71,
      "metadata": {
        "colab": {
          "base_uri": "https://localhost:8080/"
        },
        "id": "889IxeNCuxBu",
        "outputId": "f64fe676-b846-4cdb-81b3-a8194f1f1c39"
      },
      "outputs": [
        {
          "output_type": "execute_result",
          "data": {
            "text/plain": [
              "(60000,)"
            ]
          },
          "metadata": {},
          "execution_count": 71
        }
      ],
      "source": [
        "y_train.shape"
      ]
    },
    {
      "cell_type": "code",
      "execution_count": 72,
      "metadata": {
        "id": "p0hkG7MGuxlc"
      },
      "outputs": [],
      "source": [
        "labels= list(set(y_train))"
      ]
    },
    {
      "cell_type": "code",
      "execution_count": 73,
      "metadata": {
        "colab": {
          "base_uri": "https://localhost:8080/"
        },
        "id": "9VulL4smu_Sa",
        "outputId": "1c3c1f4b-f1b5-4447-8299-2e2a283390ac"
      },
      "outputs": [
        {
          "output_type": "execute_result",
          "data": {
            "text/plain": [
              "[0, 1, 2, 3, 4, 5, 6, 7, 8, 9]"
            ]
          },
          "metadata": {},
          "execution_count": 73
        }
      ],
      "source": [
        "\n",
        "labels"
      ]
    },
    {
      "cell_type": "code",
      "execution_count": 74,
      "metadata": {
        "id": "2xlJozalvKpX"
      },
      "outputs": [],
      "source": [
        "list_labels=dict()\n",
        "\n",
        "for l in labels:\n",
        "  list_labels[l] = list(y_train).count(l)"
      ]
    },
    {
      "cell_type": "code",
      "execution_count": 75,
      "metadata": {
        "colab": {
          "base_uri": "https://localhost:8080/"
        },
        "id": "vOTUqyQlvyvx",
        "outputId": "425f8227-ff20-415c-ad39-0d48362d8e0d"
      },
      "outputs": [
        {
          "output_type": "execute_result",
          "data": {
            "text/plain": [
              "{0: 5923,\n",
              " 1: 6742,\n",
              " 2: 5958,\n",
              " 3: 6131,\n",
              " 4: 5842,\n",
              " 5: 5421,\n",
              " 6: 5918,\n",
              " 7: 6265,\n",
              " 8: 5851,\n",
              " 9: 5949}"
            ]
          },
          "metadata": {},
          "execution_count": 75
        }
      ],
      "source": [
        "list_labels"
      ]
    },
    {
      "cell_type": "code",
      "execution_count": 76,
      "metadata": {
        "colab": {
          "base_uri": "https://localhost:8080/",
          "height": 313
        },
        "id": "lwmGjVu9v1-S",
        "outputId": "40516171-1076-480f-e91f-f555f323ea64"
      },
      "outputs": [
        {
          "output_type": "execute_result",
          "data": {
            "text/plain": [
              "Text(0.5, 1.0, 'Thong ke so luong anh theo tung nhan')"
            ]
          },
          "metadata": {},
          "execution_count": 76
        },
        {
          "output_type": "display_data",
          "data": {
            "text/plain": [
              "<Figure size 432x288 with 1 Axes>"
            ],
            "image/png": "[encoded data removed]"
          },
          "metadata": {
            "needs_background": "light"
          }
        }
      ],
      "source": [
        "plt.bar(list_labels.keys(),list_labels.values())\n",
        "plt.xlabel('Label')\n",
        "plt.ylabel(\"Frequency\")\n",
        "plt.title('Thong ke so luong anh theo tung nhan')"
      ]
    },
    {
      "cell_type": "code",
      "execution_count": 77,
      "metadata": {
        "colab": {
          "base_uri": "https://localhost:8080/",
          "height": 264
        },
        "id": "m-aZidEsxZyS",
        "outputId": "a62bbc2c-2f30-40f6-8a81-18272c690eb1"
      },
      "outputs": [
        {
          "output_type": "display_data",
          "data": {
            "text/plain": [
              "<Figure size 432x288 with 1 Axes>"
            ],
            "image/png": "[encoded data removed]"
          },
          "metadata": {}
        }
      ],
      "source": [
        "plt.pie(x=list_labels.values(),labels=list_labels.keys(),autopct='%.0f%%')\n",
        "plt.title('Ti le ')\n",
        "plt.show()"
      ]
    },
    {
      "cell_type": "code",
      "execution_count": 78,
      "metadata": {
        "id": "2lIzm6Izy3Bw"
      },
      "outputs": [],
      "source": [
        "\n",
        "X_train_reshaped= X_train.reshape(-1,784)\n"
      ]
    },
    {
      "cell_type": "code",
      "execution_count": 79,
      "metadata": {
        "colab": {
          "base_uri": "https://localhost:8080/"
        },
        "id": "MZNcNBvJ1rbS",
        "outputId": "3bfd2e55-feec-4926-a00d-2903ab746ab9"
      },
      "outputs": [
        {
          "output_type": "execute_result",
          "data": {
            "text/plain": [
              "(784,)"
            ]
          },
          "metadata": {},
          "execution_count": 79
        }
      ],
      "source": [
        "X_train_reshaped[0].shape"
      ]
    },
    {
      "cell_type": "code",
      "execution_count": 80,
      "metadata": {
        "id": "lijrC5xs1-HL",
        "colab": {
          "base_uri": "https://localhost:8080/"
        },
        "outputId": "4bac980e-6fa5-47c6-ec36-467ebb5eaf0f"
      },
      "outputs": [
        {
          "output_type": "execute_result",
          "data": {
            "text/plain": [
              "array([  0,   0,   0,   0,   0,   0,   0,   0,   0,   0,   0,   0,   0,\n",
              "         0,   0,   0,   0,   0,   0,   0,   0,   0,   0,   0,   0,   0,\n",
              "         0,   0,   0,   0,   0,   0,   0,   0,   0,   0,   0,   0,   0,\n",
              "         0,   0,   0,   0,   0,   0,   0,   0,   0,   0,   0,   0,   0,\n",
              "         0,   0,   0,   0,   0,   0,   0,   0,   0,   0,   0,   0,   0,\n",
              "         0,   0,   0,   0,   0,   0,   0,   0,   0,   0,   0,   0,   0,\n",
              "         0,   0,   0,   0,   0,   0,   0,   0,   0,   0,   0,   0,   0,\n",
              "         0,   0,   0,   0,   0,   0,   0,   0,   0,   0,   0,   0,   0,\n",
              "         0,   0,   0,   0,   0,   0,   0,   0,   0,   0,   0,   0,   0,\n",
              "         0,   0,   0,   0,   0,   0,   0,   0,   0,   0,   0,   0,   0,\n",
              "         0,   0,   0,   0,   0,   0,   0,   0,   0,   0,   0,   0,   0,\n",
              "         0,   0,   0,   0,   0,   0,   0,   0,   0,   3,  18,  18,  18,\n",
              "       126, 136, 175,  26, 166, 255, 247, 127,   0,   0,   0,   0,   0,\n",
              "         0,   0,   0,   0,   0,   0,   0,  30,  36,  94, 154, 170, 253,\n",
              "       253, 253, 253, 253, 225, 172, 253, 242, 195,  64,   0,   0,   0,\n",
              "         0,   0,   0,   0,   0,   0,   0,   0,  49, 238, 253, 253, 253,\n",
              "       253, 253, 253, 253, 253, 251,  93,  82,  82,  56,  39,   0,   0,\n",
              "         0,   0,   0,   0,   0,   0,   0,   0,   0,   0,  18, 219, 253,\n",
              "       253, 253, 253, 253, 198, 182, 247, 241,   0,   0,   0,   0,   0,\n",
              "         0,   0,   0,   0,   0,   0,   0,   0,   0,   0,   0,   0,   0,\n",
              "        80, 156, 107, 253, 253, 205,  11,   0,  43, 154,   0,   0,   0,\n",
              "         0,   0,   0,   0,   0,   0,   0,   0,   0,   0,   0,   0,   0,\n",
              "         0,   0,   0,  14,   1, 154, 253,  90,   0,   0,   0,   0,   0,\n",
              "         0,   0,   0,   0,   0,   0,   0,   0,   0,   0,   0,   0,   0,\n",
              "         0,   0,   0,   0,   0,   0,   0, 139, 253, 190,   2,   0,   0,\n",
              "         0,   0,   0,   0,   0,   0,   0,   0,   0,   0,   0,   0,   0,\n",
              "         0,   0,   0,   0,   0,   0,   0,   0,   0,  11, 190, 253,  70,\n",
              "         0,   0,   0,   0,   0,   0,   0,   0,   0,   0,   0,   0,   0,\n",
              "         0,   0,   0,   0,   0,   0,   0,   0,   0,   0,   0,   0,  35,\n",
              "       241, 225, 160, 108,   1,   0,   0,   0,   0,   0,   0,   0,   0,\n",
              "         0,   0,   0,   0,   0,   0,   0,   0,   0,   0,   0,   0,   0,\n",
              "         0,   0,  81, 240, 253, 253, 119,  25,   0,   0,   0,   0,   0,\n",
              "         0,   0,   0,   0,   0,   0,   0,   0,   0,   0,   0,   0,   0,\n",
              "         0,   0,   0,   0,   0,  45, 186, 253, 253, 150,  27,   0,   0,\n",
              "         0,   0,   0,   0,   0,   0,   0,   0,   0,   0,   0,   0,   0,\n",
              "         0,   0,   0,   0,   0,   0,   0,   0,  16,  93, 252, 253, 187,\n",
              "         0,   0,   0,   0,   0,   0,   0,   0,   0,   0,   0,   0,   0,\n",
              "         0,   0,   0,   0,   0,   0,   0,   0,   0,   0,   0,   0, 249,\n",
              "       253, 249,  64,   0,   0,   0,   0,   0,   0,   0,   0,   0,   0,\n",
              "         0,   0,   0,   0,   0,   0,   0,   0,   0,   0,   0,  46, 130,\n",
              "       183, 253, 253, 207,   2,   0,   0,   0,   0,   0,   0,   0,   0,\n",
              "         0,   0,   0,   0,   0,   0,   0,   0,   0,   0,   0,  39, 148,\n",
              "       229, 253, 253, 253, 250, 182,   0,   0,   0,   0,   0,   0,   0,\n",
              "         0,   0,   0,   0,   0,   0,   0,   0,   0,   0,   0,  24, 114,\n",
              "       221, 253, 253, 253, 253, 201,  78,   0,   0,   0,   0,   0,   0,\n",
              "         0,   0,   0,   0,   0,   0,   0,   0,   0,   0,   0,  23,  66,\n",
              "       213, 253, 253, 253, 253, 198,  81,   2,   0,   0,   0,   0,   0,\n",
              "         0,   0,   0,   0,   0,   0,   0,   0,   0,   0,   0,  18, 171,\n",
              "       219, 253, 253, 253, 253, 195,  80,   9,   0,   0,   0,   0,   0,\n",
              "         0,   0,   0,   0,   0,   0,   0,   0,   0,   0,   0,  55, 172,\n",
              "       226, 253, 253, 253, 253, 244, 133,  11,   0,   0,   0,   0,   0,\n",
              "         0,   0,   0,   0,   0,   0,   0,   0,   0,   0,   0,   0,   0,\n",
              "       136, 253, 253, 253, 212, 135, 132,  16,   0,   0,   0,   0,   0,\n",
              "         0,   0,   0,   0,   0,   0,   0,   0,   0,   0,   0,   0,   0,\n",
              "         0,   0,   0,   0,   0,   0,   0,   0,   0,   0,   0,   0,   0,\n",
              "         0,   0,   0,   0,   0,   0,   0,   0,   0,   0,   0,   0,   0,\n",
              "         0,   0,   0,   0,   0,   0,   0,   0,   0,   0,   0,   0,   0,\n",
              "         0,   0,   0,   0,   0,   0,   0,   0,   0,   0,   0,   0,   0,\n",
              "         0,   0,   0,   0,   0,   0,   0,   0,   0,   0,   0,   0,   0,\n",
              "         0,   0,   0,   0,   0,   0,   0,   0,   0,   0,   0,   0,   0,\n",
              "         0,   0,   0,   0], dtype=uint8)"
            ]
          },
          "metadata": {},
          "execution_count": 80
        }
      ],
      "source": [
        "X_train_reshaped[0]"
      ]
    },
    {
      "cell_type": "code",
      "source": [
        "print(len(X_train_reshaped[0]))"
      ],
      "metadata": {
        "colab": {
          "base_uri": "https://localhost:8080/"
        },
        "id": "dEEF7e9rUvDb",
        "outputId": "1b31ad56-4b57-4b0c-db8c-b6fa37ae608a"
      },
      "execution_count": 81,
      "outputs": [
        {
          "output_type": "stream",
          "name": "stdout",
          "text": [
            "784\n"
          ]
        }
      ]
    },
    {
      "cell_type": "code",
      "execution_count": 82,
      "metadata": {
        "id": "H4jtG7G01uD7"
      },
      "outputs": [],
      "source": [
        "X_test_reshaped= X_test.reshape(-1,784)"
      ]
    },
    {
      "cell_type": "code",
      "execution_count": 83,
      "metadata": {
        "colab": {
          "base_uri": "https://localhost:8080/"
        },
        "id": "zA6gKgbE15xL",
        "outputId": "aa7e6294-bf92-4c65-939a-738004186004"
      },
      "outputs": [
        {
          "output_type": "execute_result",
          "data": {
            "text/plain": [
              "array([[0, 0, 0, ..., 0, 0, 0],\n",
              "       [0, 0, 0, ..., 0, 0, 0],\n",
              "       [0, 0, 0, ..., 0, 0, 0],\n",
              "       ...,\n",
              "       [0, 0, 0, ..., 0, 0, 0],\n",
              "       [0, 0, 0, ..., 0, 0, 0],\n",
              "       [0, 0, 0, ..., 0, 0, 0]], dtype=uint8)"
            ]
          },
          "metadata": {},
          "execution_count": 83
        }
      ],
      "source": [
        "X_test_reshaped"
      ]
    },
    {
      "cell_type": "code",
      "execution_count": 84,
      "metadata": {
        "id": "oYCf6NOt18KP"
      },
      "outputs": [],
      "source": [
        "from tensorflow.keras.utils import to_categorical\n",
        "y_train = to_categorical(y_train, num_classes=10)"
      ]
    },
    {
      "cell_type": "code",
      "execution_count": 85,
      "metadata": {
        "colab": {
          "base_uri": "https://localhost:8080/"
        },
        "id": "696d9mhb3sUX",
        "outputId": "085ff343-c2bd-40e8-cf3d-3df4059fecfd"
      },
      "outputs": [
        {
          "output_type": "execute_result",
          "data": {
            "text/plain": [
              "array([[0., 0., 0., ..., 0., 0., 0.],\n",
              "       [1., 0., 0., ..., 0., 0., 0.],\n",
              "       [0., 0., 0., ..., 0., 0., 0.],\n",
              "       ...,\n",
              "       [0., 0., 0., ..., 0., 0., 0.],\n",
              "       [0., 0., 0., ..., 0., 0., 0.],\n",
              "       [0., 0., 0., ..., 0., 1., 0.]], dtype=float32)"
            ]
          },
          "metadata": {},
          "execution_count": 85
        }
      ],
      "source": [
        "y_train"
      ]
    },
    {
      "cell_type": "code",
      "source": [
        "y_train.shape"
      ],
      "metadata": {
        "colab": {
          "base_uri": "https://localhost:8080/"
        },
        "id": "llFiOe-PX8uL",
        "outputId": "b0aa1381-4ddd-44bb-bf13-8c8fba6be12a"
      },
      "execution_count": 86,
      "outputs": [
        {
          "output_type": "execute_result",
          "data": {
            "text/plain": [
              "(60000, 10)"
            ]
          },
          "metadata": {},
          "execution_count": 86
        }
      ]
    },
    {
      "cell_type": "code",
      "execution_count": 87,
      "metadata": {
        "colab": {
          "base_uri": "https://localhost:8080/"
        },
        "id": "f9xe5s-L4FfS",
        "outputId": "6accb551-e0f9-46eb-bc4f-6fd55ec983c9"
      },
      "outputs": [
        {
          "output_type": "execute_result",
          "data": {
            "text/plain": [
              "array([0., 0., 1., 0., 0., 0., 0., 0., 0., 0.], dtype=float32)"
            ]
          },
          "metadata": {},
          "execution_count": 87
        }
      ],
      "source": [
        "y_train[5]"
      ]
    },
    {
      "cell_type": "code",
      "source": [
        "plt.imshow(X_train[5])"
      ],
      "metadata": {
        "colab": {
          "base_uri": "https://localhost:8080/",
          "height": 283
        },
        "id": "mSDHA47HXzbh",
        "outputId": "52f9a879-a7db-4d2e-9bde-fc18b42a0d29"
      },
      "execution_count": 88,
      "outputs": [
        {
          "output_type": "execute_result",
          "data": {
            "text/plain": [
              "<matplotlib.image.AxesImage at 0x7fc32a1d24d0>"
            ]
          },
          "metadata": {},
          "execution_count": 88
        },
        {
          "output_type": "display_data",
          "data": {
            "text/plain": [
              "<Figure size 432x288 with 1 Axes>"
            ],
            "image/png": "[encoded data removed]"
          },
          "metadata": {
            "needs_background": "light"
          }
        }
      ]
    },
    {
      "cell_type": "code",
      "source": [
        "print(y_train[5])"
      ],
      "metadata": {
        "colab": {
          "base_uri": "https://localhost:8080/"
        },
        "id": "B3iKiGCZXzei",
        "outputId": "7a46260b-55a1-4593-c4bc-50725b61c717"
      },
      "execution_count": 89,
      "outputs": [
        {
          "output_type": "stream",
          "name": "stdout",
          "text": [
            "[0. 0. 1. 0. 0. 0. 0. 0. 0. 0.]\n"
          ]
        }
      ]
    },
    {
      "cell_type": "code",
      "source": [
        "y_train[5]"
      ],
      "metadata": {
        "colab": {
          "base_uri": "https://localhost:8080/"
        },
        "id": "JdXANlDQXzhk",
        "outputId": "6b473a9f-d8d1-4277-f888-ddf2aebe6bef"
      },
      "execution_count": 90,
      "outputs": [
        {
          "output_type": "execute_result",
          "data": {
            "text/plain": [
              "array([0., 0., 1., 0., 0., 0., 0., 0., 0., 0.], dtype=float32)"
            ]
          },
          "metadata": {},
          "execution_count": 90
        }
      ]
    },
    {
      "cell_type": "code",
      "source": [],
      "metadata": {
        "id": "83HmGBVEXzkL"
      },
      "execution_count": 90,
      "outputs": []
    },
    {
      "cell_type": "code",
      "source": [],
      "metadata": {
        "id": "RMljXOuEXznD"
      },
      "execution_count": 90,
      "outputs": []
    },
    {
      "cell_type": "code",
      "execution_count": 91,
      "metadata": {
        "id": "oy-DYSo5422T"
      },
      "outputs": [],
      "source": [
        "from keras.models import Sequential\n",
        "model=Sequential()"
      ]
    },
    {
      "cell_type": "code",
      "execution_count": 92,
      "metadata": {
        "colab": {
          "base_uri": "https://localhost:8080/"
        },
        "id": "YvSHwt6z5DnV",
        "outputId": "5a1b9e57-8cec-455a-c0f1-85fa35a755d0"
      },
      "outputs": [
        {
          "output_type": "execute_result",
          "data": {
            "text/plain": [
              "<keras.layers.core.dense.Dense at 0x7fc3321241d0>"
            ]
          },
          "metadata": {},
          "execution_count": 92
        }
      ],
      "source": [
        "from keras.layers import Dense\n",
        "Dense(784,input_shape=(784,))"
      ]
    },
    {
      "cell_type": "code",
      "execution_count": 93,
      "metadata": {
        "id": "UvCfG1J95KhW"
      },
      "outputs": [],
      "source": [
        "model.add(Dense(784, input_shape=(784, )))\n"
      ]
    },
    {
      "cell_type": "code",
      "execution_count": 94,
      "metadata": {
        "colab": {
          "base_uri": "https://localhost:8080/"
        },
        "id": "2mYie-UQ6uJc",
        "outputId": "782969dc-a01d-40c8-fe6c-48ab49de9196"
      },
      "outputs": [
        {
          "output_type": "stream",
          "name": "stdout",
          "text": [
            "Model: \"sequential_1\"\n",
            "_________________________________________________________________\n",
            " Layer (type)                Output Shape              Param #   \n",
            "=================================================================\n",
            " dense_4 (Dense)             (None, 784)               615440    \n",
            "                                                                 \n",
            "=================================================================\n",
            "Total params: 615,440\n",
            "Trainable params: 615,440\n",
            "Non-trainable params: 0\n",
            "_________________________________________________________________\n"
          ]
        }
      ],
      "source": [
        "model.summary()"
      ]
    },
    {
      "cell_type": "code",
      "execution_count": 95,
      "metadata": {
        "id": "5Qdv2Bua6zT2"
      },
      "outputs": [],
      "source": [
        "model.add(Dense(10,input_shape=(10, )))"
      ]
    },
    {
      "cell_type": "code",
      "execution_count": 96,
      "metadata": {
        "colab": {
          "base_uri": "https://localhost:8080/"
        },
        "id": "7aOAM3fc9GwF",
        "outputId": "6b1ce822-4393-4aba-e9e2-879a89cedd53"
      },
      "outputs": [
        {
          "output_type": "stream",
          "name": "stdout",
          "text": [
            "Model: \"sequential_1\"\n",
            "_________________________________________________________________\n",
            " Layer (type)                Output Shape              Param #   \n",
            "=================================================================\n",
            " dense_4 (Dense)             (None, 784)               615440    \n",
            "                                                                 \n",
            " dense_5 (Dense)             (None, 10)                7850      \n",
            "                                                                 \n",
            "=================================================================\n",
            "Total params: 623,290\n",
            "Trainable params: 623,290\n",
            "Non-trainable params: 0\n",
            "_________________________________________________________________\n"
          ]
        }
      ],
      "source": [
        "model.summary()"
      ]
    },
    {
      "cell_type": "code",
      "execution_count": 97,
      "metadata": {
        "id": "5NzavWiM-29d"
      },
      "outputs": [],
      "source": [
        "from tensorflow.keras.optimizers import Adam\n",
        "optimizer = Adam(learning_rate=0.01)"
      ]
    },
    {
      "cell_type": "code",
      "execution_count": 98,
      "metadata": {
        "id": "IwUHjmxn_HXG"
      },
      "outputs": [],
      "source": [
        "from tensorflow.keras.losses import BinaryCrossentropy\n",
        "loss = BinaryCrossentropy()\n"
      ]
    },
    {
      "cell_type": "code",
      "execution_count": 99,
      "metadata": {
        "id": "E0lzsLGX_Pr5"
      },
      "outputs": [],
      "source": [
        "model.compile(optimizer=optimizer, loss=loss, metrics=['accuracy'])\n"
      ]
    },
    {
      "cell_type": "code",
      "execution_count": 100,
      "metadata": {
        "colab": {
          "base_uri": "https://localhost:8080/"
        },
        "id": "i7TuhjdD_Rfs",
        "outputId": "d054beb4-4269-4aa9-e1ff-9298a8a10123"
      },
      "outputs": [
        {
          "output_type": "stream",
          "name": "stdout",
          "text": [
            "Epoch 1/10\n",
            "469/469 [==============================] - 4s 7ms/step - loss: 3.3238 - accuracy: 0.0901\n",
            "Epoch 2/10\n",
            "469/469 [==============================] - 4s 8ms/step - loss: 2.7903 - accuracy: 0.0904\n",
            "Epoch 3/10\n",
            "469/469 [==============================] - 6s 12ms/step - loss: 2.7903 - accuracy: 0.0904\n",
            "Epoch 4/10\n",
            "469/469 [==============================] - 6s 12ms/step - loss: 2.7903 - accuracy: 0.0904\n",
            "Epoch 5/10\n",
            "469/469 [==============================] - 4s 9ms/step - loss: 2.7903 - accuracy: 0.0904\n",
            "Epoch 6/10\n",
            "469/469 [==============================] - 3s 7ms/step - loss: 2.7903 - accuracy: 0.0904\n",
            "Epoch 7/10\n",
            "469/469 [==============================] - 3s 7ms/step - loss: 2.7903 - accuracy: 0.0904\n",
            "Epoch 8/10\n",
            "469/469 [==============================] - 3s 7ms/step - loss: 2.7903 - accuracy: 0.0904\n",
            "Epoch 9/10\n",
            "469/469 [==============================] - 3s 7ms/step - loss: 2.7903 - accuracy: 0.0904\n",
            "Epoch 10/10\n",
            "469/469 [==============================] - 3s 7ms/step - loss: 2.7903 - accuracy: 0.0904\n",
            "{38.93251900400003}\n"
          ]
        }
      ],
      "source": [
        "import time \n",
        "t1=time.perf_counter()\n",
        "model.fit(X_train_reshaped, y_train, batch_size=128, epochs=10)\n",
        "t2=time.perf_counter()\n",
        "print({t2-t1})"
      ]
    },
    {
      "cell_type": "code",
      "execution_count": 101,
      "metadata": {
        "id": "c5Q1JJK2_S8v"
      },
      "outputs": [],
      "source": [
        "y_pred = model.predict(X_test_reshaped)\n"
      ]
    },
    {
      "cell_type": "code",
      "source": [
        "y_pred.shape"
      ],
      "metadata": {
        "colab": {
          "base_uri": "https://localhost:8080/"
        },
        "id": "IVTHGUi-mLvC",
        "outputId": "d490855e-81e6-4ce5-8132-82020bffca90"
      },
      "execution_count": 102,
      "outputs": [
        {
          "output_type": "execute_result",
          "data": {
            "text/plain": [
              "(10000, 10)"
            ]
          },
          "metadata": {},
          "execution_count": 102
        }
      ]
    },
    {
      "cell_type": "code",
      "execution_count": 103,
      "metadata": {
        "id": "jffjg85cAtRB"
      },
      "outputs": [],
      "source": [
        "y_pred_label = np.argmax(y_pred, axis=-1)\n"
      ]
    },
    {
      "cell_type": "code",
      "source": [
        "y_pred[50]"
      ],
      "metadata": {
        "colab": {
          "base_uri": "https://localhost:8080/"
        },
        "id": "BZMoPrsanHUz",
        "outputId": "37b0d586-d89b-4607-d798-eb054bf52fc4"
      },
      "execution_count": 104,
      "outputs": [
        {
          "output_type": "execute_result",
          "data": {
            "text/plain": [
              "array([-36641.766 , -33266.367 , -36892.457 , -35514.598 , -52196.15  ,\n",
              "         1860.4623, -65111.723 , -82784.81  , -49448.234 , -10444.562 ],\n",
              "      dtype=float32)"
            ]
          },
          "metadata": {},
          "execution_count": 104
        }
      ]
    },
    {
      "cell_type": "code",
      "source": [
        "y_pred_label[50]"
      ],
      "metadata": {
        "colab": {
          "base_uri": "https://localhost:8080/"
        },
        "id": "iavb_AA5nHJd",
        "outputId": "92d59b7a-632b-4ae9-cb01-1bf1f4003370"
      },
      "execution_count": 105,
      "outputs": [
        {
          "output_type": "execute_result",
          "data": {
            "text/plain": [
              "5"
            ]
          },
          "metadata": {},
          "execution_count": 105
        }
      ]
    },
    {
      "cell_type": "code",
      "source": [
        "y_test[50]"
      ],
      "metadata": {
        "id": "EwyvXpf-nHGx",
        "colab": {
          "base_uri": "https://localhost:8080/"
        },
        "outputId": "f567ca60-0619-4b63-f7fc-eaf04e78a1bc"
      },
      "execution_count": 106,
      "outputs": [
        {
          "output_type": "execute_result",
          "data": {
            "text/plain": [
              "6"
            ]
          },
          "metadata": {},
          "execution_count": 106
        }
      ]
    },
    {
      "cell_type": "code",
      "source": [
        "y_test[100]\n"
      ],
      "metadata": {
        "id": "6C_DuT8ZnHD6",
        "colab": {
          "base_uri": "https://localhost:8080/"
        },
        "outputId": "6759785f-092c-485c-a6ac-db3184dccebe"
      },
      "execution_count": 108,
      "outputs": [
        {
          "output_type": "execute_result",
          "data": {
            "text/plain": [
              "6"
            ]
          },
          "metadata": {},
          "execution_count": 108
        }
      ]
    },
    {
      "cell_type": "code",
      "source": [
        "y_test[1001]\n"
      ],
      "metadata": {
        "colab": {
          "base_uri": "https://localhost:8080/"
        },
        "id": "jU0-BfBuAU74",
        "outputId": "d3653dca-715f-4c14-f023-481956f4cbac"
      },
      "execution_count": 109,
      "outputs": [
        {
          "output_type": "execute_result",
          "data": {
            "text/plain": [
              "0"
            ]
          },
          "metadata": {},
          "execution_count": 109
        }
      ]
    },
    {
      "cell_type": "code",
      "source": [
        "y_test[4123]\n"
      ],
      "metadata": {
        "colab": {
          "base_uri": "https://localhost:8080/"
        },
        "id": "HY8LUZjYAU2A",
        "outputId": "70e61983-f06c-404d-85d0-d0ae0822e29e"
      },
      "execution_count": 110,
      "outputs": [
        {
          "output_type": "execute_result",
          "data": {
            "text/plain": [
              "8"
            ]
          },
          "metadata": {},
          "execution_count": 110
        }
      ]
    },
    {
      "cell_type": "code",
      "source": [
        "plt.imshow(X_test[100])"
      ],
      "metadata": {
        "colab": {
          "base_uri": "https://localhost:8080/",
          "height": 283
        },
        "id": "99odiyQmAp5U",
        "outputId": "bd9bd734-9c8c-43ca-da9f-98630d7988fd"
      },
      "execution_count": 112,
      "outputs": [
        {
          "output_type": "execute_result",
          "data": {
            "text/plain": [
              "<matplotlib.image.AxesImage at 0x7fc328191350>"
            ]
          },
          "metadata": {},
          "execution_count": 112
        },
        {
          "output_type": "display_data",
          "data": {
            "text/plain": [
              "<Figure size 432x288 with 1 Axes>"
            ],
            "image/png": "[encoded data removed]"
          },
          "metadata": {
            "needs_background": "light"
          }
        }
      ]
    },
    {
      "cell_type": "code",
      "source": [
        "plt.imshow(X_test[1001])"
      ],
      "metadata": {
        "colab": {
          "base_uri": "https://localhost:8080/",
          "height": 283
        },
        "id": "_HewL9RIAp2y",
        "outputId": "0d97ce7d-3961-4f9b-f626-063e3556b727"
      },
      "execution_count": 113,
      "outputs": [
        {
          "output_type": "execute_result",
          "data": {
            "text/plain": [
              "<matplotlib.image.AxesImage at 0x7fc328165ed0>"
            ]
          },
          "metadata": {},
          "execution_count": 113
        },
        {
          "output_type": "display_data",
          "data": {
            "text/plain": [
              "<Figure size 432x288 with 1 Axes>"
            ],
            "image/png": "[encoded data removed]"
          },
          "metadata": {
            "needs_background": "light"
          }
        }
      ]
    },
    {
      "cell_type": "code",
      "source": [
        "plt.imshow(X_test[4123])"
      ],
      "metadata": {
        "colab": {
          "base_uri": "https://localhost:8080/",
          "height": 283
        },
        "id": "hEEgpy-qApz_",
        "outputId": "3ad4d580-79b2-424a-8a39-b016eb4b2ff0"
      },
      "execution_count": 114,
      "outputs": [
        {
          "output_type": "execute_result",
          "data": {
            "text/plain": [
              "<matplotlib.image.AxesImage at 0x7fc3280cda10>"
            ]
          },
          "metadata": {},
          "execution_count": 114
        },
        {
          "output_type": "display_data",
          "data": {
            "text/plain": [
              "<Figure size 432x288 with 1 Axes>"
            ],
            "image/png": "[encoded data removed]"
          },
          "metadata": {
            "needs_background": "light"
          }
        }
      ]
    },
    {
      "cell_type": "code",
      "execution_count": 116,
      "metadata": {
        "colab": {
          "base_uri": "https://localhost:8080/"
        },
        "id": "UrLx0q_DAtkD",
        "outputId": "0e7866ac-af4f-4f49-848d-b76da8b74462"
      },
      "outputs": [
        {
          "output_type": "execute_result",
          "data": {
            "text/plain": [
              "8.92"
            ]
          },
          "metadata": {},
          "execution_count": 116
        }
      ],
      "source": [
        "from sklearn.metrics import accuracy_score\n",
        "accuracy_score(y_test, y_pred_label)*100\n"
      ]
    },
    {
      "cell_type": "code",
      "execution_count": 117,
      "metadata": {
        "id": "_2480uUjIHHz",
        "colab": {
          "base_uri": "https://localhost:8080/"
        },
        "outputId": "942f0dfd-a01e-4eee-d434-1cde2755e1cc"
      },
      "outputs": [
        {
          "output_type": "execute_result",
          "data": {
            "text/plain": [
              "array([[   0,    0,    0,    0,    0,  980,    0,    0,    0,    0],\n",
              "       [   0,    0,    0,    0,    0, 1135,    0,    0,    0,    0],\n",
              "       [   0,    0,    0,    0,    0, 1032,    0,    0,    0,    0],\n",
              "       [   0,    0,    0,    0,    0, 1010,    0,    0,    0,    0],\n",
              "       [   0,    0,    0,    0,    0,  982,    0,    0,    0,    0],\n",
              "       [   0,    0,    0,    0,    0,  892,    0,    0,    0,    0],\n",
              "       [   0,    0,    0,    0,    0,  958,    0,    0,    0,    0],\n",
              "       [   0,    0,    0,    0,    0, 1028,    0,    0,    0,    0],\n",
              "       [   0,    0,    0,    0,    0,  974,    0,    0,    0,    0],\n",
              "       [   0,    0,    0,    0,    0, 1009,    0,    0,    0,    0]])"
            ]
          },
          "metadata": {},
          "execution_count": 117
        }
      ],
      "source": [
        "from sklearn.metrics import confusion_matrix\n",
        "confusion_matrix(y_test,y_pred_label)"
      ]
    },
    {
      "cell_type": "code",
      "execution_count": 118,
      "metadata": {
        "id": "UbYTIYpgA5Yg"
      },
      "outputs": [],
      "source": [
        "model.save('my_model_lab1.h5')\n"
      ]
    },
    {
      "cell_type": "code",
      "execution_count": 119,
      "metadata": {
        "id": "khbwKSDxBGUV"
      },
      "outputs": [],
      "source": [
        "from keras.models import load_model\n",
        "model = load_model('my_model_lab1.h5')\n"
      ]
    },
    {
      "cell_type": "markdown",
      "metadata": {
        "id": "9gXbPQqHBatC"
      },
      "source": [
        "BÀI TẬP\n"
      ]
    },
    {
      "cell_type": "markdown",
      "metadata": {
        "id": "ON0K9KWY4GzX"
      },
      "source": [
        "Baitap1"
      ]
    },
    {
      "cell_type": "code",
      "execution_count": 120,
      "metadata": {
        "id": "R0l_5c4eBKKR"
      },
      "outputs": [],
      "source": [
        "model1=Sequential()"
      ]
    },
    {
      "cell_type": "code",
      "execution_count": 121,
      "metadata": {
        "id": "dYY3yQd1xSDI",
        "colab": {
          "base_uri": "https://localhost:8080/"
        },
        "outputId": "a6cbe83b-9f36-42ee-a259-180cf49ceb4c"
      },
      "outputs": [
        {
          "output_type": "execute_result",
          "data": {
            "text/plain": [
              "<keras.layers.core.dense.Dense at 0x7fc3277f0050>"
            ]
          },
          "metadata": {},
          "execution_count": 121
        }
      ],
      "source": [
        "Dense(784,input_shape=(784, ),activation='sigmoid')"
      ]
    },
    {
      "cell_type": "code",
      "execution_count": 122,
      "metadata": {
        "id": "HWCZb6eFxXvC"
      },
      "outputs": [],
      "source": [
        "model1.add(Dense(784,input_shape=(784, ),activation='sigmoid'))"
      ]
    },
    {
      "cell_type": "code",
      "execution_count": 123,
      "metadata": {
        "id": "mNhpiqU5xdNs"
      },
      "outputs": [],
      "source": [
        "model1.add(Dense(10,input_shape=(10, ),activation='sigmoid'))"
      ]
    },
    {
      "cell_type": "code",
      "execution_count": 124,
      "metadata": {
        "id": "RWzEMPaSxiB3",
        "colab": {
          "base_uri": "https://localhost:8080/"
        },
        "outputId": "30970483-0d8e-45b9-ece0-1dfb32fcbf8b"
      },
      "outputs": [
        {
          "output_type": "stream",
          "name": "stdout",
          "text": [
            "Model: \"sequential_2\"\n",
            "_________________________________________________________________\n",
            " Layer (type)                Output Shape              Param #   \n",
            "=================================================================\n",
            " dense_7 (Dense)             (None, 784)               615440    \n",
            "                                                                 \n",
            " dense_8 (Dense)             (None, 10)                7850      \n",
            "                                                                 \n",
            "=================================================================\n",
            "Total params: 623,290\n",
            "Trainable params: 623,290\n",
            "Non-trainable params: 0\n",
            "_________________________________________________________________\n"
          ]
        }
      ],
      "source": [
        "model1.summary()"
      ]
    },
    {
      "cell_type": "code",
      "execution_count": 125,
      "metadata": {
        "id": "cLG7beCz4DV0"
      },
      "outputs": [],
      "source": [
        "model1.compile(optimizer=optimizer, loss=loss, metrics=['accuracy'])"
      ]
    },
    {
      "cell_type": "code",
      "execution_count": 126,
      "metadata": {
        "id": "MUg9BeIY4qAy",
        "colab": {
          "base_uri": "https://localhost:8080/"
        },
        "outputId": "42b75c9f-e863-466e-ee72-2f33f341886b"
      },
      "outputs": [
        {
          "output_type": "stream",
          "name": "stdout",
          "text": [
            "Epoch 1/10\n",
            "469/469 [==============================] - 4s 7ms/step - loss: 0.2007 - accuracy: 0.7138\n",
            "Epoch 2/10\n",
            "469/469 [==============================] - 3s 7ms/step - loss: 0.1038 - accuracy: 0.8263\n",
            "Epoch 3/10\n",
            "469/469 [==============================] - 3s 7ms/step - loss: 0.0976 - accuracy: 0.8371\n",
            "Epoch 4/10\n",
            "469/469 [==============================] - 3s 7ms/step - loss: 0.0953 - accuracy: 0.8420\n",
            "Epoch 5/10\n",
            "469/469 [==============================] - 3s 7ms/step - loss: 0.0866 - accuracy: 0.8605\n",
            "Epoch 6/10\n",
            "469/469 [==============================] - 3s 7ms/step - loss: 0.0821 - accuracy: 0.8686\n",
            "Epoch 7/10\n",
            "469/469 [==============================] - 3s 7ms/step - loss: 0.0792 - accuracy: 0.8715\n",
            "Epoch 8/10\n",
            "469/469 [==============================] - 3s 7ms/step - loss: 0.0806 - accuracy: 0.8708\n",
            "Epoch 9/10\n",
            "469/469 [==============================] - 3s 7ms/step - loss: 0.0833 - accuracy: 0.8666\n",
            "Epoch 10/10\n",
            "469/469 [==============================] - 3s 7ms/step - loss: 0.0800 - accuracy: 0.8726\n",
            "{t2-t1}\n"
          ]
        }
      ],
      "source": [
        "import time\n",
        "t1=time.perf_counter()\n",
        "model1.fit(X_train_reshaped, y_train, batch_size=128, epochs=10)\n",
        "t2=time.perf_counter()\n",
        "print('{t2-t1}')"
      ]
    },
    {
      "cell_type": "code",
      "execution_count": 127,
      "metadata": {
        "id": "B3RfhiTG4s0Z"
      },
      "outputs": [],
      "source": [
        "y_pred_1 = model1.predict(X_test_reshaped)"
      ]
    },
    {
      "cell_type": "code",
      "execution_count": 128,
      "metadata": {
        "id": "8JzxIVHL5N7r"
      },
      "outputs": [],
      "source": [
        "y_pred_label_1 = np.argmax(y_pred_1, axis=-1)"
      ]
    },
    {
      "cell_type": "code",
      "execution_count": 129,
      "metadata": {
        "id": "cS88zAUF5RV9",
        "colab": {
          "base_uri": "https://localhost:8080/"
        },
        "outputId": "239154c1-07e1-4318-9154-0386ee6b0ab2"
      },
      "outputs": [
        {
          "output_type": "execute_result",
          "data": {
            "text/plain": [
              "88.22"
            ]
          },
          "metadata": {},
          "execution_count": 129
        }
      ],
      "source": [
        "accuracy_score(y_test, y_pred_label_1)*100"
      ]
    },
    {
      "cell_type": "code",
      "execution_count": 129,
      "metadata": {
        "id": "3UB_cF_R5fag"
      },
      "outputs": [],
      "source": []
    },
    {
      "cell_type": "markdown",
      "metadata": {
        "id": "t3IRiWYc5cep"
      },
      "source": [
        "Baitap2"
      ]
    },
    {
      "cell_type": "code",
      "execution_count": 130,
      "metadata": {
        "id": "GXIt8WTW5YZ3"
      },
      "outputs": [],
      "source": [
        "model2=Sequential()"
      ]
    },
    {
      "cell_type": "code",
      "execution_count": 131,
      "metadata": {
        "id": "Z_3FsKNa5uJ6"
      },
      "outputs": [],
      "source": [
        "model2.add(Dense(784,input_shape=(784, ),activation='relu'))"
      ]
    },
    {
      "cell_type": "code",
      "execution_count": 132,
      "metadata": {
        "id": "BjJot5OX59Ov"
      },
      "outputs": [],
      "source": [
        "model2.add(Dense(10,input_shape=(10, ),activation='sigmoid'))"
      ]
    },
    {
      "cell_type": "code",
      "execution_count": 133,
      "metadata": {
        "id": "X-iDuK9y6AHI",
        "colab": {
          "base_uri": "https://localhost:8080/"
        },
        "outputId": "8108a299-c608-4d04-b026-cd668d6636e1"
      },
      "outputs": [
        {
          "output_type": "stream",
          "name": "stdout",
          "text": [
            "Model: \"sequential_3\"\n",
            "_________________________________________________________________\n",
            " Layer (type)                Output Shape              Param #   \n",
            "=================================================================\n",
            " dense_9 (Dense)             (None, 784)               615440    \n",
            "                                                                 \n",
            " dense_10 (Dense)            (None, 10)                7850      \n",
            "                                                                 \n",
            "=================================================================\n",
            "Total params: 623,290\n",
            "Trainable params: 623,290\n",
            "Non-trainable params: 0\n",
            "_________________________________________________________________\n"
          ]
        }
      ],
      "source": [
        "model2.summary()"
      ]
    },
    {
      "cell_type": "code",
      "execution_count": 134,
      "metadata": {
        "id": "O_MMGMcX6DZY"
      },
      "outputs": [],
      "source": [
        "model2.compile(optimizer=optimizer, loss=loss, metrics=['accuracy'])"
      ]
    },
    {
      "cell_type": "code",
      "execution_count": 135,
      "metadata": {
        "id": "TTPPrPnd6axO",
        "colab": {
          "base_uri": "https://localhost:8080/"
        },
        "outputId": "5b9e7428-e724-4810-d9f5-a3daf52fe442"
      },
      "outputs": [
        {
          "output_type": "stream",
          "name": "stdout",
          "text": [
            "Epoch 1/10\n",
            "469/469 [==============================] - 4s 7ms/step - loss: 18.2420 - accuracy: 0.3281\n",
            "Epoch 2/10\n",
            "469/469 [==============================] - 3s 7ms/step - loss: 0.2509 - accuracy: 0.3438\n",
            "Epoch 3/10\n",
            "469/469 [==============================] - 3s 7ms/step - loss: 0.2310 - accuracy: 0.4143\n",
            "Epoch 4/10\n",
            "469/469 [==============================] - 3s 7ms/step - loss: 0.2102 - accuracy: 0.4752\n",
            "Epoch 5/10\n",
            "469/469 [==============================] - 3s 7ms/step - loss: 0.1926 - accuracy: 0.5251\n",
            "Epoch 6/10\n",
            "469/469 [==============================] - 3s 7ms/step - loss: 0.1776 - accuracy: 0.5671\n",
            "Epoch 7/10\n",
            "469/469 [==============================] - 3s 7ms/step - loss: 0.1728 - accuracy: 0.5871\n",
            "Epoch 8/10\n",
            "469/469 [==============================] - 3s 7ms/step - loss: 0.1729 - accuracy: 0.5859\n",
            "Epoch 9/10\n",
            "469/469 [==============================] - 3s 7ms/step - loss: 0.1648 - accuracy: 0.6059\n",
            "Epoch 10/10\n",
            "469/469 [==============================] - 3s 7ms/step - loss: 0.1623 - accuracy: 0.6160\n"
          ]
        },
        {
          "output_type": "execute_result",
          "data": {
            "text/plain": [
              "<keras.callbacks.History at 0x7fc3289914d0>"
            ]
          },
          "metadata": {},
          "execution_count": 135
        }
      ],
      "source": [
        "model2.fit(X_train_reshaped, y_train, batch_size=128, epochs=10)"
      ]
    },
    {
      "cell_type": "code",
      "execution_count": 136,
      "metadata": {
        "id": "vJWz2hdy6g_T"
      },
      "outputs": [],
      "source": [
        "y_pred_2 = model2.predict(X_test_reshaped)"
      ]
    },
    {
      "cell_type": "code",
      "execution_count": 137,
      "metadata": {
        "id": "GQqKpFZm61uW"
      },
      "outputs": [],
      "source": [
        "y_pred_label_2 = np.argmax(y_pred_2, axis=-1)"
      ]
    },
    {
      "cell_type": "code",
      "execution_count": 138,
      "metadata": {
        "id": "hvHLWwvk689v",
        "colab": {
          "base_uri": "https://localhost:8080/"
        },
        "outputId": "f80d3802-979e-4f5b-ae63-66782e6e6ad1"
      },
      "outputs": [
        {
          "output_type": "execute_result",
          "data": {
            "text/plain": [
              "62.53999999999999"
            ]
          },
          "metadata": {},
          "execution_count": 138
        }
      ],
      "source": [
        "accuracy_score(y_test, y_pred_label_2)*100"
      ]
    },
    {
      "cell_type": "code",
      "execution_count": 138,
      "metadata": {
        "id": "9vtYU4oK7Ch3"
      },
      "outputs": [],
      "source": []
    },
    {
      "cell_type": "markdown",
      "metadata": {
        "id": "qjHpSAWd7LPd"
      },
      "source": [
        "Baitap3"
      ]
    },
    {
      "cell_type": "code",
      "execution_count": 139,
      "metadata": {
        "id": "9q3aus0W7Mw0"
      },
      "outputs": [],
      "source": [
        "X_train_new = X_train/255.0\n",
        "X_test_new = X_test/255.0"
      ]
    },
    {
      "cell_type": "code",
      "execution_count": 140,
      "metadata": {
        "id": "enELP6k47PdH"
      },
      "outputs": [],
      "source": [
        "model3=Sequential()"
      ]
    },
    {
      "cell_type": "code",
      "execution_count": 141,
      "metadata": {
        "id": "cqPko_5_7UU-"
      },
      "outputs": [],
      "source": [
        "model3.add(Dense(784,input_shape=(784, ),activation='relu'))"
      ]
    },
    {
      "cell_type": "code",
      "execution_count": 142,
      "metadata": {
        "id": "gOZgyHXm7Z4R"
      },
      "outputs": [],
      "source": [
        "model3.add(Dense(10,input_shape=(10, ),activation='sigmoid'))"
      ]
    },
    {
      "cell_type": "code",
      "execution_count": 143,
      "metadata": {
        "id": "HQ16cPn17hke",
        "colab": {
          "base_uri": "https://localhost:8080/"
        },
        "outputId": "3cfd147b-c1ef-4dd7-9c0e-e59e70993f77"
      },
      "outputs": [
        {
          "output_type": "stream",
          "name": "stdout",
          "text": [
            "Model: \"sequential_4\"\n",
            "_________________________________________________________________\n",
            " Layer (type)                Output Shape              Param #   \n",
            "=================================================================\n",
            " dense_11 (Dense)            (None, 784)               615440    \n",
            "                                                                 \n",
            " dense_12 (Dense)            (None, 10)                7850      \n",
            "                                                                 \n",
            "=================================================================\n",
            "Total params: 623,290\n",
            "Trainable params: 623,290\n",
            "Non-trainable params: 0\n",
            "_________________________________________________________________\n"
          ]
        }
      ],
      "source": [
        "model3.summary()"
      ]
    },
    {
      "cell_type": "code",
      "execution_count": 144,
      "metadata": {
        "id": "8p74Up_27lZt"
      },
      "outputs": [],
      "source": [
        "model3.compile(optimizer=optimizer, loss=loss, metrics=['accuracy'])"
      ]
    },
    {
      "cell_type": "code",
      "execution_count": 145,
      "metadata": {
        "id": "aX4MIO457uvh",
        "colab": {
          "base_uri": "https://localhost:8080/"
        },
        "outputId": "719e0e0c-82eb-4b02-b234-3df1bf178bae"
      },
      "outputs": [
        {
          "output_type": "stream",
          "name": "stdout",
          "text": [
            "Epoch 1/10\n",
            "469/469 [==============================] - 4s 8ms/step - loss: 17.7753 - accuracy: 0.3562\n",
            "Epoch 2/10\n",
            "469/469 [==============================] - 3s 7ms/step - loss: 0.2291 - accuracy: 0.4155\n",
            "Epoch 3/10\n",
            "469/469 [==============================] - 3s 7ms/step - loss: 0.2170 - accuracy: 0.4415\n",
            "Epoch 4/10\n",
            "469/469 [==============================] - 3s 7ms/step - loss: 0.2066 - accuracy: 0.4619\n",
            "Epoch 5/10\n",
            "469/469 [==============================] - 3s 7ms/step - loss: 0.1975 - accuracy: 0.4984\n",
            "Epoch 6/10\n",
            "469/469 [==============================] - 3s 7ms/step - loss: 0.1801 - accuracy: 0.5422\n",
            "Epoch 7/10\n",
            "469/469 [==============================] - 3s 7ms/step - loss: 0.1668 - accuracy: 0.5753\n",
            "Epoch 8/10\n",
            "469/469 [==============================] - 3s 7ms/step - loss: 0.1612 - accuracy: 0.5926\n",
            "Epoch 9/10\n",
            "469/469 [==============================] - 3s 7ms/step - loss: 0.1569 - accuracy: 0.6047\n",
            "Epoch 10/10\n",
            "469/469 [==============================] - 3s 7ms/step - loss: 0.1489 - accuracy: 0.6174\n"
          ]
        },
        {
          "output_type": "execute_result",
          "data": {
            "text/plain": [
              "<keras.callbacks.History at 0x7fc3288159d0>"
            ]
          },
          "metadata": {},
          "execution_count": 145
        }
      ],
      "source": [
        "model3.fit(X_train_reshaped, y_train, batch_size=128, epochs=10)"
      ]
    },
    {
      "cell_type": "code",
      "execution_count": 146,
      "metadata": {
        "id": "-hRRjkF57yk2"
      },
      "outputs": [],
      "source": [
        "y_pred_3 = model3.predict(X_test_reshaped)"
      ]
    },
    {
      "cell_type": "code",
      "execution_count": 147,
      "metadata": {
        "id": "QNVNZ4el8RfA"
      },
      "outputs": [],
      "source": [
        "y_pred_label_3 = np.argmax(y_pred_3, axis=-1)"
      ]
    },
    {
      "cell_type": "code",
      "execution_count": 148,
      "metadata": {
        "id": "OEgMDSw08bQd",
        "colab": {
          "base_uri": "https://localhost:8080/"
        },
        "outputId": "111c141d-2416-4da1-d07c-9f60b9f91fc0"
      },
      "outputs": [
        {
          "output_type": "execute_result",
          "data": {
            "text/plain": [
              "62.44"
            ]
          },
          "metadata": {},
          "execution_count": 148
        }
      ],
      "source": [
        "accuracy_score(y_test, y_pred_label_3)*100"
      ]
    },
    {
      "cell_type": "code",
      "execution_count": 148,
      "metadata": {
        "id": "qrPc1PKt8ehi"
      },
      "outputs": [],
      "source": []
    },
    {
      "cell_type": "markdown",
      "metadata": {
        "id": "fVCR8OqL8zet"
      },
      "source": [
        "Baitap4"
      ]
    },
    {
      "cell_type": "code",
      "execution_count": 149,
      "metadata": {
        "id": "zvpAn6eB80qg"
      },
      "outputs": [],
      "source": [
        "from sklearn.metrics import confusion_matrix\n",
        "cm = confusion_matrix(y_test, y_pred_label)"
      ]
    },
    {
      "cell_type": "code",
      "execution_count": 150,
      "metadata": {
        "id": "NaBJ53g49gsr"
      },
      "outputs": [],
      "source": [
        "import seaborn as sn\n",
        "import pandas as pd"
      ]
    },
    {
      "cell_type": "code",
      "execution_count": 151,
      "metadata": {
        "id": "jHbdl8hH9RzT",
        "colab": {
          "base_uri": "https://localhost:8080/",
          "height": 446
        },
        "outputId": "9fd64425-12e8-464e-d8dd-249bcc57295f"
      },
      "outputs": [
        {
          "output_type": "execute_result",
          "data": {
            "text/plain": [
              "<matplotlib.axes._subplots.AxesSubplot at 0x7fc3286364d0>"
            ]
          },
          "metadata": {},
          "execution_count": 151
        },
        {
          "output_type": "display_data",
          "data": {
            "text/plain": [
              "<Figure size 720x504 with 2 Axes>"
            ],
            "image/png": "[encoded data removed]"
          },
          "metadata": {
            "needs_background": "light"
          }
        }
      ],
      "source": [
        "df_cm = pd.DataFrame(cm, index=[i for i in range(0,10)], columns=[i \n",
        "for i in range(0,10)])\n",
        "plt.figure(figsize=(10,7))\n",
        "sn.heatmap(df_cm, annot=True, fmt='.5g')\n"
      ]
    },
    {
      "cell_type": "code",
      "execution_count": 151,
      "metadata": {
        "id": "zUF2hxwE9SCs"
      },
      "outputs": [],
      "source": []
    },
    {
      "cell_type": "markdown",
      "source": [
        "Baitap5"
      ],
      "metadata": {
        "id": "qdWHn13iEEpx"
      }
    },
    {
      "cell_type": "code",
      "execution_count": 152,
      "metadata": {
        "id": "CcTJ_Ohm9SFd",
        "colab": {
          "base_uri": "https://localhost:8080/"
        },
        "outputId": "e51177a2-e691-4d40-db3b-ac6a5d294ceb"
      },
      "outputs": [
        {
          "output_type": "stream",
          "name": "stdout",
          "text": [
            "Downloading data from https://www.cs.toronto.edu/~kriz/cifar-10-python.tar.gz\n",
            "170500096/170498071 [==============================] - 2s 0us/step\n",
            "170508288/170498071 [==============================] - 2s 0us/step\n"
          ]
        }
      ],
      "source": [
        "from keras.datasets.cifar10 import load_data\n",
        "(X_train, y_train), (X_test, y_test) = load_data()\n"
      ]
    },
    {
      "cell_type": "code",
      "execution_count": 153,
      "metadata": {
        "id": "zGN3naFq29hE",
        "colab": {
          "base_uri": "https://localhost:8080/"
        },
        "outputId": "99c4a828-ec89-4307-f325-158ddbb2bedd"
      },
      "outputs": [
        {
          "output_type": "execute_result",
          "data": {
            "text/plain": [
              "(50000, 32, 32, 3)"
            ]
          },
          "metadata": {},
          "execution_count": 153
        }
      ],
      "source": [
        "X_train.shape"
      ]
    },
    {
      "cell_type": "code",
      "execution_count": 154,
      "metadata": {
        "id": "5RIuhdVG3Ggo",
        "colab": {
          "base_uri": "https://localhost:8080/"
        },
        "outputId": "a498d785-87d5-433b-bc9f-e9b41abb1b2a"
      },
      "outputs": [
        {
          "output_type": "execute_result",
          "data": {
            "text/plain": [
              "(10000, 32, 32, 3)"
            ]
          },
          "metadata": {},
          "execution_count": 154
        }
      ],
      "source": [
        "X_test.shape"
      ]
    },
    {
      "cell_type": "code",
      "execution_count": 155,
      "metadata": {
        "id": "QXK5zm3v3wfg",
        "colab": {
          "base_uri": "https://localhost:8080/"
        },
        "outputId": "4908fe1b-0035-4d1d-c0b5-cee43ecd1bb3"
      },
      "outputs": [
        {
          "output_type": "execute_result",
          "data": {
            "text/plain": [
              "numpy.ndarray"
            ]
          },
          "metadata": {},
          "execution_count": 155
        }
      ],
      "source": [
        "type(y_train)\n"
      ]
    },
    {
      "cell_type": "code",
      "execution_count": 156,
      "metadata": {
        "id": "dCihe8YO4QqE",
        "colab": {
          "base_uri": "https://localhost:8080/"
        },
        "outputId": "a4e758a4-b8ba-4d00-9965-abd2f63c6586"
      },
      "outputs": [
        {
          "output_type": "execute_result",
          "data": {
            "text/plain": [
              "array([[6],\n",
              "       [9],\n",
              "       [9],\n",
              "       ...,\n",
              "       [9],\n",
              "       [1],\n",
              "       [1]], dtype=uint8)"
            ]
          },
          "metadata": {},
          "execution_count": 156
        }
      ],
      "source": [
        "y_train"
      ]
    },
    {
      "cell_type": "code",
      "execution_count": 157,
      "metadata": {
        "id": "t8s6HWBD4Bzt",
        "colab": {
          "base_uri": "https://localhost:8080/"
        },
        "outputId": "2d99f8b4-f2ed-4188-9633-cf7e164d6316"
      },
      "outputs": [
        {
          "output_type": "execute_result",
          "data": {
            "text/plain": [
              "(50000, 1)"
            ]
          },
          "metadata": {},
          "execution_count": 157
        }
      ],
      "source": [
        "y_train.shape"
      ]
    },
    {
      "cell_type": "code",
      "execution_count": 158,
      "metadata": {
        "id": "hRFFvLEs3KXI",
        "colab": {
          "base_uri": "https://localhost:8080/"
        },
        "outputId": "e4a1f0b0-24e9-4a10-a517-1c9dec13f2d1"
      },
      "outputs": [
        {
          "output_type": "execute_result",
          "data": {
            "text/plain": [
              "{0, 1, 2, 3, 4, 5, 6, 7, 8, 9}"
            ]
          },
          "metadata": {},
          "execution_count": 158
        }
      ],
      "source": [
        "label1=set((y_train).flatten())\n",
        "label1"
      ]
    },
    {
      "cell_type": "code",
      "execution_count": 159,
      "metadata": {
        "id": "7Q24us_97za7"
      },
      "outputs": [],
      "source": [
        "list_labels1=dict()\n",
        "\n",
        "for l in label1:\n",
        "  list_labels1[l] = list(y_train).count(l)"
      ]
    },
    {
      "cell_type": "code",
      "execution_count": 160,
      "metadata": {
        "id": "g-eUslKm79Ht",
        "colab": {
          "base_uri": "https://localhost:8080/"
        },
        "outputId": "137ed68e-d411-4557-eed9-f232f6d08779"
      },
      "outputs": [
        {
          "output_type": "execute_result",
          "data": {
            "text/plain": [
              "{0: 5000,\n",
              " 1: 5000,\n",
              " 2: 5000,\n",
              " 3: 5000,\n",
              " 4: 5000,\n",
              " 5: 5000,\n",
              " 6: 5000,\n",
              " 7: 5000,\n",
              " 8: 5000,\n",
              " 9: 5000}"
            ]
          },
          "metadata": {},
          "execution_count": 160
        }
      ],
      "source": [
        "list_labels1 "
      ]
    },
    {
      "cell_type": "code",
      "execution_count": 161,
      "metadata": {
        "id": "xaHly7u23mUh",
        "colab": {
          "base_uri": "https://localhost:8080/",
          "height": 264
        },
        "outputId": "885d7a59-b114-4bea-cb49-10d9ee69c724"
      },
      "outputs": [
        {
          "output_type": "display_data",
          "data": {
            "text/plain": [
              "<Figure size 432x288 with 1 Axes>"
            ],
            "image/png": "[encoded data removed]"
          },
          "metadata": {}
        }
      ],
      "source": [
        "plt.pie(x=list_labels1.values(),labels=list_labels1.keys(),autopct='%.0f%%')\n",
        "plt.title('Ti le ')\n",
        "plt.show()"
      ]
    },
    {
      "cell_type": "code",
      "execution_count": 162,
      "metadata": {
        "id": "yyCCbxwk7Mtm"
      },
      "outputs": [],
      "source": [
        "X_train_reshaped = X_train.reshape(-1, 3072)\n",
        "X_test_reshaped = X_test.reshape(-1, 3072)"
      ]
    },
    {
      "cell_type": "code",
      "execution_count": 163,
      "metadata": {
        "id": "VLgbNZzS8qQt",
        "colab": {
          "base_uri": "https://localhost:8080/"
        },
        "outputId": "d652984e-db80-40ec-eb5d-3ae78fc2a776"
      },
      "outputs": [
        {
          "output_type": "execute_result",
          "data": {
            "text/plain": [
              "(3072,)"
            ]
          },
          "metadata": {},
          "execution_count": 163
        }
      ],
      "source": [
        "X_train_reshaped[0].shape"
      ]
    },
    {
      "cell_type": "code",
      "execution_count": 164,
      "metadata": {
        "id": "pKWHzJPj8qca",
        "colab": {
          "base_uri": "https://localhost:8080/"
        },
        "outputId": "e4787130-f886-431d-d998-d2609e0661f9"
      },
      "outputs": [
        {
          "output_type": "execute_result",
          "data": {
            "text/plain": [
              "(3072,)"
            ]
          },
          "metadata": {},
          "execution_count": 164
        }
      ],
      "source": [
        "X_test_reshaped[0].shape"
      ]
    },
    {
      "cell_type": "code",
      "execution_count": 165,
      "metadata": {
        "id": "o-O42knHAL-s"
      },
      "outputs": [],
      "source": [
        "y_train = to_categorical(y_train, num_classes=10)"
      ]
    },
    {
      "cell_type": "code",
      "execution_count": 166,
      "metadata": {
        "id": "IwjAs6TV85bU"
      },
      "outputs": [],
      "source": [
        "model4 = Sequential()"
      ]
    },
    {
      "cell_type": "code",
      "execution_count": 167,
      "metadata": {
        "id": "A5UPxL6P9V1-"
      },
      "outputs": [],
      "source": [
        "model4.add(Dense(3072,input_shape=(3072, ),activation='sigmoid'))"
      ]
    },
    {
      "cell_type": "code",
      "execution_count": 168,
      "metadata": {
        "id": "uKITZ-7K9Zby"
      },
      "outputs": [],
      "source": [
        "model4.add(Dense(10,input_shape=(10, ),activation='sigmoid'))"
      ]
    },
    {
      "cell_type": "code",
      "execution_count": 169,
      "metadata": {
        "id": "hA5UAww89jbv",
        "colab": {
          "base_uri": "https://localhost:8080/"
        },
        "outputId": "0ca32600-e99f-4aba-9cef-390597d0931c"
      },
      "outputs": [
        {
          "output_type": "stream",
          "name": "stdout",
          "text": [
            "Model: \"sequential_5\"\n",
            "_________________________________________________________________\n",
            " Layer (type)                Output Shape              Param #   \n",
            "=================================================================\n",
            " dense_13 (Dense)            (None, 3072)              9440256   \n",
            "                                                                 \n",
            " dense_14 (Dense)            (None, 10)                30730     \n",
            "                                                                 \n",
            "=================================================================\n",
            "Total params: 9,470,986\n",
            "Trainable params: 9,470,986\n",
            "Non-trainable params: 0\n",
            "_________________________________________________________________\n"
          ]
        }
      ],
      "source": [
        "model4.summary()"
      ]
    },
    {
      "cell_type": "code",
      "execution_count": 170,
      "metadata": {
        "id": "IGJsZ-Q-9ltJ"
      },
      "outputs": [],
      "source": [
        "model4.compile(optimizer=optimizer, loss=loss, metrics=['accuracy'])"
      ]
    },
    {
      "cell_type": "code",
      "execution_count": 171,
      "metadata": {
        "id": "91czQgNs-PGI",
        "colab": {
          "base_uri": "https://localhost:8080/"
        },
        "outputId": "343e491d-2e37-4c10-c78b-a47d2cb44ff8"
      },
      "outputs": [
        {
          "output_type": "stream",
          "name": "stdout",
          "text": [
            "Epoch 1/10\n",
            "391/391 [==============================] - 30s 76ms/step - loss: 1.2396 - accuracy: 0.1054\n",
            "Epoch 2/10\n",
            "391/391 [==============================] - 30s 77ms/step - loss: 0.4220 - accuracy: 0.1019\n",
            "Epoch 3/10\n",
            "391/391 [==============================] - 30s 76ms/step - loss: 0.3929 - accuracy: 0.1040\n",
            "Epoch 4/10\n",
            "391/391 [==============================] - 30s 76ms/step - loss: 0.4044 - accuracy: 0.1001\n",
            "Epoch 5/10\n",
            "391/391 [==============================] - 30s 76ms/step - loss: 0.3980 - accuracy: 0.1012\n",
            "Epoch 6/10\n",
            "391/391 [==============================] - 30s 76ms/step - loss: 0.3953 - accuracy: 0.1000\n",
            "Epoch 7/10\n",
            "391/391 [==============================] - 32s 83ms/step - loss: 0.3907 - accuracy: 0.1016\n",
            "Epoch 8/10\n",
            "391/391 [==============================] - 30s 77ms/step - loss: 0.4034 - accuracy: 0.1014\n",
            "Epoch 9/10\n",
            "391/391 [==============================] - 30s 76ms/step - loss: 0.3981 - accuracy: 0.1039\n",
            "Epoch 10/10\n",
            "391/391 [==============================] - 30s 76ms/step - loss: 0.3947 - accuracy: 0.1007\n"
          ]
        },
        {
          "output_type": "execute_result",
          "data": {
            "text/plain": [
              "<keras.callbacks.History at 0x7fc32825c110>"
            ]
          },
          "metadata": {},
          "execution_count": 171
        }
      ],
      "source": [
        "model4.fit(X_train_reshaped, y_train, batch_size=128, epochs=10)"
      ]
    },
    {
      "cell_type": "code",
      "execution_count": 172,
      "metadata": {
        "id": "eG67P2Nc-X4D"
      },
      "outputs": [],
      "source": [
        "y_pred_4=model4.predict(X_test_reshaped)"
      ]
    },
    {
      "cell_type": "code",
      "execution_count": 173,
      "metadata": {
        "id": "0NyFbZPzcJK8"
      },
      "outputs": [],
      "source": [
        "y_pred_label_4=np.argmax(y_pred_4,axis=-1)"
      ]
    },
    {
      "cell_type": "code",
      "execution_count": 174,
      "metadata": {
        "id": "AzShp2oNcYbs",
        "colab": {
          "base_uri": "https://localhost:8080/"
        },
        "outputId": "aceb9403-92ff-4bb5-b462-8c2ee4e45728"
      },
      "outputs": [
        {
          "output_type": "execute_result",
          "data": {
            "text/plain": [
              "10.02"
            ]
          },
          "metadata": {},
          "execution_count": 174
        }
      ],
      "source": [
        "accuracy_score(y_test,y_pred_label_4)*100"
      ]
    }
  ],
  "metadata": {
    "colab": {
      "collapsed_sections": [],
      "provenance": []
    },
    "kernelspec": {
      "display_name": "Python 3",
      "name": "python3"
    },
    "language_info": {
      "name": "python"
    }
  },
  "nbformat": 4,
  "nbformat_minor": 0
}