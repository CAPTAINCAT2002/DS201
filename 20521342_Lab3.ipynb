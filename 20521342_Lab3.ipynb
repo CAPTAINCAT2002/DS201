{
  "nbformat": 4,
  "nbformat_minor": 0,
  "metadata": {
    "colab": {
      "provenance": []
    },
    "kernelspec": {
      "name": "python3",
      "display_name": "Python 3"
    },
    "language_info": {
      "name": "python"
    },
    "accelerator": "GPU"
  },
  "cells": [
    {
      "cell_type": "code",
      "source": [
        "from keras.layers import*"
      ],
      "metadata": {
        "id": "-5_6kT8913cv"
      },
      "execution_count": 173,
      "outputs": []
    },
    {
      "cell_type": "code",
      "execution_count": 174,
      "metadata": {
        "id": "uF_vKtl4zWG-"
      },
      "outputs": [],
      "source": [
        "from keras.datasets.mnist import load_data\n",
        "(X_train, y_train), (X_test, y_test) = load_data()"
      ]
    },
    {
      "cell_type": "code",
      "source": [
        "from google.colab import drive\n",
        "drive.mount('/content/drive')"
      ],
      "metadata": {
        "colab": {
          "base_uri": "https://localhost:8080/"
        },
        "id": "mSsuHP2E2J_P",
        "outputId": "1f8e588a-2de6-4d96-92fc-45695445eaef"
      },
      "execution_count": 175,
      "outputs": [
        {
          "output_type": "stream",
          "name": "stdout",
          "text": [
            "Drive already mounted at /content/drive; to attempt to forcibly remount, call drive.mount(\"/content/drive\", force_remount=True).\n"
          ]
        }
      ]
    },
    {
      "cell_type": "code",
      "source": [
        "X_train.shape"
      ],
      "metadata": {
        "colab": {
          "base_uri": "https://localhost:8080/"
        },
        "id": "cMN_APb82db2",
        "outputId": "bcdc2813-42d8-4cc5-8ca6-1aea6266835f"
      },
      "execution_count": 176,
      "outputs": [
        {
          "output_type": "execute_result",
          "data": {
            "text/plain": [
              "(60000, 28, 28)"
            ]
          },
          "metadata": {},
          "execution_count": 176
        }
      ]
    },
    {
      "cell_type": "code",
      "source": [
        "X_test.shape"
      ],
      "metadata": {
        "colab": {
          "base_uri": "https://localhost:8080/"
        },
        "id": "DjsSSlhs2deO",
        "outputId": "985fb7ce-70ba-4142-84d4-5192a0786329"
      },
      "execution_count": 177,
      "outputs": [
        {
          "output_type": "execute_result",
          "data": {
            "text/plain": [
              "(10000, 28, 28)"
            ]
          },
          "metadata": {},
          "execution_count": 177
        }
      ]
    },
    {
      "cell_type": "code",
      "source": [
        "from sklearn.model_selection import train_test_split\n",
        "X_train, X_dev, y_train, y_dev = train_test_split(X_train, y_train, test_size=0.1)"
      ],
      "metadata": {
        "id": "NwBiSH492dgo"
      },
      "execution_count": 178,
      "outputs": []
    },
    {
      "cell_type": "code",
      "source": [
        "X_train[0].shape"
      ],
      "metadata": {
        "colab": {
          "base_uri": "https://localhost:8080/"
        },
        "id": "XLYo7xYQ3ZLc",
        "outputId": "28dfdcf0-e792-419d-f52d-6c0dcd72ba75"
      },
      "execution_count": 179,
      "outputs": [
        {
          "output_type": "execute_result",
          "data": {
            "text/plain": [
              "(28, 28)"
            ]
          },
          "metadata": {},
          "execution_count": 179
        }
      ]
    },
    {
      "cell_type": "code",
      "source": [
        "X_dev[0].shape"
      ],
      "metadata": {
        "colab": {
          "base_uri": "https://localhost:8080/"
        },
        "id": "dRfTJyfw3pES",
        "outputId": "e0b92af6-e7cc-477c-e6f5-c9daeaaa436e"
      },
      "execution_count": 180,
      "outputs": [
        {
          "output_type": "execute_result",
          "data": {
            "text/plain": [
              "(28, 28)"
            ]
          },
          "metadata": {},
          "execution_count": 180
        }
      ]
    },
    {
      "cell_type": "code",
      "source": [
        "X_test[0].shape"
      ],
      "metadata": {
        "colab": {
          "base_uri": "https://localhost:8080/"
        },
        "id": "mPW0MzGA3vwn",
        "outputId": "0a333c6d-2a31-45e3-f939-659ea070a437"
      },
      "execution_count": 181,
      "outputs": [
        {
          "output_type": "execute_result",
          "data": {
            "text/plain": [
              "(28, 28)"
            ]
          },
          "metadata": {},
          "execution_count": 181
        }
      ]
    },
    {
      "cell_type": "code",
      "source": [
        "import numpy as np\n",
        "X_train_expanded=np.expand_dims(X_train,axis=3)"
      ],
      "metadata": {
        "id": "ae5aShql3ywA"
      },
      "execution_count": 182,
      "outputs": []
    },
    {
      "cell_type": "code",
      "source": [
        "X_train_expanded.shape"
      ],
      "metadata": {
        "colab": {
          "base_uri": "https://localhost:8080/"
        },
        "id": "tIn52TOI4Eaj",
        "outputId": "3ab81828-9b2b-46ad-9d80-895e2e1ffcd3"
      },
      "execution_count": 183,
      "outputs": [
        {
          "output_type": "execute_result",
          "data": {
            "text/plain": [
              "(54000, 28, 28, 1)"
            ]
          },
          "metadata": {},
          "execution_count": 183
        }
      ]
    },
    {
      "cell_type": "code",
      "source": [
        "X_train_expanded[0].shape"
      ],
      "metadata": {
        "colab": {
          "base_uri": "https://localhost:8080/"
        },
        "id": "mvW82fga4JDQ",
        "outputId": "91b8183f-747f-4e8a-c0bb-ae8a8dd32db7"
      },
      "execution_count": 184,
      "outputs": [
        {
          "output_type": "execute_result",
          "data": {
            "text/plain": [
              "(28, 28, 1)"
            ]
          },
          "metadata": {},
          "execution_count": 184
        }
      ]
    },
    {
      "cell_type": "code",
      "source": [
        "X_dev_expanded = np.expand_dims(X_dev,axis=3)"
      ],
      "metadata": {
        "id": "e5z-F23m4S9c"
      },
      "execution_count": 185,
      "outputs": []
    },
    {
      "cell_type": "code",
      "source": [
        "X_dev_expanded.shape"
      ],
      "metadata": {
        "colab": {
          "base_uri": "https://localhost:8080/"
        },
        "id": "2OgYody64au2",
        "outputId": "0b035c5c-9e84-4319-a7ee-257403ba35cf"
      },
      "execution_count": 186,
      "outputs": [
        {
          "output_type": "execute_result",
          "data": {
            "text/plain": [
              "(6000, 28, 28, 1)"
            ]
          },
          "metadata": {},
          "execution_count": 186
        }
      ]
    },
    {
      "cell_type": "code",
      "source": [
        "X_dev_expanded[0].shape"
      ],
      "metadata": {
        "colab": {
          "base_uri": "https://localhost:8080/"
        },
        "id": "vKraaH7N4eT-",
        "outputId": "4da699e7-8d29-48ab-81d0-65d7bc18b7d0"
      },
      "execution_count": 187,
      "outputs": [
        {
          "output_type": "execute_result",
          "data": {
            "text/plain": [
              "(28, 28, 1)"
            ]
          },
          "metadata": {},
          "execution_count": 187
        }
      ]
    },
    {
      "cell_type": "code",
      "source": [
        "X_test_expanded = np.expand_dims(X_test,axis=3)"
      ],
      "metadata": {
        "id": "5C80g5oX4gpN"
      },
      "execution_count": 188,
      "outputs": []
    },
    {
      "cell_type": "code",
      "source": [
        "X_test_expanded.shape"
      ],
      "metadata": {
        "colab": {
          "base_uri": "https://localhost:8080/"
        },
        "id": "AgCpt6ui4sdU",
        "outputId": "d11c7fff-1e21-45e6-9cde-04709ef1e1b0"
      },
      "execution_count": 189,
      "outputs": [
        {
          "output_type": "execute_result",
          "data": {
            "text/plain": [
              "(10000, 28, 28, 1)"
            ]
          },
          "metadata": {},
          "execution_count": 189
        }
      ]
    },
    {
      "cell_type": "code",
      "source": [
        "X_dev_expanded[0].shape"
      ],
      "metadata": {
        "colab": {
          "base_uri": "https://localhost:8080/"
        },
        "id": "jJ6NVFrh4vHY",
        "outputId": "1623654c-4193-448f-a004-df5f7bb1032e"
      },
      "execution_count": 190,
      "outputs": [
        {
          "output_type": "execute_result",
          "data": {
            "text/plain": [
              "(28, 28, 1)"
            ]
          },
          "metadata": {},
          "execution_count": 190
        }
      ]
    },
    {
      "cell_type": "markdown",
      "source": [
        "Chuan bi y_train va y_dev"
      ],
      "metadata": {
        "id": "Jk5j17Cm45F4"
      }
    },
    {
      "cell_type": "code",
      "source": [
        "y_train"
      ],
      "metadata": {
        "colab": {
          "base_uri": "https://localhost:8080/"
        },
        "id": "2PWCCFJs5EQD",
        "outputId": "eb504e5d-5c39-48d8-ab47-a2bfb70c515b"
      },
      "execution_count": 191,
      "outputs": [
        {
          "output_type": "execute_result",
          "data": {
            "text/plain": [
              "array([2, 7, 2, ..., 0, 7, 6], dtype=uint8)"
            ]
          },
          "metadata": {},
          "execution_count": 191
        }
      ]
    },
    {
      "cell_type": "code",
      "source": [
        "y_train.shape"
      ],
      "metadata": {
        "colab": {
          "base_uri": "https://localhost:8080/"
        },
        "id": "0osmvNGe50cz",
        "outputId": "23280482-c7cc-4383-f80d-b7539eb608cd"
      },
      "execution_count": 192,
      "outputs": [
        {
          "output_type": "execute_result",
          "data": {
            "text/plain": [
              "(54000,)"
            ]
          },
          "metadata": {},
          "execution_count": 192
        }
      ]
    },
    {
      "cell_type": "code",
      "source": [
        "from keras.utils import to_categorical\n",
        "y_train_new = to_categorical(y_train, num_classes=10)"
      ],
      "metadata": {
        "id": "ej9KSRie44Cu"
      },
      "execution_count": 193,
      "outputs": []
    },
    {
      "cell_type": "code",
      "source": [
        "y_train_new"
      ],
      "metadata": {
        "colab": {
          "base_uri": "https://localhost:8080/"
        },
        "id": "Lm1iIcvg5gb3",
        "outputId": "191c5dfc-61bd-4b2b-cca8-615a34632b2d"
      },
      "execution_count": 194,
      "outputs": [
        {
          "output_type": "execute_result",
          "data": {
            "text/plain": [
              "array([[0., 0., 1., ..., 0., 0., 0.],\n",
              "       [0., 0., 0., ..., 1., 0., 0.],\n",
              "       [0., 0., 1., ..., 0., 0., 0.],\n",
              "       ...,\n",
              "       [1., 0., 0., ..., 0., 0., 0.],\n",
              "       [0., 0., 0., ..., 1., 0., 0.],\n",
              "       [0., 0., 0., ..., 0., 0., 0.]], dtype=float32)"
            ]
          },
          "metadata": {},
          "execution_count": 194
        }
      ]
    },
    {
      "cell_type": "code",
      "source": [
        "y_train_new[0]"
      ],
      "metadata": {
        "colab": {
          "base_uri": "https://localhost:8080/"
        },
        "id": "UvSzy5z45hsY",
        "outputId": "83acea38-4daa-4713-f548-bdb0c2d8e99d"
      },
      "execution_count": 195,
      "outputs": [
        {
          "output_type": "execute_result",
          "data": {
            "text/plain": [
              "array([0., 0., 1., 0., 0., 0., 0., 0., 0., 0.], dtype=float32)"
            ]
          },
          "metadata": {},
          "execution_count": 195
        }
      ]
    },
    {
      "cell_type": "code",
      "source": [
        "y_train_new[1]"
      ],
      "metadata": {
        "colab": {
          "base_uri": "https://localhost:8080/"
        },
        "id": "iqUXeVJl5kVe",
        "outputId": "6b03f43e-3a74-473d-a9c0-a0d8f4c646de"
      },
      "execution_count": 196,
      "outputs": [
        {
          "output_type": "execute_result",
          "data": {
            "text/plain": [
              "array([0., 0., 0., 0., 0., 0., 0., 1., 0., 0.], dtype=float32)"
            ]
          },
          "metadata": {},
          "execution_count": 196
        }
      ]
    },
    {
      "cell_type": "code",
      "source": [
        "y_train_new.shape"
      ],
      "metadata": {
        "colab": {
          "base_uri": "https://localhost:8080/"
        },
        "id": "ux-TpgZr5qcF",
        "outputId": "fc50be61-a7b5-4fb1-ca08-f462189cf5ed"
      },
      "execution_count": 197,
      "outputs": [
        {
          "output_type": "execute_result",
          "data": {
            "text/plain": [
              "(54000, 10)"
            ]
          },
          "metadata": {},
          "execution_count": 197
        }
      ]
    },
    {
      "cell_type": "code",
      "source": [
        "y_dev_new = to_categorical(y_dev, num_classes=10)"
      ],
      "metadata": {
        "id": "EcQUQmgj54VA"
      },
      "execution_count": 198,
      "outputs": []
    },
    {
      "cell_type": "code",
      "source": [
        "y_dev_new"
      ],
      "metadata": {
        "colab": {
          "base_uri": "https://localhost:8080/"
        },
        "id": "pyulLymt58qi",
        "outputId": "6187d04a-6e2e-433a-b69a-f05f04bb4b72"
      },
      "execution_count": 199,
      "outputs": [
        {
          "output_type": "execute_result",
          "data": {
            "text/plain": [
              "array([[0., 0., 0., ..., 0., 0., 0.],\n",
              "       [0., 1., 0., ..., 0., 0., 0.],\n",
              "       [0., 0., 0., ..., 0., 0., 1.],\n",
              "       ...,\n",
              "       [0., 0., 0., ..., 0., 1., 0.],\n",
              "       [0., 0., 0., ..., 0., 0., 1.],\n",
              "       [0., 0., 0., ..., 0., 0., 0.]], dtype=float32)"
            ]
          },
          "metadata": {},
          "execution_count": 199
        }
      ]
    },
    {
      "cell_type": "code",
      "source": [
        "y_dev_new[0]"
      ],
      "metadata": {
        "colab": {
          "base_uri": "https://localhost:8080/"
        },
        "id": "4dJCnJgu6ACC",
        "outputId": "a76ff8ff-372b-4fb2-daa8-888f572664f9"
      },
      "execution_count": 200,
      "outputs": [
        {
          "output_type": "execute_result",
          "data": {
            "text/plain": [
              "array([0., 0., 0., 0., 0., 1., 0., 0., 0., 0.], dtype=float32)"
            ]
          },
          "metadata": {},
          "execution_count": 200
        }
      ]
    },
    {
      "cell_type": "code",
      "source": [
        "y_dev_new[1]"
      ],
      "metadata": {
        "colab": {
          "base_uri": "https://localhost:8080/"
        },
        "id": "p9hF3_U36D47",
        "outputId": "79a19a2d-66f4-459f-e0a4-02fb97a60136"
      },
      "execution_count": 201,
      "outputs": [
        {
          "output_type": "execute_result",
          "data": {
            "text/plain": [
              "array([0., 1., 0., 0., 0., 0., 0., 0., 0., 0.], dtype=float32)"
            ]
          },
          "metadata": {},
          "execution_count": 201
        }
      ]
    },
    {
      "cell_type": "code",
      "source": [
        "y_dev_new.shape"
      ],
      "metadata": {
        "colab": {
          "base_uri": "https://localhost:8080/"
        },
        "id": "VGV6WmY96Fct",
        "outputId": "feabbfbb-143e-4f53-fd8d-b761f55c8364"
      },
      "execution_count": 202,
      "outputs": [
        {
          "output_type": "execute_result",
          "data": {
            "text/plain": [
              "(6000, 10)"
            ]
          },
          "metadata": {},
          "execution_count": 202
        }
      ]
    },
    {
      "cell_type": "code",
      "source": [],
      "metadata": {
        "id": "KR6UrB_V6H5A"
      },
      "execution_count": 202,
      "outputs": []
    },
    {
      "cell_type": "markdown",
      "source": [
        "3. Xây dựng mô hình mạng neural tích chập"
      ],
      "metadata": {
        "id": "Jv8qIWis6RX2"
      }
    },
    {
      "cell_type": "code",
      "source": [
        "from keras.layers import Dense, Conv2D, MaxPooling2D, Flatten ,Input, Dropout\n",
        "from keras.models import Sequential\n",
        "model = Sequential()\n",
        "model.add (Input(shape=(28,28,1)))\n",
        "model.add(Conv2D(32,padding=\"valid\",kernel_size=(3,3),activation=\"relu\"))\n",
        "model.add(MaxPooling2D(pool_size=(2,2)))\n",
        "model.add(Conv2D(64,kernel_size=(3,3),activation='relu'))\n",
        "model.add(MaxPooling2D(pool_size=(2,2)))\n",
        "model.add(Flatten())\n",
        "model.add(Dense(10,activation='softmax'))"
      ],
      "metadata": {
        "id": "8sjPA-cA6Rse"
      },
      "execution_count": 203,
      "outputs": []
    },
    {
      "cell_type": "code",
      "source": [
        "model.summary()"
      ],
      "metadata": {
        "colab": {
          "base_uri": "https://localhost:8080/"
        },
        "id": "bUEksRbl6lQB",
        "outputId": "a869b5b5-2862-4924-a9fc-9d01d14545c8"
      },
      "execution_count": 204,
      "outputs": [
        {
          "output_type": "stream",
          "name": "stdout",
          "text": [
            "Model: \"sequential_18\"\n",
            "_________________________________________________________________\n",
            " Layer (type)                Output Shape              Param #   \n",
            "=================================================================\n",
            " conv2d_48 (Conv2D)          (None, 26, 26, 32)        320       \n",
            "                                                                 \n",
            " max_pooling2d_32 (MaxPoolin  (None, 13, 13, 32)       0         \n",
            " g2D)                                                            \n",
            "                                                                 \n",
            " conv2d_49 (Conv2D)          (None, 11, 11, 64)        18496     \n",
            "                                                                 \n",
            " max_pooling2d_33 (MaxPoolin  (None, 5, 5, 64)         0         \n",
            " g2D)                                                            \n",
            "                                                                 \n",
            " flatten_18 (Flatten)        (None, 1600)              0         \n",
            "                                                                 \n",
            " dense_34 (Dense)            (None, 10)                16010     \n",
            "                                                                 \n",
            "=================================================================\n",
            "Total params: 34,826\n",
            "Trainable params: 34,826\n",
            "Non-trainable params: 0\n",
            "_________________________________________________________________\n"
          ]
        }
      ]
    },
    {
      "cell_type": "code",
      "source": [
        "from tensorflow.keras.optimizers import Adam\n",
        "from tensorflow.keras.losses import CategoricalCrossentropy\n",
        "optimizer = Adam(learning_rate=0.01)\n",
        "loss = CategoricalCrossentropy()\n",
        "model.compile(optimizer=optimizer, loss=loss, metrics=['accuracy'])"
      ],
      "metadata": {
        "id": "zN63G7z4-MZD"
      },
      "execution_count": 205,
      "outputs": []
    },
    {
      "cell_type": "code",
      "source": [
        "history = model.fit(X_train_expanded, y_train_new,\n",
        "batch_size=128, epochs=30,\n",
        "validation_data=(X_dev_expanded,y_dev_new))"
      ],
      "metadata": {
        "colab": {
          "base_uri": "https://localhost:8080/"
        },
        "id": "GPgh6JwE-miA",
        "outputId": "22c3658f-096f-4e71-e6b0-0d3d78df9a38"
      },
      "execution_count": 206,
      "outputs": [
        {
          "output_type": "stream",
          "name": "stdout",
          "text": [
            "Epoch 1/30\n",
            "422/422 [==============================] - 3s 6ms/step - loss: 1.1067 - accuracy: 0.8972 - val_loss: 0.1725 - val_accuracy: 0.9512\n",
            "Epoch 2/30\n",
            "422/422 [==============================] - 2s 5ms/step - loss: 0.1214 - accuracy: 0.9635 - val_loss: 0.1217 - val_accuracy: 0.9665\n",
            "Epoch 3/30\n",
            "422/422 [==============================] - 2s 5ms/step - loss: 0.1141 - accuracy: 0.9657 - val_loss: 0.1554 - val_accuracy: 0.9595\n",
            "Epoch 4/30\n",
            "422/422 [==============================] - 2s 5ms/step - loss: 0.1209 - accuracy: 0.9644 - val_loss: 0.1394 - val_accuracy: 0.9635\n",
            "Epoch 5/30\n",
            "422/422 [==============================] - 2s 5ms/step - loss: 0.1375 - accuracy: 0.9608 - val_loss: 0.1261 - val_accuracy: 0.9623\n",
            "Epoch 6/30\n",
            "422/422 [==============================] - 2s 5ms/step - loss: 0.1250 - accuracy: 0.9642 - val_loss: 0.1729 - val_accuracy: 0.9572\n",
            "Epoch 7/30\n",
            "422/422 [==============================] - 2s 5ms/step - loss: 0.1444 - accuracy: 0.9579 - val_loss: 0.1375 - val_accuracy: 0.9625\n",
            "Epoch 8/30\n",
            "422/422 [==============================] - 2s 5ms/step - loss: 0.1278 - accuracy: 0.9634 - val_loss: 0.1170 - val_accuracy: 0.9678\n",
            "Epoch 9/30\n",
            "422/422 [==============================] - 2s 5ms/step - loss: 0.1265 - accuracy: 0.9643 - val_loss: 0.1362 - val_accuracy: 0.9632\n",
            "Epoch 10/30\n",
            "422/422 [==============================] - 2s 5ms/step - loss: 0.1376 - accuracy: 0.9619 - val_loss: 0.1792 - val_accuracy: 0.9553\n",
            "Epoch 11/30\n",
            "422/422 [==============================] - 2s 5ms/step - loss: 0.1220 - accuracy: 0.9654 - val_loss: 0.1096 - val_accuracy: 0.9693\n",
            "Epoch 12/30\n",
            "422/422 [==============================] - 2s 5ms/step - loss: 0.1193 - accuracy: 0.9658 - val_loss: 0.1174 - val_accuracy: 0.9670\n",
            "Epoch 13/30\n",
            "422/422 [==============================] - 2s 5ms/step - loss: 0.1395 - accuracy: 0.9617 - val_loss: 0.1588 - val_accuracy: 0.9590\n",
            "Epoch 14/30\n",
            "422/422 [==============================] - 2s 5ms/step - loss: 0.1127 - accuracy: 0.9675 - val_loss: 0.1374 - val_accuracy: 0.9622\n",
            "Epoch 15/30\n",
            "422/422 [==============================] - 2s 5ms/step - loss: 0.1397 - accuracy: 0.9623 - val_loss: 0.1753 - val_accuracy: 0.9547\n",
            "Epoch 16/30\n",
            "422/422 [==============================] - 2s 5ms/step - loss: 0.1180 - accuracy: 0.9668 - val_loss: 0.2400 - val_accuracy: 0.9395\n",
            "Epoch 17/30\n",
            "422/422 [==============================] - 2s 5ms/step - loss: 0.1447 - accuracy: 0.9620 - val_loss: 0.1850 - val_accuracy: 0.9652\n",
            "Epoch 18/30\n",
            "422/422 [==============================] - 2s 5ms/step - loss: 0.1877 - accuracy: 0.9552 - val_loss: 0.1395 - val_accuracy: 0.9615\n",
            "Epoch 19/30\n",
            "422/422 [==============================] - 2s 5ms/step - loss: 0.1113 - accuracy: 0.9677 - val_loss: 0.1377 - val_accuracy: 0.9582\n",
            "Epoch 20/30\n",
            "422/422 [==============================] - 2s 5ms/step - loss: 0.1328 - accuracy: 0.9643 - val_loss: 0.1808 - val_accuracy: 0.9493\n",
            "Epoch 21/30\n",
            "422/422 [==============================] - 2s 5ms/step - loss: 0.1165 - accuracy: 0.9669 - val_loss: 0.1152 - val_accuracy: 0.9705\n",
            "Epoch 22/30\n",
            "422/422 [==============================] - 2s 5ms/step - loss: 0.1075 - accuracy: 0.9691 - val_loss: 0.1292 - val_accuracy: 0.9653\n",
            "Epoch 23/30\n",
            "422/422 [==============================] - 2s 5ms/step - loss: 0.1245 - accuracy: 0.9644 - val_loss: 0.1379 - val_accuracy: 0.9612\n",
            "Epoch 24/30\n",
            "422/422 [==============================] - 2s 5ms/step - loss: 0.1471 - accuracy: 0.9605 - val_loss: 0.1568 - val_accuracy: 0.9542\n",
            "Epoch 25/30\n",
            "422/422 [==============================] - 2s 5ms/step - loss: 0.1433 - accuracy: 0.9608 - val_loss: 0.3342 - val_accuracy: 0.9357\n",
            "Epoch 26/30\n",
            "422/422 [==============================] - 2s 5ms/step - loss: 0.1471 - accuracy: 0.9595 - val_loss: 0.1395 - val_accuracy: 0.9650\n",
            "Epoch 27/30\n",
            "422/422 [==============================] - 2s 5ms/step - loss: 0.1294 - accuracy: 0.9635 - val_loss: 0.1519 - val_accuracy: 0.9625\n",
            "Epoch 28/30\n",
            "422/422 [==============================] - 2s 5ms/step - loss: 0.1351 - accuracy: 0.9633 - val_loss: 0.1324 - val_accuracy: 0.9635\n",
            "Epoch 29/30\n",
            "422/422 [==============================] - 2s 5ms/step - loss: 0.2252 - accuracy: 0.9480 - val_loss: 0.1424 - val_accuracy: 0.9578\n",
            "Epoch 30/30\n",
            "422/422 [==============================] - 2s 5ms/step - loss: 0.1346 - accuracy: 0.9623 - val_loss: 0.1520 - val_accuracy: 0.9610\n"
          ]
        }
      ]
    },
    {
      "cell_type": "code",
      "source": [
        "y_pred = model.predict(X_test_expanded)\n",
        "y_pred_label = np.argmax(y_pred,axis=-1)"
      ],
      "metadata": {
        "colab": {
          "base_uri": "https://localhost:8080/"
        },
        "id": "Agj7MlK4-pAq",
        "outputId": "bd33615d-88c6-47c3-8dd7-ca5c9132cf4b"
      },
      "execution_count": 207,
      "outputs": [
        {
          "output_type": "stream",
          "name": "stdout",
          "text": [
            "313/313 [==============================] - 1s 2ms/step\n"
          ]
        }
      ]
    },
    {
      "cell_type": "code",
      "source": [
        "from sklearn.metrics import accuracy_score\n",
        "accuracy_score(y_test, y_pred_label)*100"
      ],
      "metadata": {
        "colab": {
          "base_uri": "https://localhost:8080/"
        },
        "id": "JuM2a9iQDGnS",
        "outputId": "62b7e3a4-1178-42d1-af91-403574698237"
      },
      "execution_count": 208,
      "outputs": [
        {
          "output_type": "execute_result",
          "data": {
            "text/plain": [
              "95.88"
            ]
          },
          "metadata": {},
          "execution_count": 208
        }
      ]
    },
    {
      "cell_type": "markdown",
      "source": [
        "Ve do thi hoc voi accuracy"
      ],
      "metadata": {
        "id": "-pVoDlWORpDK"
      }
    },
    {
      "cell_type": "code",
      "source": [
        "import matplotlib.pyplot as  plt\n",
        "plt.plot(history.history['accuracy'])\n",
        "plt.plot(history.history['val_accuracy'])\n",
        "plt.title('model accuracy')\n",
        "plt.ylabel('accuracy')\n",
        "plt.xlabel('epoch')\n",
        "plt.legend(['train','val'], loc = 'upper left')\n",
        "plt.show()"
      ],
      "metadata": {
        "colab": {
          "base_uri": "https://localhost:8080/",
          "height": 295
        },
        "id": "pjMa63QPRozF",
        "outputId": "febbe979-13cf-4137-99fa-06b8070f945f"
      },
      "execution_count": 209,
      "outputs": [
        {
          "output_type": "display_data",
          "data": {
            "text/plain": [
              "<Figure size 432x288 with 1 Axes>"
            ],
            "image/png": "[encoded data removed]"
          },
          "metadata": {
            "needs_background": "light"
          }
        }
      ]
    },
    {
      "cell_type": "markdown",
      "source": [
        "Ve do thi hoc voi loss"
      ],
      "metadata": {
        "id": "tFai1PZ7IDwZ"
      }
    },
    {
      "cell_type": "code",
      "source": [
        "import matplotlib.pyplot as plt\n",
        "plt.plot(history.history['loss'])\n",
        "plt.plot(history.history['val_loss'])\n",
        "plt.title('model loss')\n",
        "plt.ylabel('loss')\n",
        "plt.xlabel('epochs')\n",
        "plt.legend(['train','dev'],loc='upper left')\n",
        "plt.show"
      ],
      "metadata": {
        "colab": {
          "base_uri": "https://localhost:8080/",
          "height": 312
        },
        "id": "IALUEnN3DJoE",
        "outputId": "bfe62935-37cc-44b3-95d1-c21a3c8bb2ab"
      },
      "execution_count": 210,
      "outputs": [
        {
          "output_type": "execute_result",
          "data": {
            "text/plain": [
              "<function matplotlib.pyplot.show(*args, **kw)>"
            ]
          },
          "metadata": {},
          "execution_count": 210
        },
        {
          "output_type": "display_data",
          "data": {
            "text/plain": [
              "<Figure size 432x288 with 1 Axes>"
            ],
            "image/png": "[encoded data removed]"
          },
          "metadata": {
            "needs_background": "light"
          }
        }
      ]
    },
    {
      "cell_type": "markdown",
      "source": [
        "$.4. Xây dựng mạng LeNet-5"
      ],
      "metadata": {
        "id": "GGMLaz4nEVvJ"
      }
    },
    {
      "cell_type": "code",
      "source": [
        "model2 = Sequential()\n",
        "model2.add(Conv2D(filters=6, kernel_size=(5,5), padding='same',\n",
        "activation='relu',input_shape=(28,28,1)))\n",
        "model2.add(AveragePooling2D(strides=2, pool_size=(2, 2)))\n",
        "model2.add(Conv2D(filters=16, kernel_size=(5,5), padding='valid',\n",
        "activation='relu'))\n",
        "model2.add(AveragePooling2D(strides=2, pool_size=(2, 2)))\n",
        "model2.add(Flatten())\n",
        "model2.add(Dense(120, activation='relu'))\n",
        "model2.add(Dense(84, activation='relu'))\n",
        "model2.add(Dense(10, activation='softmax'))"
      ],
      "metadata": {
        "id": "sDmhuL3JEZvV"
      },
      "execution_count": 211,
      "outputs": []
    },
    {
      "cell_type": "code",
      "source": [
        "model2.summary()"
      ],
      "metadata": {
        "colab": {
          "base_uri": "https://localhost:8080/"
        },
        "id": "NSuDHu1LtdES",
        "outputId": "03f0e20b-f33e-4f5b-a043-657c30837de8"
      },
      "execution_count": 212,
      "outputs": [
        {
          "output_type": "stream",
          "name": "stdout",
          "text": [
            "Model: \"sequential_19\"\n",
            "_________________________________________________________________\n",
            " Layer (type)                Output Shape              Param #   \n",
            "=================================================================\n",
            " conv2d_50 (Conv2D)          (None, 28, 28, 6)         156       \n",
            "                                                                 \n",
            " average_pooling2d_8 (Averag  (None, 14, 14, 6)        0         \n",
            " ePooling2D)                                                     \n",
            "                                                                 \n",
            " conv2d_51 (Conv2D)          (None, 10, 10, 16)        2416      \n",
            "                                                                 \n",
            " average_pooling2d_9 (Averag  (None, 5, 5, 16)         0         \n",
            " ePooling2D)                                                     \n",
            "                                                                 \n",
            " flatten_19 (Flatten)        (None, 400)               0         \n",
            "                                                                 \n",
            " dense_35 (Dense)            (None, 120)               48120     \n",
            "                                                                 \n",
            " dense_36 (Dense)            (None, 84)                10164     \n",
            "                                                                 \n",
            " dense_37 (Dense)            (None, 10)                850       \n",
            "                                                                 \n",
            "=================================================================\n",
            "Total params: 61,706\n",
            "Trainable params: 61,706\n",
            "Non-trainable params: 0\n",
            "_________________________________________________________________\n"
          ]
        }
      ]
    },
    {
      "cell_type": "code",
      "source": [
        "optimizer = Adam(learning_rate=5e-4)\n",
        "loss = CategoricalCrossentropy()\n",
        "model2.compile(optimizer=optimizer, loss=loss, metrics=['accuracy'])\n"
      ],
      "metadata": {
        "id": "f_XAgIJzFK7m"
      },
      "execution_count": 213,
      "outputs": []
    },
    {
      "cell_type": "code",
      "source": [
        "history2 = model2.fit(X_train_expanded, y_train_new,\n",
        "batch_size=128, epochs=30,\n",
        "validation_data=(X_dev_expanded,y_dev_new))"
      ],
      "metadata": {
        "colab": {
          "base_uri": "https://localhost:8080/"
        },
        "id": "akcFNK3QFNwz",
        "outputId": "a3d99fc3-c7fe-4081-cdda-3ce6d1e6e468"
      },
      "execution_count": 214,
      "outputs": [
        {
          "output_type": "stream",
          "name": "stdout",
          "text": [
            "Epoch 1/30\n",
            "422/422 [==============================] - 3s 5ms/step - loss: 0.5781 - accuracy: 0.8786 - val_loss: 0.1413 - val_accuracy: 0.9587\n",
            "Epoch 2/30\n",
            "422/422 [==============================] - 2s 4ms/step - loss: 0.1000 - accuracy: 0.9698 - val_loss: 0.1002 - val_accuracy: 0.9710\n",
            "Epoch 3/30\n",
            "422/422 [==============================] - 2s 4ms/step - loss: 0.0656 - accuracy: 0.9795 - val_loss: 0.0826 - val_accuracy: 0.9755\n",
            "Epoch 4/30\n",
            "422/422 [==============================] - 2s 4ms/step - loss: 0.0483 - accuracy: 0.9847 - val_loss: 0.0779 - val_accuracy: 0.9768\n",
            "Epoch 5/30\n",
            "422/422 [==============================] - 2s 4ms/step - loss: 0.0364 - accuracy: 0.9886 - val_loss: 0.0665 - val_accuracy: 0.9808\n",
            "Epoch 6/30\n",
            "422/422 [==============================] - 2s 4ms/step - loss: 0.0302 - accuracy: 0.9905 - val_loss: 0.0687 - val_accuracy: 0.9783\n",
            "Epoch 7/30\n",
            "422/422 [==============================] - 2s 4ms/step - loss: 0.0262 - accuracy: 0.9917 - val_loss: 0.0691 - val_accuracy: 0.9822\n",
            "Epoch 8/30\n",
            "422/422 [==============================] - 2s 4ms/step - loss: 0.0222 - accuracy: 0.9925 - val_loss: 0.0618 - val_accuracy: 0.9837\n",
            "Epoch 9/30\n",
            "422/422 [==============================] - 2s 5ms/step - loss: 0.0195 - accuracy: 0.9935 - val_loss: 0.0628 - val_accuracy: 0.9840\n",
            "Epoch 10/30\n",
            "422/422 [==============================] - 3s 6ms/step - loss: 0.0197 - accuracy: 0.9933 - val_loss: 0.0692 - val_accuracy: 0.9827\n",
            "Epoch 11/30\n",
            "422/422 [==============================] - 2s 5ms/step - loss: 0.0142 - accuracy: 0.9954 - val_loss: 0.0613 - val_accuracy: 0.9870\n",
            "Epoch 12/30\n",
            "422/422 [==============================] - 2s 4ms/step - loss: 0.0134 - accuracy: 0.9954 - val_loss: 0.0628 - val_accuracy: 0.9868\n",
            "Epoch 13/30\n",
            "422/422 [==============================] - 2s 4ms/step - loss: 0.0138 - accuracy: 0.9952 - val_loss: 0.0685 - val_accuracy: 0.9853\n",
            "Epoch 14/30\n",
            "422/422 [==============================] - 2s 4ms/step - loss: 0.0122 - accuracy: 0.9959 - val_loss: 0.0658 - val_accuracy: 0.9858\n",
            "Epoch 15/30\n",
            "422/422 [==============================] - 2s 4ms/step - loss: 0.0096 - accuracy: 0.9968 - val_loss: 0.0817 - val_accuracy: 0.9843\n",
            "Epoch 16/30\n",
            "422/422 [==============================] - 2s 4ms/step - loss: 0.0112 - accuracy: 0.9963 - val_loss: 0.0681 - val_accuracy: 0.9853\n",
            "Epoch 17/30\n",
            "422/422 [==============================] - 2s 4ms/step - loss: 0.0114 - accuracy: 0.9963 - val_loss: 0.0675 - val_accuracy: 0.9872\n",
            "Epoch 18/30\n",
            "422/422 [==============================] - 2s 5ms/step - loss: 0.0077 - accuracy: 0.9974 - val_loss: 0.0827 - val_accuracy: 0.9843\n",
            "Epoch 19/30\n",
            "422/422 [==============================] - 2s 4ms/step - loss: 0.0096 - accuracy: 0.9970 - val_loss: 0.0671 - val_accuracy: 0.9872\n",
            "Epoch 20/30\n",
            "422/422 [==============================] - 2s 4ms/step - loss: 0.0073 - accuracy: 0.9976 - val_loss: 0.0758 - val_accuracy: 0.9838\n",
            "Epoch 21/30\n",
            "422/422 [==============================] - 2s 4ms/step - loss: 0.0087 - accuracy: 0.9971 - val_loss: 0.0629 - val_accuracy: 0.9867\n",
            "Epoch 22/30\n",
            "422/422 [==============================] - 3s 6ms/step - loss: 0.0041 - accuracy: 0.9987 - val_loss: 0.0715 - val_accuracy: 0.9882\n",
            "Epoch 23/30\n",
            "422/422 [==============================] - 4s 8ms/step - loss: 0.0090 - accuracy: 0.9968 - val_loss: 0.0767 - val_accuracy: 0.9857\n",
            "Epoch 24/30\n",
            "422/422 [==============================] - 3s 7ms/step - loss: 0.0057 - accuracy: 0.9980 - val_loss: 0.0606 - val_accuracy: 0.9895\n",
            "Epoch 25/30\n",
            "422/422 [==============================] - 3s 7ms/step - loss: 0.0077 - accuracy: 0.9974 - val_loss: 0.0713 - val_accuracy: 0.9878\n",
            "Epoch 26/30\n",
            "422/422 [==============================] - 3s 7ms/step - loss: 0.0081 - accuracy: 0.9974 - val_loss: 0.0834 - val_accuracy: 0.9850\n",
            "Epoch 27/30\n",
            "422/422 [==============================] - 3s 6ms/step - loss: 0.0054 - accuracy: 0.9981 - val_loss: 0.0763 - val_accuracy: 0.9873\n",
            "Epoch 28/30\n",
            "422/422 [==============================] - 3s 6ms/step - loss: 0.0051 - accuracy: 0.9984 - val_loss: 0.0710 - val_accuracy: 0.9875\n",
            "Epoch 29/30\n",
            "422/422 [==============================] - 3s 7ms/step - loss: 0.0067 - accuracy: 0.9981 - val_loss: 0.0661 - val_accuracy: 0.9875\n",
            "Epoch 30/30\n",
            "422/422 [==============================] - 4s 8ms/step - loss: 0.0051 - accuracy: 0.9984 - val_loss: 0.0749 - val_accuracy: 0.9878\n"
          ]
        }
      ]
    },
    {
      "cell_type": "code",
      "source": [],
      "metadata": {
        "id": "5PRQnT0KMqFA"
      },
      "execution_count": 214,
      "outputs": []
    },
    {
      "cell_type": "code",
      "source": [
        "import matplotlib.pyplot as plt\n",
        "plt.plot(history2.history['accuracy'])\n",
        "plt.plot(history2.history['val_accuracy'])\n",
        "plt.title('model accuracy')\n",
        "plt.ylabel('accuracy')\n",
        "plt.xlabel('epochs')\n",
        "plt.legend(['train','dev'],loc='upper left')\n",
        "plt.show"
      ],
      "metadata": {
        "colab": {
          "base_uri": "https://localhost:8080/",
          "height": 312
        },
        "id": "xRBbI7RaFP1n",
        "outputId": "8ed62d35-0aba-4b84-9e6c-693750d31f39"
      },
      "execution_count": 215,
      "outputs": [
        {
          "output_type": "execute_result",
          "data": {
            "text/plain": [
              "<function matplotlib.pyplot.show(*args, **kw)>"
            ]
          },
          "metadata": {},
          "execution_count": 215
        },
        {
          "output_type": "display_data",
          "data": {
            "text/plain": [
              "<Figure size 432x288 with 1 Axes>"
            ],
            "image/png": "[encoded data removed]"
          },
          "metadata": {
            "needs_background": "light"
          }
        }
      ]
    },
    {
      "cell_type": "code",
      "source": [
        "plt.plot(history2.history['loss'])\n",
        "plt.plot(history2.history['val_loss'])\n",
        "plt.title('model loss')\n",
        "plt.ylabel('loss')\n",
        "plt.xlabel('epoch')\n",
        "plt.legend(['train','val'], loc = 'upper left')\n",
        "plt.show()"
      ],
      "metadata": {
        "id": "alycg7JgOKng",
        "colab": {
          "base_uri": "https://localhost:8080/",
          "height": 295
        },
        "outputId": "85136143-9081-479c-9f60-cf848023f9f2"
      },
      "execution_count": 216,
      "outputs": [
        {
          "output_type": "display_data",
          "data": {
            "text/plain": [
              "<Figure size 432x288 with 1 Axes>"
            ],
            "image/png": "[encoded data removed]"
          },
          "metadata": {
            "needs_background": "light"
          }
        }
      ]
    },
    {
      "cell_type": "code",
      "source": [
        "y_pred = model2.predict(X_test_expanded)\n",
        "y_pred = np.argmax(y_pred , axis = -1)"
      ],
      "metadata": {
        "id": "gBleqTIdIcvO",
        "colab": {
          "base_uri": "https://localhost:8080/"
        },
        "outputId": "9510cf9e-1fbc-4fc8-cdf1-59d3d635cba0"
      },
      "execution_count": 217,
      "outputs": [
        {
          "output_type": "stream",
          "name": "stdout",
          "text": [
            "313/313 [==============================] - 1s 3ms/step\n"
          ]
        }
      ]
    },
    {
      "cell_type": "code",
      "source": [
        "accuracy_score(y_pred,y_test)*100"
      ],
      "metadata": {
        "colab": {
          "base_uri": "https://localhost:8080/"
        },
        "id": "z5l28495SLP_",
        "outputId": "ba80b7dd-d597-41b4-9727-07c334993d9f"
      },
      "execution_count": 218,
      "outputs": [
        {
          "output_type": "execute_result",
          "data": {
            "text/plain": [
              "98.8"
            ]
          },
          "metadata": {},
          "execution_count": 218
        }
      ]
    },
    {
      "cell_type": "markdown",
      "source": [
        "5. Ví dụ áp dụng: Xây dựng mạng AlexNet"
      ],
      "metadata": {
        "id": "vZNuAi0HSOpF"
      }
    },
    {
      "cell_type": "code",
      "source": [
        "model3 = Sequential()\n",
        "model3.add(Conv2D(filters=96, kernel_size=(11,11),strides=(4,4) ,padding='same',activation='relu',input_shape=(28,28,1)))\n",
        "model3.add(MaxPooling2D(strides=(2,2), pool_size=(3, 3),padding='same'))\n",
        "model3.add(Conv2D(filters=256, kernel_size=(5,5), padding='same',activation='relu'))\n",
        "model3.add(MaxPooling2D(strides=(2,2), pool_size=(3, 3), padding='same'))\n",
        "model3.add(Conv2D(filters=384, kernel_size=(3,3),strides=(1,1), padding='same',activation='relu'))\n",
        "model3.add(Conv2D(filters=384, kernel_size=(3,3),strides=(1,1), padding='same',activation='relu'))\n",
        "model3.add(Conv2D(filters=256, kernel_size=(3,3),strides=(1,1), padding='same',activation='relu'))\n",
        "model3.add(MaxPooling2D(strides=(2,2), pool_size=(3, 3), padding='same'))\n",
        "model3.add(Flatten())\n",
        "model3.add(Dense(4096, activation='relu'))\n",
        "model3.add(Dense(4096, activation='relu'))\n",
        "model3.add(Dense(10, activation='softmax'))"
      ],
      "metadata": {
        "id": "hhDigzONIcyW"
      },
      "execution_count": 219,
      "outputs": []
    },
    {
      "cell_type": "code",
      "source": [
        "model3.summary()"
      ],
      "metadata": {
        "colab": {
          "base_uri": "https://localhost:8080/"
        },
        "id": "dBNKxtLULipg",
        "outputId": "7dae71ad-a008-458c-8d6d-98bf428deb97"
      },
      "execution_count": 220,
      "outputs": [
        {
          "output_type": "stream",
          "name": "stdout",
          "text": [
            "Model: \"sequential_20\"\n",
            "_________________________________________________________________\n",
            " Layer (type)                Output Shape              Param #   \n",
            "=================================================================\n",
            " conv2d_52 (Conv2D)          (None, 7, 7, 96)          11712     \n",
            "                                                                 \n",
            " max_pooling2d_34 (MaxPoolin  (None, 4, 4, 96)         0         \n",
            " g2D)                                                            \n",
            "                                                                 \n",
            " conv2d_53 (Conv2D)          (None, 4, 4, 256)         614656    \n",
            "                                                                 \n",
            " max_pooling2d_35 (MaxPoolin  (None, 2, 2, 256)        0         \n",
            " g2D)                                                            \n",
            "                                                                 \n",
            " conv2d_54 (Conv2D)          (None, 2, 2, 384)         885120    \n",
            "                                                                 \n",
            " conv2d_55 (Conv2D)          (None, 2, 2, 384)         1327488   \n",
            "                                                                 \n",
            " conv2d_56 (Conv2D)          (None, 2, 2, 256)         884992    \n",
            "                                                                 \n",
            " max_pooling2d_36 (MaxPoolin  (None, 1, 1, 256)        0         \n",
            " g2D)                                                            \n",
            "                                                                 \n",
            " flatten_20 (Flatten)        (None, 256)               0         \n",
            "                                                                 \n",
            " dense_38 (Dense)            (None, 4096)              1052672   \n",
            "                                                                 \n",
            " dense_39 (Dense)            (None, 4096)              16781312  \n",
            "                                                                 \n",
            " dense_40 (Dense)            (None, 10)                40970     \n",
            "                                                                 \n",
            "=================================================================\n",
            "Total params: 21,598,922\n",
            "Trainable params: 21,598,922\n",
            "Non-trainable params: 0\n",
            "_________________________________________________________________\n"
          ]
        }
      ]
    },
    {
      "cell_type": "code",
      "source": [
        "optimizer = Adam(learning_rate=5e-4)\n",
        "loss = CategoricalCrossentropy()\n",
        "model3.compile(optimizer=optimizer, loss=loss, metrics=['accuracy'])"
      ],
      "metadata": {
        "id": "oKAXaaZPLkLW"
      },
      "execution_count": 221,
      "outputs": []
    },
    {
      "cell_type": "code",
      "source": [
        "from keras.callbacks import EarlyStopping \n",
        "callback =EarlyStopping (monitor='val_loss',patience=1)"
      ],
      "metadata": {
        "id": "Y-IQAHqtMrvB"
      },
      "execution_count": 222,
      "outputs": []
    },
    {
      "cell_type": "code",
      "source": [
        "history3 = model3.fit(X_train_expanded, y_train_new,\n",
        "batch_size=128, epochs=30,\n",
        "validation_data=(X_dev_expanded,y_dev_new),callbacks=callback)"
      ],
      "metadata": {
        "colab": {
          "base_uri": "https://localhost:8080/"
        },
        "id": "vD9-I0yXNSRz",
        "outputId": "56f30eed-0f09-4e28-d040-795cdc357d1d"
      },
      "execution_count": 223,
      "outputs": [
        {
          "output_type": "stream",
          "name": "stdout",
          "text": [
            "Epoch 1/30\n",
            "422/422 [==============================] - 10s 22ms/step - loss: 0.3847 - accuracy: 0.8823 - val_loss: 0.1106 - val_accuracy: 0.9693\n",
            "Epoch 2/30\n",
            "422/422 [==============================] - 8s 20ms/step - loss: 0.0884 - accuracy: 0.9743 - val_loss: 0.0826 - val_accuracy: 0.9765\n",
            "Epoch 3/30\n",
            "422/422 [==============================] - 8s 19ms/step - loss: 0.0648 - accuracy: 0.9811 - val_loss: 0.0938 - val_accuracy: 0.9773\n"
          ]
        }
      ]
    },
    {
      "cell_type": "code",
      "source": [
        "import matplotlib.pyplot as plt\n",
        "plt.plot(history3.history['accuracy'])\n",
        "plt.plot(history3.history['val_accuracy'])\n",
        "plt.title('model accuracy')\n",
        "plt.ylabel('accuracy')\n",
        "plt.xlabel('epochs')\n",
        "plt.legend(['train','dev'],loc='upper left')\n",
        "plt.show"
      ],
      "metadata": {
        "colab": {
          "base_uri": "https://localhost:8080/",
          "height": 312
        },
        "id": "U3fri7ENOLkv",
        "outputId": "de8277e8-6dd8-4d40-d85b-99b31b5f9d38"
      },
      "execution_count": 224,
      "outputs": [
        {
          "output_type": "execute_result",
          "data": {
            "text/plain": [
              "<function matplotlib.pyplot.show(*args, **kw)>"
            ]
          },
          "metadata": {},
          "execution_count": 224
        },
        {
          "output_type": "display_data",
          "data": {
            "text/plain": [
              "<Figure size 432x288 with 1 Axes>"
            ],
            "image/png": "[encoded data removed]"
          },
          "metadata": {
            "needs_background": "light"
          }
        }
      ]
    },
    {
      "cell_type": "code",
      "source": [
        "plt.plot(history3.history['loss'])\n",
        "plt.plot(history3.history['val_loss'])\n",
        "plt.title('model loss')\n",
        "plt.ylabel('loss')\n",
        "plt.xlabel('epoch')\n",
        "plt.legend(['train','val'], loc = 'upper left')\n",
        "plt.show()"
      ],
      "metadata": {
        "colab": {
          "base_uri": "https://localhost:8080/",
          "height": 295
        },
        "id": "cu2A_a-vTjnx",
        "outputId": "7e052c6d-de88-46a2-b163-1e308cff9d57"
      },
      "execution_count": 225,
      "outputs": [
        {
          "output_type": "display_data",
          "data": {
            "text/plain": [
              "<Figure size 432x288 with 1 Axes>"
            ],
            "image/png": "[encoded data removed]"
          },
          "metadata": {
            "needs_background": "light"
          }
        }
      ]
    },
    {
      "cell_type": "code",
      "source": [
        "y_pred = model3.predict(X_test_expanded)\n",
        "y_pred_label = np.argmax(y_pred,axis=-1)"
      ],
      "metadata": {
        "colab": {
          "base_uri": "https://localhost:8080/"
        },
        "id": "qZGGENNGOn6g",
        "outputId": "4419dfd7-1c77-43fb-e3d5-f359221bd647"
      },
      "execution_count": 226,
      "outputs": [
        {
          "output_type": "stream",
          "name": "stdout",
          "text": [
            "313/313 [==============================] - 1s 3ms/step\n"
          ]
        }
      ]
    },
    {
      "cell_type": "code",
      "source": [
        "accuracy_score(y_test, y_pred_label)*100"
      ],
      "metadata": {
        "id": "8vvkpe_EOsyn",
        "outputId": "a25de608-f064-4f03-8e79-013ca7febaa9",
        "colab": {
          "base_uri": "https://localhost:8080/"
        }
      },
      "execution_count": 227,
      "outputs": [
        {
          "output_type": "execute_result",
          "data": {
            "text/plain": [
              "97.91"
            ]
          },
          "metadata": {},
          "execution_count": 227
        }
      ]
    },
    {
      "cell_type": "markdown",
      "source": [
        "Bài tập 1\n",
        "\n",
        "a. Xây dựng lại mô hình mạng CNN như hướng dẫn ở Mục 3, tuy nhiên sử dụng hàm kích hoạt ReLU cho hai lớp CONV.\n",
        "\n",
        "b. Tiến hành huấn luyện mô hình, sau đó vẽ đồ thị học với accuracy và loss.\n",
        "\n",
        "c. Đánh giá mô hình trên tập test và cho biết độ chính xác dự đoán"
      ],
      "metadata": {
        "id": "sSO9PzhLPiDm"
      }
    },
    {
      "cell_type": "code",
      "source": [
        "model_1 = Sequential()\n",
        "model_1.add(Input(shape = (28,28,1)))\n",
        "model_1.add(Conv2D(32,padding = \"valid\", kernel_size = (3,3), activation = \"relu\"))\n",
        "model_1.add(MaxPooling2D(pool_size = (2,2)))\n",
        "model_1.add(Conv2D(64,kernel_size = (3,3),activation = \"relu\"))\n",
        "model_1.add(MaxPooling2D(pool_size = (2,2)))\n",
        "model_1.add(Flatten())\n",
        "model_1.add(Dense(10,activation= \"softmax\"))"
      ],
      "metadata": {
        "id": "J9bBojTMOxFb"
      },
      "execution_count": 228,
      "outputs": []
    },
    {
      "cell_type": "code",
      "source": [
        "model_1.summary()"
      ],
      "metadata": {
        "colab": {
          "base_uri": "https://localhost:8080/"
        },
        "id": "E6PAM7Z4Vuiw",
        "outputId": "22b4eac9-3610-47a1-85f3-d986b0f92ad6"
      },
      "execution_count": 229,
      "outputs": [
        {
          "output_type": "stream",
          "name": "stdout",
          "text": [
            "Model: \"sequential_21\"\n",
            "_________________________________________________________________\n",
            " Layer (type)                Output Shape              Param #   \n",
            "=================================================================\n",
            " conv2d_57 (Conv2D)          (None, 26, 26, 32)        320       \n",
            "                                                                 \n",
            " max_pooling2d_37 (MaxPoolin  (None, 13, 13, 32)       0         \n",
            " g2D)                                                            \n",
            "                                                                 \n",
            " conv2d_58 (Conv2D)          (None, 11, 11, 64)        18496     \n",
            "                                                                 \n",
            " max_pooling2d_38 (MaxPoolin  (None, 5, 5, 64)         0         \n",
            " g2D)                                                            \n",
            "                                                                 \n",
            " flatten_21 (Flatten)        (None, 1600)              0         \n",
            "                                                                 \n",
            " dense_41 (Dense)            (None, 10)                16010     \n",
            "                                                                 \n",
            "=================================================================\n",
            "Total params: 34,826\n",
            "Trainable params: 34,826\n",
            "Non-trainable params: 0\n",
            "_________________________________________________________________\n"
          ]
        }
      ]
    },
    {
      "cell_type": "code",
      "source": [
        "optimizer = Adam(learning_rate = 0.01)\n",
        "loss = CategoricalCrossentropy()\n",
        "model_1.compile(optimizer=optimizer, loss=loss, metrics=['accuracy'])"
      ],
      "metadata": {
        "id": "uM-RboMNVz1h"
      },
      "execution_count": 230,
      "outputs": []
    },
    {
      "cell_type": "code",
      "source": [
        "history_1 = model_1.fit(X_train_expanded, y_train_new,batch_size=128, epochs=30,validation_data=(X_dev_expanded,y_dev_new))"
      ],
      "metadata": {
        "colab": {
          "base_uri": "https://localhost:8080/"
        },
        "id": "57nI89h-V3X1",
        "outputId": "258ee249-6b1e-46ce-8848-be710e320199"
      },
      "execution_count": 231,
      "outputs": [
        {
          "output_type": "stream",
          "name": "stdout",
          "text": [
            "Epoch 1/30\n",
            "422/422 [==============================] - 3s 5ms/step - loss: 1.9308 - accuracy: 0.8807 - val_loss: 0.1892 - val_accuracy: 0.9502\n",
            "Epoch 2/30\n",
            "422/422 [==============================] - 2s 5ms/step - loss: 0.1234 - accuracy: 0.9621 - val_loss: 0.1544 - val_accuracy: 0.9563\n",
            "Epoch 3/30\n",
            "422/422 [==============================] - 2s 5ms/step - loss: 0.1150 - accuracy: 0.9654 - val_loss: 0.1473 - val_accuracy: 0.9600\n",
            "Epoch 4/30\n",
            "422/422 [==============================] - 2s 5ms/step - loss: 0.1047 - accuracy: 0.9685 - val_loss: 0.1357 - val_accuracy: 0.9638\n",
            "Epoch 5/30\n",
            "422/422 [==============================] - 2s 5ms/step - loss: 0.1043 - accuracy: 0.9681 - val_loss: 0.1187 - val_accuracy: 0.9675\n",
            "Epoch 6/30\n",
            "422/422 [==============================] - 2s 5ms/step - loss: 0.1004 - accuracy: 0.9697 - val_loss: 0.1046 - val_accuracy: 0.9688\n",
            "Epoch 7/30\n",
            "422/422 [==============================] - 2s 5ms/step - loss: 0.0937 - accuracy: 0.9711 - val_loss: 0.1432 - val_accuracy: 0.9657\n",
            "Epoch 8/30\n",
            "422/422 [==============================] - 2s 5ms/step - loss: 0.0961 - accuracy: 0.9720 - val_loss: 0.1115 - val_accuracy: 0.9718\n",
            "Epoch 9/30\n",
            "422/422 [==============================] - 2s 5ms/step - loss: 0.1000 - accuracy: 0.9704 - val_loss: 0.1320 - val_accuracy: 0.9652\n",
            "Epoch 10/30\n",
            "422/422 [==============================] - 2s 5ms/step - loss: 0.0973 - accuracy: 0.9714 - val_loss: 0.1693 - val_accuracy: 0.9607\n",
            "Epoch 11/30\n",
            "422/422 [==============================] - 2s 5ms/step - loss: 0.0937 - accuracy: 0.9724 - val_loss: 0.0925 - val_accuracy: 0.9755\n",
            "Epoch 12/30\n",
            "422/422 [==============================] - 2s 5ms/step - loss: 0.0873 - accuracy: 0.9748 - val_loss: 0.1354 - val_accuracy: 0.9718\n",
            "Epoch 13/30\n",
            "422/422 [==============================] - 2s 5ms/step - loss: 0.0840 - accuracy: 0.9757 - val_loss: 0.1120 - val_accuracy: 0.9700\n",
            "Epoch 14/30\n",
            "422/422 [==============================] - 2s 5ms/step - loss: 0.0971 - accuracy: 0.9721 - val_loss: 0.1258 - val_accuracy: 0.9687\n",
            "Epoch 15/30\n",
            "422/422 [==============================] - 2s 5ms/step - loss: 0.0996 - accuracy: 0.9704 - val_loss: 0.1369 - val_accuracy: 0.9657\n",
            "Epoch 16/30\n",
            "422/422 [==============================] - 2s 5ms/step - loss: 0.0860 - accuracy: 0.9739 - val_loss: 0.1042 - val_accuracy: 0.9692\n",
            "Epoch 17/30\n",
            "422/422 [==============================] - 2s 5ms/step - loss: 0.0857 - accuracy: 0.9741 - val_loss: 0.1100 - val_accuracy: 0.9720\n",
            "Epoch 18/30\n",
            "422/422 [==============================] - 2s 5ms/step - loss: 0.0857 - accuracy: 0.9745 - val_loss: 0.1495 - val_accuracy: 0.9632\n",
            "Epoch 19/30\n",
            "422/422 [==============================] - 3s 6ms/step - loss: 0.0934 - accuracy: 0.9719 - val_loss: 0.1072 - val_accuracy: 0.9707\n",
            "Epoch 20/30\n",
            "422/422 [==============================] - 2s 6ms/step - loss: 0.0873 - accuracy: 0.9736 - val_loss: 0.1143 - val_accuracy: 0.9707\n",
            "Epoch 21/30\n",
            "422/422 [==============================] - 2s 5ms/step - loss: 0.0845 - accuracy: 0.9746 - val_loss: 0.1204 - val_accuracy: 0.9678\n",
            "Epoch 22/30\n",
            "422/422 [==============================] - 2s 5ms/step - loss: 0.0776 - accuracy: 0.9756 - val_loss: 0.1244 - val_accuracy: 0.9695\n",
            "Epoch 23/30\n",
            "422/422 [==============================] - 2s 5ms/step - loss: 0.0866 - accuracy: 0.9739 - val_loss: 0.1297 - val_accuracy: 0.9665\n",
            "Epoch 24/30\n",
            "422/422 [==============================] - 2s 5ms/step - loss: 0.0945 - accuracy: 0.9720 - val_loss: 0.1537 - val_accuracy: 0.9653\n",
            "Epoch 25/30\n",
            "422/422 [==============================] - 2s 5ms/step - loss: 0.0826 - accuracy: 0.9752 - val_loss: 0.1234 - val_accuracy: 0.9662\n",
            "Epoch 26/30\n",
            "422/422 [==============================] - 2s 5ms/step - loss: 0.0843 - accuracy: 0.9739 - val_loss: 0.1210 - val_accuracy: 0.9692\n",
            "Epoch 27/30\n",
            "422/422 [==============================] - 2s 5ms/step - loss: 0.0849 - accuracy: 0.9737 - val_loss: 0.1192 - val_accuracy: 0.9707\n",
            "Epoch 28/30\n",
            "422/422 [==============================] - 2s 5ms/step - loss: 0.1043 - accuracy: 0.9695 - val_loss: 0.1239 - val_accuracy: 0.9670\n",
            "Epoch 29/30\n",
            "422/422 [==============================] - 2s 5ms/step - loss: 0.0868 - accuracy: 0.9738 - val_loss: 0.1224 - val_accuracy: 0.9682\n",
            "Epoch 30/30\n",
            "422/422 [==============================] - 2s 5ms/step - loss: 0.0858 - accuracy: 0.9728 - val_loss: 0.1226 - val_accuracy: 0.9668\n"
          ]
        }
      ]
    },
    {
      "cell_type": "code",
      "source": [
        "import matplotlib.pyplot as  plt\n",
        "plt.plot(history_1.history['accuracy'])\n",
        "plt.plot(history_1.history['val_accuracy'])\n",
        "plt.title('model accuracy')\n",
        "plt.ylabel('accuracy')\n",
        "plt.xlabel('epoch')\n",
        "plt.legend(['train','val'], loc = 'upper left')\n",
        "plt.show()"
      ],
      "metadata": {
        "colab": {
          "base_uri": "https://localhost:8080/",
          "height": 295
        },
        "id": "9PqVP8K7V6Xg",
        "outputId": "c53afb1f-11a7-4546-cfd5-8ee76fc6ddeb"
      },
      "execution_count": 232,
      "outputs": [
        {
          "output_type": "display_data",
          "data": {
            "text/plain": [
              "<Figure size 432x288 with 1 Axes>"
            ],
            "image/png": "[encoded data removed]"
          },
          "metadata": {
            "needs_background": "light"
          }
        }
      ]
    },
    {
      "cell_type": "code",
      "source": [
        "plt.plot(history_1.history['loss'])\n",
        "plt.plot(history_1.history['val_loss'])\n",
        "plt.title('model loss')\n",
        "plt.ylabel('loss')\n",
        "plt.xlabel('epoch')\n",
        "plt.legend(['train','val'], loc = 'upper left')\n",
        "plt.show()"
      ],
      "metadata": {
        "colab": {
          "base_uri": "https://localhost:8080/",
          "height": 295
        },
        "id": "MCCdwGvYWPiC",
        "outputId": "ebe11d50-02bb-4fe4-d8a2-a84a7c48c7b2"
      },
      "execution_count": 233,
      "outputs": [
        {
          "output_type": "display_data",
          "data": {
            "text/plain": [
              "<Figure size 432x288 with 1 Axes>"
            ],
            "image/png": "[encoded data removed]"
          },
          "metadata": {
            "needs_background": "light"
          }
        }
      ]
    },
    {
      "cell_type": "code",
      "source": [
        "y_pred = model_1.predict(X_test_expanded)\n",
        "y_pred = np.argmax(y_pred, axis = -1)\n",
        "accuracy_score(y_test, y_pred )*100"
      ],
      "metadata": {
        "colab": {
          "base_uri": "https://localhost:8080/"
        },
        "id": "djomYOvmWR6q",
        "outputId": "9468c389-e69e-4e86-a9ee-2fac2a8c3b2e"
      },
      "execution_count": 234,
      "outputs": [
        {
          "output_type": "stream",
          "name": "stdout",
          "text": [
            "313/313 [==============================] - 1s 2ms/step\n"
          ]
        },
        {
          "output_type": "execute_result",
          "data": {
            "text/plain": [
              "96.76"
            ]
          },
          "metadata": {},
          "execution_count": 234
        }
      ]
    },
    {
      "cell_type": "code",
      "source": [],
      "metadata": {
        "id": "4picaGjyWab6"
      },
      "execution_count": 234,
      "outputs": []
    },
    {
      "cell_type": "markdown",
      "source": [
        "Bài tập 2\n",
        "\n",
        "a. Xây dựng lại mô hình mạng CNN như hướng dẫn ở Mục 3, tuy nhiên sử dụng hàm kích hoạt Tanh cho hai lớp CONV.\n",
        "\n",
        "b. Tiến hành huấn luyện mô hình, sau đó vẽ đồ thị học với accuracy và loss.\n",
        "\n",
        "c. Đánh giá mô hình trên tập test và cho biết độ chính xác dự đoán"
      ],
      "metadata": {
        "id": "gXCe0v31WfFT"
      }
    },
    {
      "cell_type": "code",
      "source": [
        "model_2 = Sequential()\n",
        "model_2.add (Input(shape=(28,28,1)))\n",
        "model_2.add(Conv2D(32,padding=\"valid\",kernel_size=(3,3),activation=\"tanh\"))\n",
        "model_2.add(MaxPooling2D(pool_size=(2,2)))\n",
        "model_2.add(Conv2D(64,kernel_size=(3,3),activation='tanh'))\n",
        "model_2.add(MaxPooling2D(pool_size=(2,2)))\n",
        "model_2.add(Flatten())\n",
        "model_2.add(Dense(10,activation='softmax'))"
      ],
      "metadata": {
        "id": "1uoiOzmvWjI1"
      },
      "execution_count": 235,
      "outputs": []
    },
    {
      "cell_type": "code",
      "source": [
        "model_2.summary()"
      ],
      "metadata": {
        "colab": {
          "base_uri": "https://localhost:8080/"
        },
        "id": "0v-OMemDW5l1",
        "outputId": "3d373d94-2a78-4e91-8d5e-4c982cf5cd0e"
      },
      "execution_count": 236,
      "outputs": [
        {
          "output_type": "stream",
          "name": "stdout",
          "text": [
            "Model: \"sequential_22\"\n",
            "_________________________________________________________________\n",
            " Layer (type)                Output Shape              Param #   \n",
            "=================================================================\n",
            " conv2d_59 (Conv2D)          (None, 26, 26, 32)        320       \n",
            "                                                                 \n",
            " max_pooling2d_39 (MaxPoolin  (None, 13, 13, 32)       0         \n",
            " g2D)                                                            \n",
            "                                                                 \n",
            " conv2d_60 (Conv2D)          (None, 11, 11, 64)        18496     \n",
            "                                                                 \n",
            " max_pooling2d_40 (MaxPoolin  (None, 5, 5, 64)         0         \n",
            " g2D)                                                            \n",
            "                                                                 \n",
            " flatten_22 (Flatten)        (None, 1600)              0         \n",
            "                                                                 \n",
            " dense_42 (Dense)            (None, 10)                16010     \n",
            "                                                                 \n",
            "=================================================================\n",
            "Total params: 34,826\n",
            "Trainable params: 34,826\n",
            "Non-trainable params: 0\n",
            "_________________________________________________________________\n"
          ]
        }
      ]
    },
    {
      "cell_type": "code",
      "source": [
        "optimizer = Adam(learning_rate = 0.01)\n",
        "loss = CategoricalCrossentropy()\n",
        "model_2.compile(optimizer=optimizer, loss=loss, metrics=['accuracy'])"
      ],
      "metadata": {
        "id": "8N8smANOW7rE"
      },
      "execution_count": 237,
      "outputs": []
    },
    {
      "cell_type": "code",
      "source": [
        "history_2 = model_2.fit(X_train_expanded, y_train_new,batch_size=128, epochs=30,validation_data=(X_dev_expanded,y_dev_new))"
      ],
      "metadata": {
        "colab": {
          "base_uri": "https://localhost:8080/"
        },
        "id": "kAr7RQR5W-Gj",
        "outputId": "ef6e6f32-5029-41bc-c34a-0ec3b12fcea1"
      },
      "execution_count": 238,
      "outputs": [
        {
          "output_type": "stream",
          "name": "stdout",
          "text": [
            "Epoch 1/30\n",
            "422/422 [==============================] - 3s 6ms/step - loss: 0.2224 - accuracy: 0.9408 - val_loss: 0.1617 - val_accuracy: 0.9627\n",
            "Epoch 2/30\n",
            "422/422 [==============================] - 2s 6ms/step - loss: 0.2111 - accuracy: 0.9578 - val_loss: 0.2559 - val_accuracy: 0.9597\n",
            "Epoch 3/30\n",
            "422/422 [==============================] - 3s 6ms/step - loss: 0.2433 - accuracy: 0.9608 - val_loss: 0.3489 - val_accuracy: 0.9540\n",
            "Epoch 4/30\n",
            "422/422 [==============================] - 2s 5ms/step - loss: 0.2817 - accuracy: 0.9610 - val_loss: 0.4348 - val_accuracy: 0.9522\n",
            "Epoch 5/30\n",
            "422/422 [==============================] - 2s 5ms/step - loss: 0.2712 - accuracy: 0.9654 - val_loss: 0.3342 - val_accuracy: 0.9585\n",
            "Epoch 6/30\n",
            "422/422 [==============================] - 2s 5ms/step - loss: 0.2860 - accuracy: 0.9653 - val_loss: 0.3494 - val_accuracy: 0.9677\n",
            "Epoch 7/30\n",
            "422/422 [==============================] - 2s 5ms/step - loss: 0.2946 - accuracy: 0.9664 - val_loss: 0.4800 - val_accuracy: 0.9557\n",
            "Epoch 8/30\n",
            "422/422 [==============================] - 2s 5ms/step - loss: 0.3055 - accuracy: 0.9673 - val_loss: 0.3369 - val_accuracy: 0.9695\n",
            "Epoch 9/30\n",
            "422/422 [==============================] - 2s 5ms/step - loss: 0.2697 - accuracy: 0.9709 - val_loss: 0.4058 - val_accuracy: 0.9687\n",
            "Epoch 10/30\n",
            "422/422 [==============================] - 2s 5ms/step - loss: 0.2876 - accuracy: 0.9707 - val_loss: 0.3437 - val_accuracy: 0.9683\n",
            "Epoch 11/30\n",
            "422/422 [==============================] - 2s 5ms/step - loss: 0.3002 - accuracy: 0.9704 - val_loss: 0.4523 - val_accuracy: 0.9680\n",
            "Epoch 12/30\n",
            "422/422 [==============================] - 2s 5ms/step - loss: 0.2928 - accuracy: 0.9726 - val_loss: 0.4015 - val_accuracy: 0.9720\n",
            "Epoch 13/30\n",
            "422/422 [==============================] - 2s 5ms/step - loss: 0.3138 - accuracy: 0.9710 - val_loss: 0.3658 - val_accuracy: 0.9723\n",
            "Epoch 14/30\n",
            "422/422 [==============================] - 2s 5ms/step - loss: 0.2678 - accuracy: 0.9754 - val_loss: 0.4307 - val_accuracy: 0.9690\n",
            "Epoch 15/30\n",
            "422/422 [==============================] - 2s 5ms/step - loss: 0.2914 - accuracy: 0.9742 - val_loss: 0.4056 - val_accuracy: 0.9710\n",
            "Epoch 16/30\n",
            "422/422 [==============================] - 2s 5ms/step - loss: 0.2935 - accuracy: 0.9748 - val_loss: 0.4769 - val_accuracy: 0.9662\n",
            "Epoch 17/30\n",
            "422/422 [==============================] - 2s 5ms/step - loss: 0.2751 - accuracy: 0.9756 - val_loss: 0.5157 - val_accuracy: 0.9685\n",
            "Epoch 18/30\n",
            "422/422 [==============================] - 2s 5ms/step - loss: 0.3114 - accuracy: 0.9739 - val_loss: 0.4694 - val_accuracy: 0.9668\n",
            "Epoch 19/30\n",
            "422/422 [==============================] - 2s 5ms/step - loss: 0.2660 - accuracy: 0.9760 - val_loss: 0.4698 - val_accuracy: 0.9722\n",
            "Epoch 20/30\n",
            "422/422 [==============================] - 2s 5ms/step - loss: 0.2925 - accuracy: 0.9769 - val_loss: 0.4765 - val_accuracy: 0.9715\n",
            "Epoch 21/30\n",
            "422/422 [==============================] - 2s 5ms/step - loss: 0.2930 - accuracy: 0.9758 - val_loss: 0.4963 - val_accuracy: 0.9667\n",
            "Epoch 22/30\n",
            "422/422 [==============================] - 2s 5ms/step - loss: 0.3057 - accuracy: 0.9752 - val_loss: 0.6414 - val_accuracy: 0.9605\n",
            "Epoch 23/30\n",
            "422/422 [==============================] - 2s 5ms/step - loss: 0.3268 - accuracy: 0.9745 - val_loss: 0.4615 - val_accuracy: 0.9713\n",
            "Epoch 24/30\n",
            "422/422 [==============================] - 2s 5ms/step - loss: 0.3003 - accuracy: 0.9764 - val_loss: 0.4551 - val_accuracy: 0.9708\n",
            "Epoch 25/30\n",
            "422/422 [==============================] - 2s 5ms/step - loss: 0.2993 - accuracy: 0.9770 - val_loss: 0.5575 - val_accuracy: 0.9710\n",
            "Epoch 26/30\n",
            "422/422 [==============================] - 2s 5ms/step - loss: 0.2453 - accuracy: 0.9806 - val_loss: 0.4522 - val_accuracy: 0.9775\n",
            "Epoch 27/30\n",
            "422/422 [==============================] - 2s 5ms/step - loss: 0.2521 - accuracy: 0.9800 - val_loss: 0.6409 - val_accuracy: 0.9653\n",
            "Epoch 28/30\n",
            "422/422 [==============================] - 2s 5ms/step - loss: 0.2638 - accuracy: 0.9790 - val_loss: 0.5686 - val_accuracy: 0.9680\n",
            "Epoch 29/30\n",
            "422/422 [==============================] - 2s 5ms/step - loss: 0.2909 - accuracy: 0.9788 - val_loss: 0.5788 - val_accuracy: 0.9680\n",
            "Epoch 30/30\n",
            "422/422 [==============================] - 2s 5ms/step - loss: 0.2590 - accuracy: 0.9806 - val_loss: 0.4651 - val_accuracy: 0.9772\n"
          ]
        }
      ]
    },
    {
      "cell_type": "code",
      "source": [
        "import matplotlib.pyplot as  plt\n",
        "plt.plot(history_2.history['accuracy'])\n",
        "plt.plot(history_2.history['val_accuracy'])\n",
        "plt.title('model accuracy')\n",
        "plt.ylabel('accuracy')\n",
        "plt.xlabel('epoch')\n",
        "plt.legend(['train','val'], loc = 'upper left')\n",
        "plt.show()"
      ],
      "metadata": {
        "colab": {
          "base_uri": "https://localhost:8080/",
          "height": 295
        },
        "id": "DURppxn0XBZ0",
        "outputId": "964086ad-abbb-49f3-c8a8-b333c33d1462"
      },
      "execution_count": 239,
      "outputs": [
        {
          "output_type": "display_data",
          "data": {
            "text/plain": [
              "<Figure size 432x288 with 1 Axes>"
            ],
            "image/png": "[encoded data removed]"
          },
          "metadata": {
            "needs_background": "light"
          }
        }
      ]
    },
    {
      "cell_type": "code",
      "source": [
        "plt.plot(history_2.history['loss'])\n",
        "plt.plot(history_2.history['val_loss'])\n",
        "plt.title('model loss')\n",
        "plt.ylabel('loss')\n",
        "plt.xlabel('epoch')\n",
        "plt.legend(['train','val'], loc = 'upper left')\n",
        "plt.show()"
      ],
      "metadata": {
        "colab": {
          "base_uri": "https://localhost:8080/",
          "height": 295
        },
        "id": "1fYgBekwXFOy",
        "outputId": "0fb4bc46-266e-45aa-f88b-2385730d0bb3"
      },
      "execution_count": 240,
      "outputs": [
        {
          "output_type": "display_data",
          "data": {
            "text/plain": [
              "<Figure size 432x288 with 1 Axes>"
            ],
            "image/png": "[encoded data removed]"
          },
          "metadata": {
            "needs_background": "light"
          }
        }
      ]
    },
    {
      "cell_type": "code",
      "source": [
        "y_pred = model_2.predict(X_test_expanded)\n",
        "y_pred = np.argmax(y_pred, axis = -1)\n",
        "accuracy_score(y_test, y_pred )*100"
      ],
      "metadata": {
        "colab": {
          "base_uri": "https://localhost:8080/"
        },
        "id": "PxkEz9VJXlel",
        "outputId": "797faa2d-24fc-4ed8-bcaf-bd73a40e179e"
      },
      "execution_count": 241,
      "outputs": [
        {
          "output_type": "stream",
          "name": "stdout",
          "text": [
            "313/313 [==============================] - 1s 2ms/step\n"
          ]
        },
        {
          "output_type": "execute_result",
          "data": {
            "text/plain": [
              "97.89"
            ]
          },
          "metadata": {},
          "execution_count": 241
        }
      ]
    },
    {
      "cell_type": "markdown",
      "source": [
        "Bài tập 3\n",
        "\n",
        "a. Thực hiện tương tự như Bài tập 1, nhưng thêm lớp Dropout với giá trị p = 0.5 vào trước lớp Dense.\n",
        "\n",
        "b. Sử dụng lệnh summary và cho biết cấu trúc của mô hình đã xây dựng.\n",
        "\n",
        "c. Tiến hành huấn luyện mô hình, sau đó vẽ đồ thị học với accuracy và loss.\n",
        "\n",
        "d. Đánh giá mô hình trên tập test và cho biết độ chính xác dự đoán.\n",
        "\n",
        "e. Lưu lại mô hình thành file có định dạng .h5."
      ],
      "metadata": {
        "id": "pKVITLL6YEo7"
      }
    },
    {
      "cell_type": "code",
      "source": [
        "model_3 = Sequential()\n",
        "model_3.add(Input(shape = (28,28,1)))\n",
        "model_3.add(Conv2D(32,padding = \"valid\", kernel_size = (3,3), activation = \"relu\"))\n",
        "model_3.add(MaxPooling2D(pool_size = (2,2)))\n",
        "model_3.add(Conv2D(64,kernel_size = (3,3),activation = \"relu\"))\n",
        "model_3.add(MaxPooling2D(pool_size = (2,2)))\n",
        "model_3.add(Flatten())\n",
        "model_3.add(Dropout( 0.5))\n",
        "model_3.add(Dense(10,activation= \"softmax\"))"
      ],
      "metadata": {
        "id": "Ba3mSIQ5XoFu"
      },
      "execution_count": 242,
      "outputs": []
    },
    {
      "cell_type": "code",
      "source": [
        "model_3.summary()"
      ],
      "metadata": {
        "colab": {
          "base_uri": "https://localhost:8080/"
        },
        "id": "8WsTXx3AYPsD",
        "outputId": "b11156ff-9d56-44b5-e4ab-6dc6d9ff84ae"
      },
      "execution_count": 243,
      "outputs": [
        {
          "output_type": "stream",
          "name": "stdout",
          "text": [
            "Model: \"sequential_23\"\n",
            "_________________________________________________________________\n",
            " Layer (type)                Output Shape              Param #   \n",
            "=================================================================\n",
            " conv2d_61 (Conv2D)          (None, 26, 26, 32)        320       \n",
            "                                                                 \n",
            " max_pooling2d_41 (MaxPoolin  (None, 13, 13, 32)       0         \n",
            " g2D)                                                            \n",
            "                                                                 \n",
            " conv2d_62 (Conv2D)          (None, 11, 11, 64)        18496     \n",
            "                                                                 \n",
            " max_pooling2d_42 (MaxPoolin  (None, 5, 5, 64)         0         \n",
            " g2D)                                                            \n",
            "                                                                 \n",
            " flatten_23 (Flatten)        (None, 1600)              0         \n",
            "                                                                 \n",
            " dropout_2 (Dropout)         (None, 1600)              0         \n",
            "                                                                 \n",
            " dense_43 (Dense)            (None, 10)                16010     \n",
            "                                                                 \n",
            "=================================================================\n",
            "Total params: 34,826\n",
            "Trainable params: 34,826\n",
            "Non-trainable params: 0\n",
            "_________________________________________________________________\n"
          ]
        }
      ]
    },
    {
      "cell_type": "code",
      "source": [
        "optimizer = Adam(learning_rate = 0.01)\n",
        "loss = CategoricalCrossentropy()\n",
        "model_3.compile(optimizer=optimizer, loss=loss, metrics=['accuracy'])"
      ],
      "metadata": {
        "id": "Nkb41ghwYVHm"
      },
      "execution_count": 244,
      "outputs": []
    },
    {
      "cell_type": "code",
      "source": [
        "history_3 = model_3.fit(X_train_expanded, y_train_new,batch_size=128, epochs=30,validation_data=(X_dev_expanded,y_dev_new))"
      ],
      "metadata": {
        "colab": {
          "base_uri": "https://localhost:8080/"
        },
        "id": "yHfll_9EYXwN",
        "outputId": "4d72d680-3623-419c-fe41-04d00009bfc1"
      },
      "execution_count": 245,
      "outputs": [
        {
          "output_type": "stream",
          "name": "stdout",
          "text": [
            "Epoch 1/30\n",
            "422/422 [==============================] - 3s 6ms/step - loss: 0.9766 - accuracy: 0.8324 - val_loss: 0.1407 - val_accuracy: 0.9597\n",
            "Epoch 2/30\n",
            "422/422 [==============================] - 2s 5ms/step - loss: 0.2886 - accuracy: 0.9118 - val_loss: 0.1189 - val_accuracy: 0.9652\n",
            "Epoch 3/30\n",
            "422/422 [==============================] - 2s 5ms/step - loss: 0.2624 - accuracy: 0.9200 - val_loss: 0.1498 - val_accuracy: 0.9577\n",
            "Epoch 4/30\n",
            "422/422 [==============================] - 2s 5ms/step - loss: 0.2544 - accuracy: 0.9232 - val_loss: 0.1162 - val_accuracy: 0.9662\n",
            "Epoch 5/30\n",
            "422/422 [==============================] - 2s 5ms/step - loss: 0.2088 - accuracy: 0.9362 - val_loss: 0.1039 - val_accuracy: 0.9705\n",
            "Epoch 6/30\n",
            "422/422 [==============================] - 2s 5ms/step - loss: 0.2078 - accuracy: 0.9371 - val_loss: 0.1186 - val_accuracy: 0.9628\n",
            "Epoch 7/30\n",
            "422/422 [==============================] - 2s 5ms/step - loss: 0.2035 - accuracy: 0.9389 - val_loss: 0.0833 - val_accuracy: 0.9752\n",
            "Epoch 8/30\n",
            "422/422 [==============================] - 2s 5ms/step - loss: 0.1846 - accuracy: 0.9446 - val_loss: 0.1053 - val_accuracy: 0.9693\n",
            "Epoch 9/30\n",
            "422/422 [==============================] - 2s 5ms/step - loss: 0.1918 - accuracy: 0.9427 - val_loss: 0.0958 - val_accuracy: 0.9717\n",
            "Epoch 10/30\n",
            "422/422 [==============================] - 2s 6ms/step - loss: 0.1859 - accuracy: 0.9422 - val_loss: 0.1002 - val_accuracy: 0.9692\n",
            "Epoch 11/30\n",
            "422/422 [==============================] - 3s 6ms/step - loss: 0.1789 - accuracy: 0.9463 - val_loss: 0.0947 - val_accuracy: 0.9710\n",
            "Epoch 12/30\n",
            "422/422 [==============================] - 2s 5ms/step - loss: 0.1844 - accuracy: 0.9441 - val_loss: 0.0929 - val_accuracy: 0.9722\n",
            "Epoch 13/30\n",
            "422/422 [==============================] - 2s 5ms/step - loss: 0.1810 - accuracy: 0.9462 - val_loss: 0.0961 - val_accuracy: 0.9745\n",
            "Epoch 14/30\n",
            "422/422 [==============================] - 2s 5ms/step - loss: 0.1953 - accuracy: 0.9413 - val_loss: 0.1060 - val_accuracy: 0.9695\n",
            "Epoch 15/30\n",
            "422/422 [==============================] - 2s 5ms/step - loss: 0.1855 - accuracy: 0.9443 - val_loss: 0.1065 - val_accuracy: 0.9673\n",
            "Epoch 16/30\n",
            "422/422 [==============================] - 2s 5ms/step - loss: 0.1811 - accuracy: 0.9447 - val_loss: 0.1156 - val_accuracy: 0.9652\n",
            "Epoch 17/30\n",
            "422/422 [==============================] - 2s 5ms/step - loss: 0.1821 - accuracy: 0.9453 - val_loss: 0.1107 - val_accuracy: 0.9683\n",
            "Epoch 18/30\n",
            "422/422 [==============================] - 2s 5ms/step - loss: 0.1810 - accuracy: 0.9458 - val_loss: 0.1038 - val_accuracy: 0.9700\n",
            "Epoch 19/30\n",
            "422/422 [==============================] - 2s 5ms/step - loss: 0.1776 - accuracy: 0.9456 - val_loss: 0.0977 - val_accuracy: 0.9717\n",
            "Epoch 20/30\n",
            "422/422 [==============================] - 2s 5ms/step - loss: 0.1776 - accuracy: 0.9448 - val_loss: 0.1088 - val_accuracy: 0.9660\n",
            "Epoch 21/30\n",
            "422/422 [==============================] - 2s 5ms/step - loss: 0.1829 - accuracy: 0.9450 - val_loss: 0.1067 - val_accuracy: 0.9702\n",
            "Epoch 22/30\n",
            "422/422 [==============================] - 2s 5ms/step - loss: 0.1872 - accuracy: 0.9420 - val_loss: 0.1189 - val_accuracy: 0.9668\n",
            "Epoch 23/30\n",
            "422/422 [==============================] - 2s 5ms/step - loss: 0.1761 - accuracy: 0.9451 - val_loss: 0.1104 - val_accuracy: 0.9673\n",
            "Epoch 24/30\n",
            "422/422 [==============================] - 2s 5ms/step - loss: 0.1798 - accuracy: 0.9447 - val_loss: 0.1072 - val_accuracy: 0.9693\n",
            "Epoch 25/30\n",
            "422/422 [==============================] - 2s 5ms/step - loss: 0.2080 - accuracy: 0.9368 - val_loss: 0.1282 - val_accuracy: 0.9603\n",
            "Epoch 26/30\n",
            "422/422 [==============================] - 2s 5ms/step - loss: 0.2117 - accuracy: 0.9344 - val_loss: 0.1361 - val_accuracy: 0.9583\n",
            "Epoch 27/30\n",
            "422/422 [==============================] - 2s 5ms/step - loss: 0.2055 - accuracy: 0.9364 - val_loss: 0.1227 - val_accuracy: 0.9630\n",
            "Epoch 28/30\n",
            "422/422 [==============================] - 2s 5ms/step - loss: 0.2076 - accuracy: 0.9370 - val_loss: 0.1374 - val_accuracy: 0.9590\n",
            "Epoch 29/30\n",
            "422/422 [==============================] - 2s 5ms/step - loss: 0.1983 - accuracy: 0.9384 - val_loss: 0.1274 - val_accuracy: 0.9622\n",
            "Epoch 30/30\n",
            "422/422 [==============================] - 2s 5ms/step - loss: 0.1964 - accuracy: 0.9394 - val_loss: 0.1181 - val_accuracy: 0.9663\n"
          ]
        }
      ]
    },
    {
      "cell_type": "code",
      "source": [
        "import matplotlib.pyplot as  plt\n",
        "plt.plot(history_3.history['accuracy'])\n",
        "plt.plot(history_3.history['val_accuracy'])\n",
        "plt.title('model accuracy')\n",
        "plt.ylabel('accuracy')\n",
        "plt.xlabel('epoch')\n",
        "plt.legend(['train','val'], loc = 'upper left')\n",
        "plt.show()"
      ],
      "metadata": {
        "colab": {
          "base_uri": "https://localhost:8080/",
          "height": 295
        },
        "id": "lHGaQZBRYbJ5",
        "outputId": "7d0de381-c76b-468b-ccdc-805add3dc8fc"
      },
      "execution_count": 246,
      "outputs": [
        {
          "output_type": "display_data",
          "data": {
            "text/plain": [
              "<Figure size 432x288 with 1 Axes>"
            ],
            "image/png": "[encoded data removed]"
          },
          "metadata": {
            "needs_background": "light"
          }
        }
      ]
    },
    {
      "cell_type": "code",
      "source": [
        "plt.plot(history_3.history['loss'])\n",
        "plt.plot(history_3.history['val_loss'])\n",
        "plt.title('model loss')\n",
        "plt.ylabel('loss')\n",
        "plt.xlabel('epoch')\n",
        "plt.legend(['train','val'], loc = 'upper left')\n",
        "plt.show()"
      ],
      "metadata": {
        "colab": {
          "base_uri": "https://localhost:8080/",
          "height": 295
        },
        "id": "0pgxOtiCYxiv",
        "outputId": "53a494e1-a8b6-4381-d65b-b5dd6155596f"
      },
      "execution_count": 247,
      "outputs": [
        {
          "output_type": "display_data",
          "data": {
            "text/plain": [
              "<Figure size 432x288 with 1 Axes>"
            ],
            "image/png": "[encoded data removed]"
          },
          "metadata": {
            "needs_background": "light"
          }
        }
      ]
    },
    {
      "cell_type": "code",
      "source": [
        "y_pred = model_3.predict(X_test_expanded)\n",
        "y_pred = np.argmax(y_pred, axis = -1)\n",
        "accuracy_score(y_test, y_pred )*100"
      ],
      "metadata": {
        "colab": {
          "base_uri": "https://localhost:8080/"
        },
        "id": "NaTXTsLEYzCc",
        "outputId": "b8acc2b7-14fc-4c26-bc2d-686637fa98e1"
      },
      "execution_count": 248,
      "outputs": [
        {
          "output_type": "stream",
          "name": "stdout",
          "text": [
            "313/313 [==============================] - 1s 2ms/step\n"
          ]
        },
        {
          "output_type": "execute_result",
          "data": {
            "text/plain": [
              "96.66"
            ]
          },
          "metadata": {},
          "execution_count": 248
        }
      ]
    },
    {
      "cell_type": "code",
      "source": [
        "model_3.save('/content/drive/MyDrive/DS201/20521342_Baitap3.h5' )"
      ],
      "metadata": {
        "id": "jqocSeieY6pM"
      },
      "execution_count": 249,
      "outputs": []
    },
    {
      "cell_type": "markdown",
      "source": [
        "Bài tập 4*\n",
        "\n",
        "a. Tìm hiểu cấu trúc và xây dựng lại mạng ZFNET.\n",
        "\n",
        "b. Sử dụng lệnh summary và cho biết cấu trúc của mô hình đã xây dựng.\n",
        "\n",
        "c. Tiến hành huấn luyện mô hình với các thông số dưới đây, sau đó vẽ đồ thị học với accuracy và loss.\n",
        "\n",
        "● Hàm loss: CategoricalCrossentropy.\n",
        "\n",
        "● Hàm tối ưu: Adam, learning_rate=5e-4.\n",
        "\n",
        "● Độ đo đánh giá: Accuracy.\n",
        "\n",
        "● Batch_size: 256.\n",
        "\n",
        "● Epochs: 30.\n",
        "\n",
        "Trong quá trình huấn luyện có sử dụng kĩ thuật Early Stopping với các thông số sau:\n",
        "\n",
        "● monitor='val_loss'.\n",
        "\n",
        "● patience=1."
      ],
      "metadata": {
        "id": "SWH3-hAwZjJ7"
      }
    },
    {
      "cell_type": "code",
      "source": [
        "model_4 = Sequential()\n",
        "model_4.add(Conv2D(filters=96,kernel_size = (7,7), activation ='relu',input_shape=(28,28,1) ))\n",
        "model_4.add(MaxPooling2D(pool_size=(5,5),padding='same',strides=(2,2)))\n",
        "model_4.add(Conv2D(filters=256,kernel_size=(5,5),strides=(2,2),activation ='relu'))\n",
        "model_4.add(MaxPooling2D(pool_size=(3,3),strides=(2,2),padding='same'))\n",
        "model_4.add(Conv2D(filters=384,kernel_size=(3,3),padding='same',strides=(1,1),activation='relu'))\n",
        "model_4.add(Conv2D(filters=384,kernel_size=(3,3),padding='same',strides=(1,1),activation='relu'))\n",
        "model_4.add(Conv2D(filters=256,kernel_size=(3,3),padding='same',strides=(1,1),activation='relu'))\n",
        "model_4.add(MaxPooling2D(pool_size=(3,3),strides=(2,2),padding='same'))\n",
        "model_4.add(Flatten())\n",
        "model_4.add(Dense(4096,activation='relu'))\n",
        "model_4.add(Dense(4096,activation='relu'))\n",
        "model_4.add(Dense(10,activation='softmax'))"
      ],
      "metadata": {
        "id": "R8kKNkM1Zj8z"
      },
      "execution_count": 250,
      "outputs": []
    },
    {
      "cell_type": "code",
      "source": [
        "model_4.summary()"
      ],
      "metadata": {
        "colab": {
          "base_uri": "https://localhost:8080/"
        },
        "id": "FBZxUrvma2-A",
        "outputId": "3e1be050-da4c-4c15-b179-5e9952d048da"
      },
      "execution_count": 251,
      "outputs": [
        {
          "output_type": "stream",
          "name": "stdout",
          "text": [
            "Model: \"sequential_24\"\n",
            "_________________________________________________________________\n",
            " Layer (type)                Output Shape              Param #   \n",
            "=================================================================\n",
            " conv2d_63 (Conv2D)          (None, 22, 22, 96)        4800      \n",
            "                                                                 \n",
            " max_pooling2d_43 (MaxPoolin  (None, 11, 11, 96)       0         \n",
            " g2D)                                                            \n",
            "                                                                 \n",
            " conv2d_64 (Conv2D)          (None, 4, 4, 256)         614656    \n",
            "                                                                 \n",
            " max_pooling2d_44 (MaxPoolin  (None, 2, 2, 256)        0         \n",
            " g2D)                                                            \n",
            "                                                                 \n",
            " conv2d_65 (Conv2D)          (None, 2, 2, 384)         885120    \n",
            "                                                                 \n",
            " conv2d_66 (Conv2D)          (None, 2, 2, 384)         1327488   \n",
            "                                                                 \n",
            " conv2d_67 (Conv2D)          (None, 2, 2, 256)         884992    \n",
            "                                                                 \n",
            " max_pooling2d_45 (MaxPoolin  (None, 1, 1, 256)        0         \n",
            " g2D)                                                            \n",
            "                                                                 \n",
            " flatten_24 (Flatten)        (None, 256)               0         \n",
            "                                                                 \n",
            " dense_44 (Dense)            (None, 4096)              1052672   \n",
            "                                                                 \n",
            " dense_45 (Dense)            (None, 4096)              16781312  \n",
            "                                                                 \n",
            " dense_46 (Dense)            (None, 10)                40970     \n",
            "                                                                 \n",
            "=================================================================\n",
            "Total params: 21,592,010\n",
            "Trainable params: 21,592,010\n",
            "Non-trainable params: 0\n",
            "_________________________________________________________________\n"
          ]
        }
      ]
    },
    {
      "cell_type": "code",
      "source": [
        "optimizer = Adam(learning_rate = 5e-4)\n",
        "loss = CategoricalCrossentropy()\n",
        "model_4.compile(optimizer=optimizer, loss=loss, metrics=['accuracy'])"
      ],
      "metadata": {
        "id": "pAMaoB7ya5km"
      },
      "execution_count": 252,
      "outputs": []
    },
    {
      "cell_type": "code",
      "source": [
        "from keras.callbacks import EarlyStopping\n",
        "callback = EarlyStopping(monitor=\"val_loss\", patience=1)"
      ],
      "metadata": {
        "id": "H4ExSUECbJlg"
      },
      "execution_count": 253,
      "outputs": []
    },
    {
      "cell_type": "code",
      "source": [
        "history_4 = model_4.fit(X_train_expanded, y_train_new,batch_size=256, epochs=30,validation_data=(X_dev_expanded,y_dev_new),callbacks = callback)"
      ],
      "metadata": {
        "colab": {
          "base_uri": "https://localhost:8080/"
        },
        "id": "w__iA0y7bLnp",
        "outputId": "30bb5e84-5738-4b41-c4ed-b6b93030102e"
      },
      "execution_count": 254,
      "outputs": [
        {
          "output_type": "stream",
          "name": "stdout",
          "text": [
            "Epoch 1/30\n",
            "211/211 [==============================] - 10s 41ms/step - loss: 0.4531 - accuracy: 0.8765 - val_loss: 0.1040 - val_accuracy: 0.9678\n",
            "Epoch 2/30\n",
            "211/211 [==============================] - 8s 40ms/step - loss: 0.0609 - accuracy: 0.9819 - val_loss: 0.0759 - val_accuracy: 0.9773\n",
            "Epoch 3/30\n",
            "211/211 [==============================] - 9s 41ms/step - loss: 0.0438 - accuracy: 0.9867 - val_loss: 0.0478 - val_accuracy: 0.9858\n",
            "Epoch 4/30\n",
            "211/211 [==============================] - 9s 41ms/step - loss: 0.0325 - accuracy: 0.9903 - val_loss: 0.0483 - val_accuracy: 0.9878\n"
          ]
        }
      ]
    },
    {
      "cell_type": "code",
      "source": [
        "import matplotlib.pyplot as  plt\n",
        "plt.plot(history_4.history['accuracy'])\n",
        "plt.plot(history_4.history['val_accuracy'])\n",
        "plt.title('model accuracy')\n",
        "plt.ylabel('accuracy')\n",
        "plt.xlabel('epoch')\n",
        "plt.legend(['train','val'], loc = 'upper left')\n",
        "plt.show()"
      ],
      "metadata": {
        "colab": {
          "base_uri": "https://localhost:8080/",
          "height": 295
        },
        "id": "Jpwp0wo1bOQE",
        "outputId": "6c609e42-b092-4d30-9a0a-2ac887315aca"
      },
      "execution_count": 255,
      "outputs": [
        {
          "output_type": "display_data",
          "data": {
            "text/plain": [
              "<Figure size 432x288 with 1 Axes>"
            ],
            "image/png": "[encoded data removed]"
          },
          "metadata": {
            "needs_background": "light"
          }
        }
      ]
    },
    {
      "cell_type": "code",
      "source": [
        "plt.plot(history_4.history['loss'])\n",
        "plt.plot(history_4.history['val_loss'])\n",
        "plt.title('model loss')\n",
        "plt.ylabel('loss')\n",
        "plt.xlabel('epoch')\n",
        "plt.legend(['train','val'], loc = 'upper left')\n",
        "plt.show()"
      ],
      "metadata": {
        "colab": {
          "base_uri": "https://localhost:8080/",
          "height": 295
        },
        "id": "S0Gj9M3Pmjkg",
        "outputId": "65009dc7-a9fd-43ff-e3d0-bbb67dfa90d4"
      },
      "execution_count": 256,
      "outputs": [
        {
          "output_type": "display_data",
          "data": {
            "text/plain": [
              "<Figure size 432x288 with 1 Axes>"
            ],
            "image/png": "[encoded data removed]"
          },
          "metadata": {
            "needs_background": "light"
          }
        }
      ]
    },
    {
      "cell_type": "code",
      "source": [
        "y_pred = model_4.predict(X_test_expanded)\n",
        "y_pred = np.argmax(y_pred, axis = -1)\n",
        "accuracy_score(y_test, y_pred )*100"
      ],
      "metadata": {
        "colab": {
          "base_uri": "https://localhost:8080/"
        },
        "id": "hnsU0PRWmmz_",
        "outputId": "8beac999-4422-4170-eba1-817dff6e018c"
      },
      "execution_count": 257,
      "outputs": [
        {
          "output_type": "stream",
          "name": "stdout",
          "text": [
            "313/313 [==============================] - 1s 3ms/step\n"
          ]
        },
        {
          "output_type": "execute_result",
          "data": {
            "text/plain": [
              "98.89"
            ]
          },
          "metadata": {},
          "execution_count": 257
        }
      ]
    },
    {
      "cell_type": "code",
      "source": [],
      "metadata": {
        "id": "7CqG112x2iBW"
      },
      "execution_count": null,
      "outputs": []
    }
  ]
}